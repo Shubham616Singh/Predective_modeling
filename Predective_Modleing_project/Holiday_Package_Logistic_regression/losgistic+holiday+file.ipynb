{
 "cells": [
  {
   "cell_type": "code",
   "execution_count": 89,
   "id": "01a80a18",
   "metadata": {},
   "outputs": [],
   "source": [
    "import numpy as np\n",
    "import pandas as pd\n",
    "import seaborn as sns\n",
    "import matplotlib.pyplot as plt"
   ]
  },
  {
   "cell_type": "code",
   "execution_count": 90,
   "id": "ff72ee01",
   "metadata": {},
   "outputs": [],
   "source": [
    "df=pd.read_csv('C:\\\\Users\\\\ravi\\\\Desktop\\\\data analytics\\\\predective analytics\\\\final project\\\\Holiday_Package.csv')"
   ]
  },
  {
   "cell_type": "code",
   "execution_count": 91,
   "id": "54c8d1dc",
   "metadata": {},
   "outputs": [
    {
     "data": {
      "text/html": [
       "<div>\n",
       "<style scoped>\n",
       "    .dataframe tbody tr th:only-of-type {\n",
       "        vertical-align: middle;\n",
       "    }\n",
       "\n",
       "    .dataframe tbody tr th {\n",
       "        vertical-align: top;\n",
       "    }\n",
       "\n",
       "    .dataframe thead th {\n",
       "        text-align: right;\n",
       "    }\n",
       "</style>\n",
       "<table border=\"1\" class=\"dataframe\">\n",
       "  <thead>\n",
       "    <tr style=\"text-align: right;\">\n",
       "      <th></th>\n",
       "      <th>Unnamed: 0</th>\n",
       "      <th>Holliday_Package</th>\n",
       "      <th>Salary</th>\n",
       "      <th>age</th>\n",
       "      <th>educ</th>\n",
       "      <th>no_young_children</th>\n",
       "      <th>no_older_children</th>\n",
       "      <th>foreign</th>\n",
       "    </tr>\n",
       "  </thead>\n",
       "  <tbody>\n",
       "    <tr>\n",
       "      <th>0</th>\n",
       "      <td>1</td>\n",
       "      <td>no</td>\n",
       "      <td>48412</td>\n",
       "      <td>30</td>\n",
       "      <td>8</td>\n",
       "      <td>1</td>\n",
       "      <td>1</td>\n",
       "      <td>no</td>\n",
       "    </tr>\n",
       "    <tr>\n",
       "      <th>1</th>\n",
       "      <td>2</td>\n",
       "      <td>yes</td>\n",
       "      <td>37207</td>\n",
       "      <td>45</td>\n",
       "      <td>8</td>\n",
       "      <td>0</td>\n",
       "      <td>1</td>\n",
       "      <td>no</td>\n",
       "    </tr>\n",
       "    <tr>\n",
       "      <th>2</th>\n",
       "      <td>3</td>\n",
       "      <td>no</td>\n",
       "      <td>58022</td>\n",
       "      <td>46</td>\n",
       "      <td>9</td>\n",
       "      <td>0</td>\n",
       "      <td>0</td>\n",
       "      <td>no</td>\n",
       "    </tr>\n",
       "    <tr>\n",
       "      <th>3</th>\n",
       "      <td>4</td>\n",
       "      <td>no</td>\n",
       "      <td>66503</td>\n",
       "      <td>31</td>\n",
       "      <td>11</td>\n",
       "      <td>2</td>\n",
       "      <td>0</td>\n",
       "      <td>no</td>\n",
       "    </tr>\n",
       "    <tr>\n",
       "      <th>4</th>\n",
       "      <td>5</td>\n",
       "      <td>no</td>\n",
       "      <td>66734</td>\n",
       "      <td>44</td>\n",
       "      <td>12</td>\n",
       "      <td>0</td>\n",
       "      <td>2</td>\n",
       "      <td>no</td>\n",
       "    </tr>\n",
       "  </tbody>\n",
       "</table>\n",
       "</div>"
      ],
      "text/plain": [
       "   Unnamed: 0 Holliday_Package  Salary  age  educ  no_young_children  \\\n",
       "0           1               no   48412   30     8                  1   \n",
       "1           2              yes   37207   45     8                  0   \n",
       "2           3               no   58022   46     9                  0   \n",
       "3           4               no   66503   31    11                  2   \n",
       "4           5               no   66734   44    12                  0   \n",
       "\n",
       "   no_older_children foreign  \n",
       "0                  1      no  \n",
       "1                  1      no  \n",
       "2                  0      no  \n",
       "3                  0      no  \n",
       "4                  2      no  "
      ]
     },
     "execution_count": 91,
     "metadata": {},
     "output_type": "execute_result"
    }
   ],
   "source": [
    "df.head()"
   ]
  },
  {
   "cell_type": "code",
   "execution_count": 44,
   "id": "5ef37366",
   "metadata": {},
   "outputs": [
    {
     "data": {
      "text/plain": [
       "(872, 8)"
      ]
     },
     "execution_count": 44,
     "metadata": {},
     "output_type": "execute_result"
    }
   ],
   "source": [
    "df.shape"
   ]
  },
  {
   "cell_type": "code",
   "execution_count": 45,
   "id": "cd16eb14",
   "metadata": {},
   "outputs": [
    {
     "name": "stdout",
     "output_type": "stream",
     "text": [
      "<class 'pandas.core.frame.DataFrame'>\n",
      "RangeIndex: 872 entries, 0 to 871\n",
      "Data columns (total 8 columns):\n",
      " #   Column             Non-Null Count  Dtype \n",
      "---  ------             --------------  ----- \n",
      " 0   Unnamed: 0         872 non-null    int64 \n",
      " 1   Holliday_Package   872 non-null    object\n",
      " 2   Salary             872 non-null    int64 \n",
      " 3   age                872 non-null    int64 \n",
      " 4   educ               872 non-null    int64 \n",
      " 5   no_young_children  872 non-null    int64 \n",
      " 6   no_older_children  872 non-null    int64 \n",
      " 7   foreign            872 non-null    object\n",
      "dtypes: int64(6), object(2)\n",
      "memory usage: 54.6+ KB\n"
     ]
    }
   ],
   "source": [
    "df.info()"
   ]
  },
  {
   "cell_type": "code",
   "execution_count": 46,
   "id": "aa26bbb5",
   "metadata": {},
   "outputs": [
    {
     "data": {
      "text/html": [
       "<div>\n",
       "<style scoped>\n",
       "    .dataframe tbody tr th:only-of-type {\n",
       "        vertical-align: middle;\n",
       "    }\n",
       "\n",
       "    .dataframe tbody tr th {\n",
       "        vertical-align: top;\n",
       "    }\n",
       "\n",
       "    .dataframe thead th {\n",
       "        text-align: right;\n",
       "    }\n",
       "</style>\n",
       "<table border=\"1\" class=\"dataframe\">\n",
       "  <thead>\n",
       "    <tr style=\"text-align: right;\">\n",
       "      <th></th>\n",
       "      <th>count</th>\n",
       "      <th>mean</th>\n",
       "      <th>std</th>\n",
       "      <th>min</th>\n",
       "      <th>25%</th>\n",
       "      <th>50%</th>\n",
       "      <th>75%</th>\n",
       "      <th>max</th>\n",
       "    </tr>\n",
       "  </thead>\n",
       "  <tbody>\n",
       "    <tr>\n",
       "      <th>Unnamed: 0</th>\n",
       "      <td>872.0</td>\n",
       "      <td>436.500000</td>\n",
       "      <td>251.869014</td>\n",
       "      <td>1.0</td>\n",
       "      <td>218.75</td>\n",
       "      <td>436.5</td>\n",
       "      <td>654.25</td>\n",
       "      <td>872.0</td>\n",
       "    </tr>\n",
       "    <tr>\n",
       "      <th>Salary</th>\n",
       "      <td>872.0</td>\n",
       "      <td>47729.172018</td>\n",
       "      <td>23418.668531</td>\n",
       "      <td>1322.0</td>\n",
       "      <td>35324.00</td>\n",
       "      <td>41903.5</td>\n",
       "      <td>53469.50</td>\n",
       "      <td>236961.0</td>\n",
       "    </tr>\n",
       "    <tr>\n",
       "      <th>age</th>\n",
       "      <td>872.0</td>\n",
       "      <td>39.955275</td>\n",
       "      <td>10.551675</td>\n",
       "      <td>20.0</td>\n",
       "      <td>32.00</td>\n",
       "      <td>39.0</td>\n",
       "      <td>48.00</td>\n",
       "      <td>62.0</td>\n",
       "    </tr>\n",
       "    <tr>\n",
       "      <th>educ</th>\n",
       "      <td>872.0</td>\n",
       "      <td>9.307339</td>\n",
       "      <td>3.036259</td>\n",
       "      <td>1.0</td>\n",
       "      <td>8.00</td>\n",
       "      <td>9.0</td>\n",
       "      <td>12.00</td>\n",
       "      <td>21.0</td>\n",
       "    </tr>\n",
       "    <tr>\n",
       "      <th>no_young_children</th>\n",
       "      <td>872.0</td>\n",
       "      <td>0.311927</td>\n",
       "      <td>0.612870</td>\n",
       "      <td>0.0</td>\n",
       "      <td>0.00</td>\n",
       "      <td>0.0</td>\n",
       "      <td>0.00</td>\n",
       "      <td>3.0</td>\n",
       "    </tr>\n",
       "    <tr>\n",
       "      <th>no_older_children</th>\n",
       "      <td>872.0</td>\n",
       "      <td>0.982798</td>\n",
       "      <td>1.086786</td>\n",
       "      <td>0.0</td>\n",
       "      <td>0.00</td>\n",
       "      <td>1.0</td>\n",
       "      <td>2.00</td>\n",
       "      <td>6.0</td>\n",
       "    </tr>\n",
       "  </tbody>\n",
       "</table>\n",
       "</div>"
      ],
      "text/plain": [
       "                   count          mean           std     min       25%  \\\n",
       "Unnamed: 0         872.0    436.500000    251.869014     1.0    218.75   \n",
       "Salary             872.0  47729.172018  23418.668531  1322.0  35324.00   \n",
       "age                872.0     39.955275     10.551675    20.0     32.00   \n",
       "educ               872.0      9.307339      3.036259     1.0      8.00   \n",
       "no_young_children  872.0      0.311927      0.612870     0.0      0.00   \n",
       "no_older_children  872.0      0.982798      1.086786     0.0      0.00   \n",
       "\n",
       "                       50%       75%       max  \n",
       "Unnamed: 0           436.5    654.25     872.0  \n",
       "Salary             41903.5  53469.50  236961.0  \n",
       "age                   39.0     48.00      62.0  \n",
       "educ                   9.0     12.00      21.0  \n",
       "no_young_children      0.0      0.00       3.0  \n",
       "no_older_children      1.0      2.00       6.0  "
      ]
     },
     "execution_count": 46,
     "metadata": {},
     "output_type": "execute_result"
    }
   ],
   "source": [
    "df.describe().T"
   ]
  },
  {
   "cell_type": "code",
   "execution_count": 47,
   "id": "6196542e",
   "metadata": {},
   "outputs": [],
   "source": [
    "dfn=df.drop(columns='Unnamed: 0', axis=1)"
   ]
  },
  {
   "cell_type": "code",
   "execution_count": 48,
   "id": "786065ca",
   "metadata": {},
   "outputs": [
    {
     "data": {
      "text/html": [
       "<div>\n",
       "<style scoped>\n",
       "    .dataframe tbody tr th:only-of-type {\n",
       "        vertical-align: middle;\n",
       "    }\n",
       "\n",
       "    .dataframe tbody tr th {\n",
       "        vertical-align: top;\n",
       "    }\n",
       "\n",
       "    .dataframe thead th {\n",
       "        text-align: right;\n",
       "    }\n",
       "</style>\n",
       "<table border=\"1\" class=\"dataframe\">\n",
       "  <thead>\n",
       "    <tr style=\"text-align: right;\">\n",
       "      <th></th>\n",
       "      <th>Holliday_Package</th>\n",
       "      <th>Salary</th>\n",
       "      <th>age</th>\n",
       "      <th>educ</th>\n",
       "      <th>no_young_children</th>\n",
       "      <th>no_older_children</th>\n",
       "      <th>foreign</th>\n",
       "    </tr>\n",
       "  </thead>\n",
       "  <tbody>\n",
       "    <tr>\n",
       "      <th>0</th>\n",
       "      <td>no</td>\n",
       "      <td>48412</td>\n",
       "      <td>30</td>\n",
       "      <td>8</td>\n",
       "      <td>1</td>\n",
       "      <td>1</td>\n",
       "      <td>no</td>\n",
       "    </tr>\n",
       "    <tr>\n",
       "      <th>1</th>\n",
       "      <td>yes</td>\n",
       "      <td>37207</td>\n",
       "      <td>45</td>\n",
       "      <td>8</td>\n",
       "      <td>0</td>\n",
       "      <td>1</td>\n",
       "      <td>no</td>\n",
       "    </tr>\n",
       "    <tr>\n",
       "      <th>2</th>\n",
       "      <td>no</td>\n",
       "      <td>58022</td>\n",
       "      <td>46</td>\n",
       "      <td>9</td>\n",
       "      <td>0</td>\n",
       "      <td>0</td>\n",
       "      <td>no</td>\n",
       "    </tr>\n",
       "    <tr>\n",
       "      <th>3</th>\n",
       "      <td>no</td>\n",
       "      <td>66503</td>\n",
       "      <td>31</td>\n",
       "      <td>11</td>\n",
       "      <td>2</td>\n",
       "      <td>0</td>\n",
       "      <td>no</td>\n",
       "    </tr>\n",
       "    <tr>\n",
       "      <th>4</th>\n",
       "      <td>no</td>\n",
       "      <td>66734</td>\n",
       "      <td>44</td>\n",
       "      <td>12</td>\n",
       "      <td>0</td>\n",
       "      <td>2</td>\n",
       "      <td>no</td>\n",
       "    </tr>\n",
       "  </tbody>\n",
       "</table>\n",
       "</div>"
      ],
      "text/plain": [
       "  Holliday_Package  Salary  age  educ  no_young_children  no_older_children  \\\n",
       "0               no   48412   30     8                  1                  1   \n",
       "1              yes   37207   45     8                  0                  1   \n",
       "2               no   58022   46     9                  0                  0   \n",
       "3               no   66503   31    11                  2                  0   \n",
       "4               no   66734   44    12                  0                  2   \n",
       "\n",
       "  foreign  \n",
       "0      no  \n",
       "1      no  \n",
       "2      no  \n",
       "3      no  \n",
       "4      no  "
      ]
     },
     "execution_count": 48,
     "metadata": {},
     "output_type": "execute_result"
    }
   ],
   "source": [
    "dfn.head()"
   ]
  },
  {
   "cell_type": "code",
   "execution_count": 49,
   "id": "13e8361e",
   "metadata": {},
   "outputs": [
    {
     "data": {
      "text/plain": [
       "no     471\n",
       "yes    401\n",
       "Name: Holliday_Package, dtype: int64"
      ]
     },
     "execution_count": 49,
     "metadata": {},
     "output_type": "execute_result"
    }
   ],
   "source": [
    "dfn['Holliday_Package'].value_counts()"
   ]
  },
  {
   "cell_type": "code",
   "execution_count": 50,
   "id": "f1c0039b",
   "metadata": {},
   "outputs": [
    {
     "data": {
      "text/plain": [
       "no     656\n",
       "yes    216\n",
       "Name: foreign, dtype: int64"
      ]
     },
     "execution_count": 50,
     "metadata": {},
     "output_type": "execute_result"
    }
   ],
   "source": [
    "dfn['foreign'].value_counts()"
   ]
  },
  {
   "cell_type": "code",
   "execution_count": 51,
   "id": "d4696fa2",
   "metadata": {},
   "outputs": [
    {
     "data": {
      "text/plain": [
       "0    393\n",
       "2    208\n",
       "1    198\n",
       "3     55\n",
       "4     14\n",
       "5      2\n",
       "6      2\n",
       "Name: no_older_children, dtype: int64"
      ]
     },
     "execution_count": 51,
     "metadata": {},
     "output_type": "execute_result"
    }
   ],
   "source": [
    "dfn['no_older_children'].value_counts()"
   ]
  },
  {
   "cell_type": "code",
   "execution_count": 52,
   "id": "dd55091c",
   "metadata": {},
   "outputs": [
    {
     "data": {
      "text/plain": [
       "0    665\n",
       "1    147\n",
       "2     55\n",
       "3      5\n",
       "Name: no_young_children, dtype: int64"
      ]
     },
     "execution_count": 52,
     "metadata": {},
     "output_type": "execute_result"
    }
   ],
   "source": [
    "dfn['no_young_children'].value_counts()"
   ]
  },
  {
   "cell_type": "code",
   "execution_count": 53,
   "id": "7648fa76",
   "metadata": {},
   "outputs": [
    {
     "data": {
      "text/plain": [
       "Index(['Holliday_Package', 'Salary', 'age', 'educ', 'no_young_children',\n",
       "       'no_older_children', 'foreign'],\n",
       "      dtype='object')"
      ]
     },
     "execution_count": 53,
     "metadata": {},
     "output_type": "execute_result"
    }
   ],
   "source": [
    "dfn.columns"
   ]
  },
  {
   "cell_type": "code",
   "execution_count": 54,
   "id": "bf01f797",
   "metadata": {
    "scrolled": false
   },
   "outputs": [
    {
     "name": "stderr",
     "output_type": "stream",
     "text": [
      "C:\\Users\\ravi\\anaconda3\\lib\\site-packages\\seaborn\\_decorators.py:36: FutureWarning: Pass the following variable as a keyword arg: x. From version 0.12, the only valid positional argument will be `data`, and passing other arguments without an explicit keyword will result in an error or misinterpretation.\n",
      "  warnings.warn(\n"
     ]
    },
    {
     "data": {
      "image/png": "[encoded data removed]",
      "text/plain": [
       "<Figure size 432x288 with 1 Axes>"
      ]
     },
     "metadata": {
      "needs_background": "light"
     },
     "output_type": "display_data"
    },
    {
     "name": "stderr",
     "output_type": "stream",
     "text": [
      "C:\\Users\\ravi\\anaconda3\\lib\\site-packages\\seaborn\\_decorators.py:36: FutureWarning: Pass the following variable as a keyword arg: x. From version 0.12, the only valid positional argument will be `data`, and passing other arguments without an explicit keyword will result in an error or misinterpretation.\n",
      "  warnings.warn(\n"
     ]
    },
    {
     "data": {
      "image/png": "[encoded data removed]",
      "text/plain": [
       "<Figure size 432x288 with 1 Axes>"
      ]
     },
     "metadata": {
      "needs_background": "light"
     },
     "output_type": "display_data"
    },
    {
     "name": "stderr",
     "output_type": "stream",
     "text": [
      "C:\\Users\\ravi\\anaconda3\\lib\\site-packages\\seaborn\\_decorators.py:36: FutureWarning: Pass the following variable as a keyword arg: x. From version 0.12, the only valid positional argument will be `data`, and passing other arguments without an explicit keyword will result in an error or misinterpretation.\n",
      "  warnings.warn(\n"
     ]
    },
    {
     "data": {
      "image/png": "[encoded data removed]",
      "text/plain": [
       "<Figure size 432x288 with 1 Axes>"
      ]
     },
     "metadata": {
      "needs_background": "light"
     },
     "output_type": "display_data"
    },
    {
     "name": "stderr",
     "output_type": "stream",
     "text": [
      "C:\\Users\\ravi\\anaconda3\\lib\\site-packages\\seaborn\\_decorators.py:36: FutureWarning: Pass the following variable as a keyword arg: x. From version 0.12, the only valid positional argument will be `data`, and passing other arguments without an explicit keyword will result in an error or misinterpretation.\n",
      "  warnings.warn(\n"
     ]
    },
    {
     "data": {
      "image/png": "[encoded data removed]",
      "text/plain": [
       "<Figure size 432x288 with 1 Axes>"
      ]
     },
     "metadata": {
      "needs_background": "light"
     },
     "output_type": "display_data"
    },
    {
     "name": "stderr",
     "output_type": "stream",
     "text": [
      "C:\\Users\\ravi\\anaconda3\\lib\\site-packages\\seaborn\\_decorators.py:36: FutureWarning: Pass the following variable as a keyword arg: x. From version 0.12, the only valid positional argument will be `data`, and passing other arguments without an explicit keyword will result in an error or misinterpretation.\n",
      "  warnings.warn(\n"
     ]
    },
    {
     "data": {
      "image/png": "[encoded data removed]",
      "text/plain": [
       "<Figure size 432x288 with 1 Axes>"
      ]
     },
     "metadata": {
      "needs_background": "light"
     },
     "output_type": "display_data"
    },
    {
     "name": "stderr",
     "output_type": "stream",
     "text": [
      "C:\\Users\\ravi\\anaconda3\\lib\\site-packages\\seaborn\\_decorators.py:36: FutureWarning: Pass the following variable as a keyword arg: x. From version 0.12, the only valid positional argument will be `data`, and passing other arguments without an explicit keyword will result in an error or misinterpretation.\n",
      "  warnings.warn(\n"
     ]
    },
    {
     "ename": "TypeError",
     "evalue": "Horizontal orientation requires numeric `x` variable.",
     "output_type": "error",
     "traceback": [
      "\u001b[1;31m---------------------------------------------------------------------------\u001b[0m",
      "\u001b[1;31mTypeError\u001b[0m                                 Traceback (most recent call last)",
      "\u001b[1;32m~\\AppData\\Local\\Temp/ipykernel_14436/2976218712.py\u001b[0m in \u001b[0;36m<module>\u001b[1;34m\u001b[0m\n\u001b[0;32m      2\u001b[0m        'no_older_children', 'foreign']\n\u001b[0;32m      3\u001b[0m \u001b[1;32mfor\u001b[0m \u001b[0mi\u001b[0m \u001b[1;32min\u001b[0m \u001b[0mcols\u001b[0m\u001b[1;33m:\u001b[0m\u001b[1;33m\u001b[0m\u001b[1;33m\u001b[0m\u001b[0m\n\u001b[1;32m----> 4\u001b[1;33m     \u001b[0msns\u001b[0m\u001b[1;33m.\u001b[0m\u001b[0mboxplot\u001b[0m\u001b[1;33m(\u001b[0m\u001b[0mdfn\u001b[0m\u001b[1;33m[\u001b[0m\u001b[0mi\u001b[0m\u001b[1;33m]\u001b[0m\u001b[1;33m,\u001b[0m\u001b[0mwhis\u001b[0m\u001b[1;33m=\u001b[0m\u001b[1;36m1.5\u001b[0m\u001b[1;33m)\u001b[0m\u001b[1;33m\u001b[0m\u001b[1;33m\u001b[0m\u001b[0m\n\u001b[0m\u001b[0;32m      5\u001b[0m     \u001b[0mplt\u001b[0m\u001b[1;33m.\u001b[0m\u001b[0mgrid\u001b[0m\u001b[1;33m(\u001b[0m\u001b[1;33m)\u001b[0m\u001b[1;33m\u001b[0m\u001b[1;33m\u001b[0m\u001b[0m\n\u001b[0;32m      6\u001b[0m     \u001b[0mplt\u001b[0m\u001b[1;33m.\u001b[0m\u001b[0mshow\u001b[0m\u001b[1;33m(\u001b[0m\u001b[1;33m)\u001b[0m\u001b[1;33m;\u001b[0m\u001b[1;33m\u001b[0m\u001b[1;33m\u001b[0m\u001b[0m\n",
      "\u001b[1;32m~\\anaconda3\\lib\\site-packages\\seaborn\\_decorators.py\u001b[0m in \u001b[0;36minner_f\u001b[1;34m(*args, **kwargs)\u001b[0m\n\u001b[0;32m     44\u001b[0m             )\n\u001b[0;32m     45\u001b[0m         \u001b[0mkwargs\u001b[0m\u001b[1;33m.\u001b[0m\u001b[0mupdate\u001b[0m\u001b[1;33m(\u001b[0m\u001b[1;33m{\u001b[0m\u001b[0mk\u001b[0m\u001b[1;33m:\u001b[0m \u001b[0marg\u001b[0m \u001b[1;32mfor\u001b[0m \u001b[0mk\u001b[0m\u001b[1;33m,\u001b[0m \u001b[0marg\u001b[0m \u001b[1;32min\u001b[0m \u001b[0mzip\u001b[0m\u001b[1;33m(\u001b[0m\u001b[0msig\u001b[0m\u001b[1;33m.\u001b[0m\u001b[0mparameters\u001b[0m\u001b[1;33m,\u001b[0m \u001b[0margs\u001b[0m\u001b[1;33m)\u001b[0m\u001b[1;33m}\u001b[0m\u001b[1;33m)\u001b[0m\u001b[1;33m\u001b[0m\u001b[1;33m\u001b[0m\u001b[0m\n\u001b[1;32m---> 46\u001b[1;33m         \u001b[1;32mreturn\u001b[0m \u001b[0mf\u001b[0m\u001b[1;33m(\u001b[0m\u001b[1;33m**\u001b[0m\u001b[0mkwargs\u001b[0m\u001b[1;33m)\u001b[0m\u001b[1;33m\u001b[0m\u001b[1;33m\u001b[0m\u001b[0m\n\u001b[0m\u001b[0;32m     47\u001b[0m     \u001b[1;32mreturn\u001b[0m \u001b[0minner_f\u001b[0m\u001b[1;33m\u001b[0m\u001b[1;33m\u001b[0m\u001b[0m\n\u001b[0;32m     48\u001b[0m \u001b[1;33m\u001b[0m\u001b[0m\n",
      "\u001b[1;32m~\\anaconda3\\lib\\site-packages\\seaborn\\categorical.py\u001b[0m in \u001b[0;36mboxplot\u001b[1;34m(x, y, hue, data, order, hue_order, orient, color, palette, saturation, width, dodge, fliersize, linewidth, whis, ax, **kwargs)\u001b[0m\n\u001b[0;32m   2241\u001b[0m ):\n\u001b[0;32m   2242\u001b[0m \u001b[1;33m\u001b[0m\u001b[0m\n\u001b[1;32m-> 2243\u001b[1;33m     plotter = _BoxPlotter(x, y, hue, data, order, hue_order,\n\u001b[0m\u001b[0;32m   2244\u001b[0m                           \u001b[0morient\u001b[0m\u001b[1;33m,\u001b[0m \u001b[0mcolor\u001b[0m\u001b[1;33m,\u001b[0m \u001b[0mpalette\u001b[0m\u001b[1;33m,\u001b[0m \u001b[0msaturation\u001b[0m\u001b[1;33m,\u001b[0m\u001b[1;33m\u001b[0m\u001b[1;33m\u001b[0m\u001b[0m\n\u001b[0;32m   2245\u001b[0m                           width, dodge, fliersize, linewidth)\n",
      "\u001b[1;32m~\\anaconda3\\lib\\site-packages\\seaborn\\categorical.py\u001b[0m in \u001b[0;36m__init__\u001b[1;34m(self, x, y, hue, data, order, hue_order, orient, color, palette, saturation, width, dodge, fliersize, linewidth)\u001b[0m\n\u001b[0;32m    404\u001b[0m                  width, dodge, fliersize, linewidth):\n\u001b[0;32m    405\u001b[0m \u001b[1;33m\u001b[0m\u001b[0m\n\u001b[1;32m--> 406\u001b[1;33m         \u001b[0mself\u001b[0m\u001b[1;33m.\u001b[0m\u001b[0mestablish_variables\u001b[0m\u001b[1;33m(\u001b[0m\u001b[0mx\u001b[0m\u001b[1;33m,\u001b[0m \u001b[0my\u001b[0m\u001b[1;33m,\u001b[0m \u001b[0mhue\u001b[0m\u001b[1;33m,\u001b[0m \u001b[0mdata\u001b[0m\u001b[1;33m,\u001b[0m \u001b[0morient\u001b[0m\u001b[1;33m,\u001b[0m \u001b[0morder\u001b[0m\u001b[1;33m,\u001b[0m \u001b[0mhue_order\u001b[0m\u001b[1;33m)\u001b[0m\u001b[1;33m\u001b[0m\u001b[1;33m\u001b[0m\u001b[0m\n\u001b[0m\u001b[0;32m    407\u001b[0m         \u001b[0mself\u001b[0m\u001b[1;33m.\u001b[0m\u001b[0mestablish_colors\u001b[0m\u001b[1;33m(\u001b[0m\u001b[0mcolor\u001b[0m\u001b[1;33m,\u001b[0m \u001b[0mpalette\u001b[0m\u001b[1;33m,\u001b[0m \u001b[0msaturation\u001b[0m\u001b[1;33m)\u001b[0m\u001b[1;33m\u001b[0m\u001b[1;33m\u001b[0m\u001b[0m\n\u001b[0;32m    408\u001b[0m \u001b[1;33m\u001b[0m\u001b[0m\n",
      "\u001b[1;32m~\\anaconda3\\lib\\site-packages\\seaborn\\categorical.py\u001b[0m in \u001b[0;36mestablish_variables\u001b[1;34m(self, x, y, hue, data, orient, order, hue_order, units)\u001b[0m\n\u001b[0;32m    154\u001b[0m \u001b[1;33m\u001b[0m\u001b[0m\n\u001b[0;32m    155\u001b[0m             \u001b[1;31m# Figure out the plotting orientation\u001b[0m\u001b[1;33m\u001b[0m\u001b[1;33m\u001b[0m\u001b[0m\n\u001b[1;32m--> 156\u001b[1;33m             orient = infer_orient(\n\u001b[0m\u001b[0;32m    157\u001b[0m                 \u001b[0mx\u001b[0m\u001b[1;33m,\u001b[0m \u001b[0my\u001b[0m\u001b[1;33m,\u001b[0m \u001b[0morient\u001b[0m\u001b[1;33m,\u001b[0m \u001b[0mrequire_numeric\u001b[0m\u001b[1;33m=\u001b[0m\u001b[0mself\u001b[0m\u001b[1;33m.\u001b[0m\u001b[0mrequire_numeric\u001b[0m\u001b[1;33m\u001b[0m\u001b[1;33m\u001b[0m\u001b[0m\n\u001b[0;32m    158\u001b[0m             )\n",
      "\u001b[1;32m~\\anaconda3\\lib\\site-packages\\seaborn\\_core.py\u001b[0m in \u001b[0;36minfer_orient\u001b[1;34m(x, y, orient, require_numeric)\u001b[0m\n\u001b[0;32m   1326\u001b[0m             \u001b[0mwarnings\u001b[0m\u001b[1;33m.\u001b[0m\u001b[0mwarn\u001b[0m\u001b[1;33m(\u001b[0m\u001b[0msingle_var_warning\u001b[0m\u001b[1;33m.\u001b[0m\u001b[0mformat\u001b[0m\u001b[1;33m(\u001b[0m\u001b[1;34m\"Vertical\"\u001b[0m\u001b[1;33m,\u001b[0m \u001b[1;34m\"x\"\u001b[0m\u001b[1;33m)\u001b[0m\u001b[1;33m)\u001b[0m\u001b[1;33m\u001b[0m\u001b[1;33m\u001b[0m\u001b[0m\n\u001b[0;32m   1327\u001b[0m         \u001b[1;32mif\u001b[0m \u001b[0mrequire_numeric\u001b[0m \u001b[1;32mand\u001b[0m \u001b[0mx_type\u001b[0m \u001b[1;33m!=\u001b[0m \u001b[1;34m\"numeric\"\u001b[0m\u001b[1;33m:\u001b[0m\u001b[1;33m\u001b[0m\u001b[1;33m\u001b[0m\u001b[0m\n\u001b[1;32m-> 1328\u001b[1;33m             \u001b[1;32mraise\u001b[0m \u001b[0mTypeError\u001b[0m\u001b[1;33m(\u001b[0m\u001b[0mnonnumeric_dv_error\u001b[0m\u001b[1;33m.\u001b[0m\u001b[0mformat\u001b[0m\u001b[1;33m(\u001b[0m\u001b[1;34m\"Horizontal\"\u001b[0m\u001b[1;33m,\u001b[0m \u001b[1;34m\"x\"\u001b[0m\u001b[1;33m)\u001b[0m\u001b[1;33m)\u001b[0m\u001b[1;33m\u001b[0m\u001b[1;33m\u001b[0m\u001b[0m\n\u001b[0m\u001b[0;32m   1329\u001b[0m         \u001b[1;32mreturn\u001b[0m \u001b[1;34m\"h\"\u001b[0m\u001b[1;33m\u001b[0m\u001b[1;33m\u001b[0m\u001b[0m\n\u001b[0;32m   1330\u001b[0m \u001b[1;33m\u001b[0m\u001b[0m\n",
      "\u001b[1;31mTypeError\u001b[0m: Horizontal orientation requires numeric `x` variable."
     ]
    }
   ],
   "source": [
    "cols = ['Salary', 'age', 'educ', 'no_young_children',\n",
    "       'no_older_children', 'foreign']\n",
    "for i in cols:\n",
    "    sns.boxplot(dfn[i],whis=1.5)\n",
    "    plt.grid()\n",
    "    plt.show();"
   ]
  },
  {
   "cell_type": "code",
   "execution_count": 55,
   "id": "8470531f",
   "metadata": {},
   "outputs": [
    {
     "data": {
      "text/html": [
       "<div>\n",
       "<style scoped>\n",
       "    .dataframe tbody tr th:only-of-type {\n",
       "        vertical-align: middle;\n",
       "    }\n",
       "\n",
       "    .dataframe tbody tr th {\n",
       "        vertical-align: top;\n",
       "    }\n",
       "\n",
       "    .dataframe thead th {\n",
       "        text-align: right;\n",
       "    }\n",
       "</style>\n",
       "<table border=\"1\" class=\"dataframe\">\n",
       "  <thead>\n",
       "    <tr style=\"text-align: right;\">\n",
       "      <th></th>\n",
       "      <th>Salary</th>\n",
       "      <th>age</th>\n",
       "      <th>educ</th>\n",
       "      <th>no_young_children</th>\n",
       "      <th>no_older_children</th>\n",
       "    </tr>\n",
       "  </thead>\n",
       "  <tbody>\n",
       "    <tr>\n",
       "      <th>Salary</th>\n",
       "      <td>1.000000</td>\n",
       "      <td>0.071709</td>\n",
       "      <td>0.326540</td>\n",
       "      <td>-0.029664</td>\n",
       "      <td>0.113772</td>\n",
       "    </tr>\n",
       "    <tr>\n",
       "      <th>age</th>\n",
       "      <td>0.071709</td>\n",
       "      <td>1.000000</td>\n",
       "      <td>-0.149294</td>\n",
       "      <td>-0.519093</td>\n",
       "      <td>-0.116205</td>\n",
       "    </tr>\n",
       "    <tr>\n",
       "      <th>educ</th>\n",
       "      <td>0.326540</td>\n",
       "      <td>-0.149294</td>\n",
       "      <td>1.000000</td>\n",
       "      <td>0.098350</td>\n",
       "      <td>-0.036321</td>\n",
       "    </tr>\n",
       "    <tr>\n",
       "      <th>no_young_children</th>\n",
       "      <td>-0.029664</td>\n",
       "      <td>-0.519093</td>\n",
       "      <td>0.098350</td>\n",
       "      <td>1.000000</td>\n",
       "      <td>-0.238428</td>\n",
       "    </tr>\n",
       "    <tr>\n",
       "      <th>no_older_children</th>\n",
       "      <td>0.113772</td>\n",
       "      <td>-0.116205</td>\n",
       "      <td>-0.036321</td>\n",
       "      <td>-0.238428</td>\n",
       "      <td>1.000000</td>\n",
       "    </tr>\n",
       "  </tbody>\n",
       "</table>\n",
       "</div>"
      ],
      "text/plain": [
       "                     Salary       age      educ  no_young_children  \\\n",
       "Salary             1.000000  0.071709  0.326540          -0.029664   \n",
       "age                0.071709  1.000000 -0.149294          -0.519093   \n",
       "educ               0.326540 -0.149294  1.000000           0.098350   \n",
       "no_young_children -0.029664 -0.519093  0.098350           1.000000   \n",
       "no_older_children  0.113772 -0.116205 -0.036321          -0.238428   \n",
       "\n",
       "                   no_older_children  \n",
       "Salary                      0.113772  \n",
       "age                        -0.116205  \n",
       "educ                       -0.036321  \n",
       "no_young_children          -0.238428  \n",
       "no_older_children           1.000000  "
      ]
     },
     "execution_count": 55,
     "metadata": {},
     "output_type": "execute_result"
    }
   ],
   "source": [
    "dfn.corr()"
   ]
  },
  {
   "cell_type": "code",
   "execution_count": 56,
   "id": "b3cf8b22",
   "metadata": {},
   "outputs": [
    {
     "data": {
      "text/plain": [
       "<AxesSubplot:>"
      ]
     },
     "execution_count": 56,
     "metadata": {},
     "output_type": "execute_result"
    },
    {
     "data": {
      "image/png": "[encoded data removed]",
      "text/plain": [
       "<Figure size 432x288 with 2 Axes>"
      ]
     },
     "metadata": {
      "needs_background": "light"
     },
     "output_type": "display_data"
    }
   ],
   "source": [
    "sns.heatmap(dfn.corr(), annot=True)"
   ]
  },
  {
   "cell_type": "code",
   "execution_count": 58,
   "id": "d108fb28",
   "metadata": {},
   "outputs": [
    {
     "data": {
      "text/plain": [
       "<seaborn.axisgrid.PairGrid at 0x1946f325100>"
      ]
     },
     "execution_count": 58,
     "metadata": {},
     "output_type": "execute_result"
    },
    {
     "data": {
      "image/png": "[encoded data removed]",
      "text/plain": [
       "<Figure size 900x900 with 30 Axes>"
      ]
     },
     "metadata": {
      "needs_background": "light"
     },
     "output_type": "display_data"
    }
   ],
   "source": [
    "sns.pairplot(dfn)"
   ]
  },
  {
   "cell_type": "code",
   "execution_count": 59,
   "id": "8cbdedd3",
   "metadata": {},
   "outputs": [
    {
     "data": {
      "image/png": "[encoded data removed]",
      "text/plain": [
       "<Figure size 432x288 with 6 Axes>"
      ]
     },
     "metadata": {
      "needs_background": "light"
     },
     "output_type": "display_data"
    }
   ],
   "source": [
    "\n",
    "dfn.iloc[:,0:7].hist();"
   ]
  },
  {
   "cell_type": "code",
   "execution_count": 60,
   "id": "bf34d22a",
   "metadata": {},
   "outputs": [
    {
     "data": {
      "text/plain": [
       "Index(['Holliday_Package', 'Salary', 'age', 'educ', 'no_young_children',\n",
       "       'no_older_children', 'foreign'],\n",
       "      dtype='object')"
      ]
     },
     "execution_count": 60,
     "metadata": {},
     "output_type": "execute_result"
    }
   ],
   "source": [
    "dfn.columns"
   ]
  },
  {
   "cell_type": "code",
   "execution_count": null,
   "id": "6f579907",
   "metadata": {},
   "outputs": [],
   "source": []
  },
  {
   "cell_type": "code",
   "execution_count": 121,
   "id": "f19f2205",
   "metadata": {},
   "outputs": [
    {
     "data": {
      "text/html": [
       "<div>\n",
       "<style scoped>\n",
       "    .dataframe tbody tr th:only-of-type {\n",
       "        vertical-align: middle;\n",
       "    }\n",
       "\n",
       "    .dataframe tbody tr th {\n",
       "        vertical-align: top;\n",
       "    }\n",
       "\n",
       "    .dataframe thead th {\n",
       "        text-align: right;\n",
       "    }\n",
       "</style>\n",
       "<table border=\"1\" class=\"dataframe\">\n",
       "  <thead>\n",
       "    <tr style=\"text-align: right;\">\n",
       "      <th></th>\n",
       "      <th>Salary</th>\n",
       "      <th>age</th>\n",
       "      <th>educ</th>\n",
       "      <th>no_young_children</th>\n",
       "      <th>no_older_children</th>\n",
       "      <th>Holliday_Package_yes</th>\n",
       "      <th>foreign_yes</th>\n",
       "    </tr>\n",
       "  </thead>\n",
       "  <tbody>\n",
       "    <tr>\n",
       "      <th>0</th>\n",
       "      <td>48412</td>\n",
       "      <td>30</td>\n",
       "      <td>8</td>\n",
       "      <td>1</td>\n",
       "      <td>1</td>\n",
       "      <td>0</td>\n",
       "      <td>0</td>\n",
       "    </tr>\n",
       "    <tr>\n",
       "      <th>1</th>\n",
       "      <td>37207</td>\n",
       "      <td>45</td>\n",
       "      <td>8</td>\n",
       "      <td>0</td>\n",
       "      <td>1</td>\n",
       "      <td>1</td>\n",
       "      <td>0</td>\n",
       "    </tr>\n",
       "    <tr>\n",
       "      <th>2</th>\n",
       "      <td>58022</td>\n",
       "      <td>46</td>\n",
       "      <td>9</td>\n",
       "      <td>0</td>\n",
       "      <td>0</td>\n",
       "      <td>0</td>\n",
       "      <td>0</td>\n",
       "    </tr>\n",
       "    <tr>\n",
       "      <th>3</th>\n",
       "      <td>66503</td>\n",
       "      <td>31</td>\n",
       "      <td>11</td>\n",
       "      <td>2</td>\n",
       "      <td>0</td>\n",
       "      <td>0</td>\n",
       "      <td>0</td>\n",
       "    </tr>\n",
       "    <tr>\n",
       "      <th>4</th>\n",
       "      <td>66734</td>\n",
       "      <td>44</td>\n",
       "      <td>12</td>\n",
       "      <td>0</td>\n",
       "      <td>2</td>\n",
       "      <td>0</td>\n",
       "      <td>0</td>\n",
       "    </tr>\n",
       "  </tbody>\n",
       "</table>\n",
       "</div>"
      ],
      "text/plain": [
       "   Salary  age  educ  no_young_children  no_older_children  \\\n",
       "0   48412   30     8                  1                  1   \n",
       "1   37207   45     8                  0                  1   \n",
       "2   58022   46     9                  0                  0   \n",
       "3   66503   31    11                  2                  0   \n",
       "4   66734   44    12                  0                  2   \n",
       "\n",
       "   Holliday_Package_yes  foreign_yes  \n",
       "0                     0            0  \n",
       "1                     1            0  \n",
       "2                     0            0  \n",
       "3                     0            0  \n",
       "4                     0            0  "
      ]
     },
     "execution_count": 121,
     "metadata": {},
     "output_type": "execute_result"
    }
   ],
   "source": [
    "dfn.head()"
   ]
  },
  {
   "cell_type": "code",
   "execution_count": 123,
   "id": "3125c28e",
   "metadata": {},
   "outputs": [
    {
     "data": {
      "text/html": [
       "<div>\n",
       "<style scoped>\n",
       "    .dataframe tbody tr th:only-of-type {\n",
       "        vertical-align: middle;\n",
       "    }\n",
       "\n",
       "    .dataframe tbody tr th {\n",
       "        vertical-align: top;\n",
       "    }\n",
       "\n",
       "    .dataframe thead th {\n",
       "        text-align: right;\n",
       "    }\n",
       "</style>\n",
       "<table border=\"1\" class=\"dataframe\">\n",
       "  <thead>\n",
       "    <tr style=\"text-align: right;\">\n",
       "      <th></th>\n",
       "      <th>Salary</th>\n",
       "      <th>age</th>\n",
       "      <th>educ</th>\n",
       "      <th>no_young_children</th>\n",
       "      <th>no_older_children</th>\n",
       "      <th>Holliday_Package_yes</th>\n",
       "      <th>foreign_yes</th>\n",
       "    </tr>\n",
       "  </thead>\n",
       "  <tbody>\n",
       "    <tr>\n",
       "      <th>0</th>\n",
       "      <td>48412</td>\n",
       "      <td>30</td>\n",
       "      <td>8</td>\n",
       "      <td>1</td>\n",
       "      <td>1</td>\n",
       "      <td>0</td>\n",
       "      <td>0</td>\n",
       "    </tr>\n",
       "    <tr>\n",
       "      <th>1</th>\n",
       "      <td>37207</td>\n",
       "      <td>45</td>\n",
       "      <td>8</td>\n",
       "      <td>0</td>\n",
       "      <td>1</td>\n",
       "      <td>1</td>\n",
       "      <td>0</td>\n",
       "    </tr>\n",
       "    <tr>\n",
       "      <th>2</th>\n",
       "      <td>58022</td>\n",
       "      <td>46</td>\n",
       "      <td>9</td>\n",
       "      <td>0</td>\n",
       "      <td>0</td>\n",
       "      <td>0</td>\n",
       "      <td>0</td>\n",
       "    </tr>\n",
       "    <tr>\n",
       "      <th>3</th>\n",
       "      <td>66503</td>\n",
       "      <td>31</td>\n",
       "      <td>11</td>\n",
       "      <td>2</td>\n",
       "      <td>0</td>\n",
       "      <td>0</td>\n",
       "      <td>0</td>\n",
       "    </tr>\n",
       "    <tr>\n",
       "      <th>4</th>\n",
       "      <td>66734</td>\n",
       "      <td>44</td>\n",
       "      <td>12</td>\n",
       "      <td>0</td>\n",
       "      <td>2</td>\n",
       "      <td>0</td>\n",
       "      <td>0</td>\n",
       "    </tr>\n",
       "  </tbody>\n",
       "</table>\n",
       "</div>"
      ],
      "text/plain": [
       "   Salary  age  educ  no_young_children  no_older_children  \\\n",
       "0   48412   30     8                  1                  1   \n",
       "1   37207   45     8                  0                  1   \n",
       "2   58022   46     9                  0                  0   \n",
       "3   66503   31    11                  2                  0   \n",
       "4   66734   44    12                  0                  2   \n",
       "\n",
       "   Holliday_Package_yes  foreign_yes  \n",
       "0                     0            0  \n",
       "1                     1            0  \n",
       "2                     0            0  \n",
       "3                     0            0  \n",
       "4                     0            0  "
      ]
     },
     "execution_count": 123,
     "metadata": {},
     "output_type": "execute_result"
    }
   ],
   "source": [
    "dfn.head()"
   ]
  },
  {
   "cell_type": "code",
   "execution_count": 77,
   "id": "112f2ee1",
   "metadata": {},
   "outputs": [],
   "source": [
    "import statsmodels.formula.api as SM"
   ]
  },
  {
   "cell_type": "code",
   "execution_count": 78,
   "id": "fcf235d5",
   "metadata": {},
   "outputs": [
    {
     "name": "stdout",
     "output_type": "stream",
     "text": [
      "<class 'pandas.core.frame.DataFrame'>\n",
      "RangeIndex: 872 entries, 0 to 871\n",
      "Data columns (total 7 columns):\n",
      " #   Column                Non-Null Count  Dtype\n",
      "---  ------                --------------  -----\n",
      " 0   Salary                872 non-null    int64\n",
      " 1   age                   872 non-null    int64\n",
      " 2   educ                  872 non-null    int64\n",
      " 3   no_young_children     872 non-null    int64\n",
      " 4   no_older_children     872 non-null    int64\n",
      " 5   Holliday_Package_yes  872 non-null    uint8\n",
      " 6   foreign_yes           872 non-null    uint8\n",
      "dtypes: int64(5), uint8(2)\n",
      "memory usage: 35.9 KB\n"
     ]
    }
   ],
   "source": [
    "dfn.info()"
   ]
  },
  {
   "cell_type": "code",
   "execution_count": 79,
   "id": "b61fb2b6",
   "metadata": {},
   "outputs": [
    {
     "data": {
      "text/plain": [
       "Index(['Salary', 'age', 'educ', 'no_young_children', 'no_older_children',\n",
       "       'Holliday_Package_yes', 'foreign_yes'],\n",
       "      dtype='object')"
      ]
     },
     "execution_count": 79,
     "metadata": {},
     "output_type": "execute_result"
    }
   ],
   "source": [
    "dfn.columns"
   ]
  },
  {
   "cell_type": "code",
   "execution_count": 80,
   "id": "b9e16213",
   "metadata": {},
   "outputs": [
    {
     "name": "stdout",
     "output_type": "stream",
     "text": [
      "<class 'pandas.core.frame.DataFrame'>\n",
      "RangeIndex: 872 entries, 0 to 871\n",
      "Data columns (total 7 columns):\n",
      " #   Column                Non-Null Count  Dtype\n",
      "---  ------                --------------  -----\n",
      " 0   Salary                872 non-null    int64\n",
      " 1   age                   872 non-null    int64\n",
      " 2   educ                  872 non-null    int64\n",
      " 3   no_young_children     872 non-null    int64\n",
      " 4   no_older_children     872 non-null    int64\n",
      " 5   Holliday_Package_yes  872 non-null    uint8\n",
      " 6   foreign_yes           872 non-null    uint8\n",
      "dtypes: int64(5), uint8(2)\n",
      "memory usage: 35.9 KB\n"
     ]
    }
   ],
   "source": [
    "dfn.info()"
   ]
  },
  {
   "cell_type": "code",
   "execution_count": 96,
   "id": "f9d0cdf4",
   "metadata": {},
   "outputs": [],
   "source": [
    "import statsmodels.formula.api as SM"
   ]
  },
  {
   "cell_type": "code",
   "execution_count": 124,
   "id": "4951b8d5",
   "metadata": {},
   "outputs": [],
   "source": [
    "M_1 = 'Holliday_Package_yes~Salary+age+educ+no_young_children+no_older_children+foreign_yes'"
   ]
  },
  {
   "cell_type": "code",
   "execution_count": 125,
   "id": "9969f794",
   "metadata": {},
   "outputs": [
    {
     "name": "stdout",
     "output_type": "stream",
     "text": [
      "Optimization terminated successfully.\n",
      "         Current function value: 0.601531\n",
      "         Iterations 6\n"
     ]
    },
    {
     "data": {
      "text/html": [
       "<table class=\"simpletable\">\n",
       "<caption>Logit Regression Results</caption>\n",
       "<tr>\n",
       "  <th>Dep. Variable:</th>   <td>Holliday_Package_yes</td> <th>  No. Observations:  </th>  <td>   872</td>  \n",
       "</tr>\n",
       "<tr>\n",
       "  <th>Model:</th>                   <td>Logit</td>        <th>  Df Residuals:      </th>  <td>   865</td>  \n",
       "</tr>\n",
       "<tr>\n",
       "  <th>Method:</th>                   <td>MLE</td>         <th>  Df Model:          </th>  <td>     6</td>  \n",
       "</tr>\n",
       "<tr>\n",
       "  <th>Date:</th>              <td>Fri, 30 Sep 2022</td>   <th>  Pseudo R-squ.:     </th>  <td>0.1281</td>  \n",
       "</tr>\n",
       "<tr>\n",
       "  <th>Time:</th>                  <td>07:24:31</td>       <th>  Log-Likelihood:    </th> <td> -524.53</td> \n",
       "</tr>\n",
       "<tr>\n",
       "  <th>converged:</th>               <td>True</td>         <th>  LL-Null:           </th> <td> -601.61</td> \n",
       "</tr>\n",
       "<tr>\n",
       "  <th>Covariance Type:</th>       <td>nonrobust</td>      <th>  LLR p-value:       </th> <td>1.023e-30</td>\n",
       "</tr>\n",
       "</table>\n",
       "<table class=\"simpletable\">\n",
       "<tr>\n",
       "          <td></td>             <th>coef</th>     <th>std err</th>      <th>z</th>      <th>P>|z|</th>  <th>[0.025</th>    <th>0.975]</th>  \n",
       "</tr>\n",
       "<tr>\n",
       "  <th>Intercept</th>         <td>    2.3259</td> <td>    0.554</td> <td>    4.199</td> <td> 0.000</td> <td>    1.240</td> <td>    3.411</td>\n",
       "</tr>\n",
       "<tr>\n",
       "  <th>Salary</th>            <td>-1.814e-05</td> <td> 4.35e-06</td> <td>   -4.169</td> <td> 0.000</td> <td>-2.67e-05</td> <td>-9.61e-06</td>\n",
       "</tr>\n",
       "<tr>\n",
       "  <th>age</th>               <td>   -0.0482</td> <td>    0.009</td> <td>   -5.314</td> <td> 0.000</td> <td>   -0.066</td> <td>   -0.030</td>\n",
       "</tr>\n",
       "<tr>\n",
       "  <th>educ</th>              <td>    0.0392</td> <td>    0.029</td> <td>    1.337</td> <td> 0.181</td> <td>   -0.018</td> <td>    0.097</td>\n",
       "</tr>\n",
       "<tr>\n",
       "  <th>no_young_children</th> <td>   -1.3173</td> <td>    0.180</td> <td>   -7.326</td> <td> 0.000</td> <td>   -1.670</td> <td>   -0.965</td>\n",
       "</tr>\n",
       "<tr>\n",
       "  <th>no_older_children</th> <td>   -0.0204</td> <td>    0.074</td> <td>   -0.276</td> <td> 0.782</td> <td>   -0.165</td> <td>    0.124</td>\n",
       "</tr>\n",
       "<tr>\n",
       "  <th>foreign_yes</th>       <td>    1.3216</td> <td>    0.200</td> <td>    6.601</td> <td> 0.000</td> <td>    0.929</td> <td>    1.714</td>\n",
       "</tr>\n",
       "</table>"
      ],
      "text/plain": [
       "<class 'statsmodels.iolib.summary.Summary'>\n",
       "\"\"\"\n",
       "                            Logit Regression Results                            \n",
       "================================================================================\n",
       "Dep. Variable:     Holliday_Package_yes   No. Observations:                  872\n",
       "Model:                            Logit   Df Residuals:                      865\n",
       "Method:                             MLE   Df Model:                            6\n",
       "Date:                  Fri, 30 Sep 2022   Pseudo R-squ.:                  0.1281\n",
       "Time:                          07:24:31   Log-Likelihood:                -524.53\n",
       "converged:                         True   LL-Null:                       -601.61\n",
       "Covariance Type:              nonrobust   LLR p-value:                 1.023e-30\n",
       "=====================================================================================\n",
       "                        coef    std err          z      P>|z|      [0.025      0.975]\n",
       "-------------------------------------------------------------------------------------\n",
       "Intercept             2.3259      0.554      4.199      0.000       1.240       3.411\n",
       "Salary            -1.814e-05   4.35e-06     -4.169      0.000   -2.67e-05   -9.61e-06\n",
       "age                  -0.0482      0.009     -5.314      0.000      -0.066      -0.030\n",
       "educ                  0.0392      0.029      1.337      0.181      -0.018       0.097\n",
       "no_young_children    -1.3173      0.180     -7.326      0.000      -1.670      -0.965\n",
       "no_older_children    -0.0204      0.074     -0.276      0.782      -0.165       0.124\n",
       "foreign_yes           1.3216      0.200      6.601      0.000       0.929       1.714\n",
       "=====================================================================================\n",
       "\"\"\""
      ]
     },
     "execution_count": 125,
     "metadata": {},
     "output_type": "execute_result"
    }
   ],
   "source": [
    "Model_1=SM.logit(formula=M_1,data=dfn).fit()\n",
    "Model_1.summary()"
   ]
  },
  {
   "cell_type": "code",
   "execution_count": 127,
   "id": "e8a4937e",
   "metadata": {},
   "outputs": [
    {
     "name": "stdout",
     "output_type": "stream",
     "text": [
      "The adjusted pseudo R-square value is 0.11814434748657021\n"
     ]
    }
   ],
   "source": [
    "print('The adjusted pseudo R-square value is',1 - ((Model_1.llf - Model_1.df_model)/Model_1.llnull))"
   ]
  },
  {
   "cell_type": "code",
   "execution_count": 128,
   "id": "e1bd662d",
   "metadata": {},
   "outputs": [],
   "source": [
    "def vif_cal(input_data):\n",
    "    x_vars=input_data\n",
    "    xvar_names=input_data.columns\n",
    "    for i in range(0,xvar_names.shape[0]):\n",
    "        y=x_vars[xvar_names[i]] \n",
    "        x=x_vars[xvar_names.drop(xvar_names[i])]\n",
    "        rsq=SM.ols(formula=\"y~x\", data=x_vars).fit().rsquared  \n",
    "        vif=round(1/(1-rsq),2)\n",
    "        print (xvar_names[i], \" VIF = \" , vif)"
   ]
  },
  {
   "cell_type": "code",
   "execution_count": 130,
   "id": "41a11cdb",
   "metadata": {},
   "outputs": [
    {
     "name": "stdout",
     "output_type": "stream",
     "text": [
      "Salary  VIF =  1.17\n",
      "age  VIF =  1.58\n",
      "educ  VIF =  1.4\n",
      "no_young_children  VIF =  1.57\n",
      "no_older_children  VIF =  1.19\n",
      "foreign_yes  VIF =  1.27\n"
     ]
    }
   ],
   "source": [
    "vif_cal(input_data=dfn[['Salary', 'age', 'educ', 'no_young_children',\n",
    "       'no_older_children', 'foreign_yes']])"
   ]
  },
  {
   "cell_type": "code",
   "execution_count": 131,
   "id": "7e7717d0",
   "metadata": {},
   "outputs": [],
   "source": [
    "def remove_outlier(col):\n",
    "     sorted(col)\n",
    "     Q1,Q3=np.percentile(col,[25,75])\n",
    "     IQR=Q3-Q1\n",
    "     lower_range= Q1-(1.5 * IQR)\n",
    "     upper_range= Q3+(1.5 * IQR)\n",
    "     return lower_range, upper_range"
   ]
  },
  {
   "cell_type": "code",
   "execution_count": 132,
   "id": "b6d0d610",
   "metadata": {},
   "outputs": [],
   "source": [
    " for column in dfn.columns:\n",
    "     if dfn['Salary'].dtype != 'object': \n",
    "         lr,ur=remove_outlier(dfn['Salary'])\n",
    "         dfn['Salary']=np.where(dfn['Salary']>ur,ur,dfn['Salary'])\n",
    "         dfn['Salary']=np.where(dfn['Salary']<lr,lr,dfn['Salary'])"
   ]
  },
  {
   "cell_type": "code",
   "execution_count": 133,
   "id": "54c25d4a",
   "metadata": {},
   "outputs": [
    {
     "data": {
      "text/html": [
       "<div>\n",
       "<style scoped>\n",
       "    .dataframe tbody tr th:only-of-type {\n",
       "        vertical-align: middle;\n",
       "    }\n",
       "\n",
       "    .dataframe tbody tr th {\n",
       "        vertical-align: top;\n",
       "    }\n",
       "\n",
       "    .dataframe thead th {\n",
       "        text-align: right;\n",
       "    }\n",
       "</style>\n",
       "<table border=\"1\" class=\"dataframe\">\n",
       "  <thead>\n",
       "    <tr style=\"text-align: right;\">\n",
       "      <th></th>\n",
       "      <th>count</th>\n",
       "      <th>mean</th>\n",
       "      <th>std</th>\n",
       "      <th>min</th>\n",
       "      <th>25%</th>\n",
       "      <th>50%</th>\n",
       "      <th>75%</th>\n",
       "      <th>max</th>\n",
       "    </tr>\n",
       "  </thead>\n",
       "  <tbody>\n",
       "    <tr>\n",
       "      <th>Salary</th>\n",
       "      <td>872.0</td>\n",
       "      <td>45608.336869</td>\n",
       "      <td>15699.745151</td>\n",
       "      <td>8105.75</td>\n",
       "      <td>35324.0</td>\n",
       "      <td>41903.5</td>\n",
       "      <td>53469.5</td>\n",
       "      <td>80687.75</td>\n",
       "    </tr>\n",
       "    <tr>\n",
       "      <th>age</th>\n",
       "      <td>872.0</td>\n",
       "      <td>39.955275</td>\n",
       "      <td>10.551675</td>\n",
       "      <td>20.00</td>\n",
       "      <td>32.0</td>\n",
       "      <td>39.0</td>\n",
       "      <td>48.0</td>\n",
       "      <td>62.00</td>\n",
       "    </tr>\n",
       "    <tr>\n",
       "      <th>educ</th>\n",
       "      <td>872.0</td>\n",
       "      <td>9.307339</td>\n",
       "      <td>3.036259</td>\n",
       "      <td>1.00</td>\n",
       "      <td>8.0</td>\n",
       "      <td>9.0</td>\n",
       "      <td>12.0</td>\n",
       "      <td>21.00</td>\n",
       "    </tr>\n",
       "    <tr>\n",
       "      <th>no_young_children</th>\n",
       "      <td>872.0</td>\n",
       "      <td>0.311927</td>\n",
       "      <td>0.612870</td>\n",
       "      <td>0.00</td>\n",
       "      <td>0.0</td>\n",
       "      <td>0.0</td>\n",
       "      <td>0.0</td>\n",
       "      <td>3.00</td>\n",
       "    </tr>\n",
       "    <tr>\n",
       "      <th>no_older_children</th>\n",
       "      <td>872.0</td>\n",
       "      <td>0.982798</td>\n",
       "      <td>1.086786</td>\n",
       "      <td>0.00</td>\n",
       "      <td>0.0</td>\n",
       "      <td>1.0</td>\n",
       "      <td>2.0</td>\n",
       "      <td>6.00</td>\n",
       "    </tr>\n",
       "    <tr>\n",
       "      <th>Holliday_Package_yes</th>\n",
       "      <td>872.0</td>\n",
       "      <td>0.459862</td>\n",
       "      <td>0.498672</td>\n",
       "      <td>0.00</td>\n",
       "      <td>0.0</td>\n",
       "      <td>0.0</td>\n",
       "      <td>1.0</td>\n",
       "      <td>1.00</td>\n",
       "    </tr>\n",
       "    <tr>\n",
       "      <th>foreign_yes</th>\n",
       "      <td>872.0</td>\n",
       "      <td>0.247706</td>\n",
       "      <td>0.431928</td>\n",
       "      <td>0.00</td>\n",
       "      <td>0.0</td>\n",
       "      <td>0.0</td>\n",
       "      <td>0.0</td>\n",
       "      <td>1.00</td>\n",
       "    </tr>\n",
       "  </tbody>\n",
       "</table>\n",
       "</div>"
      ],
      "text/plain": [
       "                      count          mean           std      min      25%  \\\n",
       "Salary                872.0  45608.336869  15699.745151  8105.75  35324.0   \n",
       "age                   872.0     39.955275     10.551675    20.00     32.0   \n",
       "educ                  872.0      9.307339      3.036259     1.00      8.0   \n",
       "no_young_children     872.0      0.311927      0.612870     0.00      0.0   \n",
       "no_older_children     872.0      0.982798      1.086786     0.00      0.0   \n",
       "Holliday_Package_yes  872.0      0.459862      0.498672     0.00      0.0   \n",
       "foreign_yes           872.0      0.247706      0.431928     0.00      0.0   \n",
       "\n",
       "                          50%      75%       max  \n",
       "Salary                41903.5  53469.5  80687.75  \n",
       "age                      39.0     48.0     62.00  \n",
       "educ                      9.0     12.0     21.00  \n",
       "no_young_children         0.0      0.0      3.00  \n",
       "no_older_children         1.0      2.0      6.00  \n",
       "Holliday_Package_yes      0.0      1.0      1.00  \n",
       "foreign_yes               0.0      0.0      1.00  "
      ]
     },
     "execution_count": 133,
     "metadata": {},
     "output_type": "execute_result"
    }
   ],
   "source": [
    "dfn.describe().T"
   ]
  },
  {
   "cell_type": "code",
   "execution_count": 134,
   "id": "3efdbece",
   "metadata": {},
   "outputs": [
    {
     "name": "stderr",
     "output_type": "stream",
     "text": [
      "C:\\Users\\ravi\\anaconda3\\lib\\site-packages\\seaborn\\_decorators.py:36: FutureWarning: Pass the following variable as a keyword arg: x. From version 0.12, the only valid positional argument will be `data`, and passing other arguments without an explicit keyword will result in an error or misinterpretation.\n",
      "  warnings.warn(\n"
     ]
    },
    {
     "data": {
      "image/png": "[encoded data removed]",
      "text/plain": [
       "<Figure size 432x288 with 1 Axes>"
      ]
     },
     "metadata": {
      "needs_background": "light"
     },
     "output_type": "display_data"
    },
    {
     "name": "stderr",
     "output_type": "stream",
     "text": [
      "C:\\Users\\ravi\\anaconda3\\lib\\site-packages\\seaborn\\_decorators.py:36: FutureWarning: Pass the following variable as a keyword arg: x. From version 0.12, the only valid positional argument will be `data`, and passing other arguments without an explicit keyword will result in an error or misinterpretation.\n",
      "  warnings.warn(\n"
     ]
    },
    {
     "data": {
      "image/png": "[encoded data removed]",
      "text/plain": [
       "<Figure size 432x288 with 1 Axes>"
      ]
     },
     "metadata": {
      "needs_background": "light"
     },
     "output_type": "display_data"
    },
    {
     "name": "stderr",
     "output_type": "stream",
     "text": [
      "C:\\Users\\ravi\\anaconda3\\lib\\site-packages\\seaborn\\_decorators.py:36: FutureWarning: Pass the following variable as a keyword arg: x. From version 0.12, the only valid positional argument will be `data`, and passing other arguments without an explicit keyword will result in an error or misinterpretation.\n",
      "  warnings.warn(\n"
     ]
    },
    {
     "data": {
      "image/png": "[encoded data removed]",
      "text/plain": [
       "<Figure size 432x288 with 1 Axes>"
      ]
     },
     "metadata": {
      "needs_background": "light"
     },
     "output_type": "display_data"
    },
    {
     "name": "stderr",
     "output_type": "stream",
     "text": [
      "C:\\Users\\ravi\\anaconda3\\lib\\site-packages\\seaborn\\_decorators.py:36: FutureWarning: Pass the following variable as a keyword arg: x. From version 0.12, the only valid positional argument will be `data`, and passing other arguments without an explicit keyword will result in an error or misinterpretation.\n",
      "  warnings.warn(\n"
     ]
    },
    {
     "data": {
      "image/png": "[encoded data removed]",
      "text/plain": [
       "<Figure size 432x288 with 1 Axes>"
      ]
     },
     "metadata": {
      "needs_background": "light"
     },
     "output_type": "display_data"
    },
    {
     "name": "stderr",
     "output_type": "stream",
     "text": [
      "C:\\Users\\ravi\\anaconda3\\lib\\site-packages\\seaborn\\_decorators.py:36: FutureWarning: Pass the following variable as a keyword arg: x. From version 0.12, the only valid positional argument will be `data`, and passing other arguments without an explicit keyword will result in an error or misinterpretation.\n",
      "  warnings.warn(\n"
     ]
    },
    {
     "data": {
      "image/png": "[encoded data removed]",
      "text/plain": [
       "<Figure size 432x288 with 1 Axes>"
      ]
     },
     "metadata": {
      "needs_background": "light"
     },
     "output_type": "display_data"
    },
    {
     "name": "stderr",
     "output_type": "stream",
     "text": [
      "C:\\Users\\ravi\\anaconda3\\lib\\site-packages\\seaborn\\_decorators.py:36: FutureWarning: Pass the following variable as a keyword arg: x. From version 0.12, the only valid positional argument will be `data`, and passing other arguments without an explicit keyword will result in an error or misinterpretation.\n",
      "  warnings.warn(\n"
     ]
    },
    {
     "data": {
      "image/png": "[encoded data removed]",
      "text/plain": [
       "<Figure size 432x288 with 1 Axes>"
      ]
     },
     "metadata": {
      "needs_background": "light"
     },
     "output_type": "display_data"
    }
   ],
   "source": [
    "cols = ['Salary', 'age', 'educ', 'no_young_children',\n",
    "       'no_older_children', 'foreign_yes']\n",
    "for i in cols:\n",
    "    sns.boxplot(dfn[i],whis=1.5)\n",
    "    plt.grid()\n",
    "    plt.show();"
   ]
  },
  {
   "cell_type": "code",
   "execution_count": 135,
   "id": "f0b3df2d",
   "metadata": {},
   "outputs": [],
   "source": [
    "def vif_cal(input_data):\n",
    "    x_vars=input_data\n",
    "    xvar_names=input_data.columns\n",
    "    for i in range(0,xvar_names.shape[0]):\n",
    "        y=x_vars[xvar_names[i]] \n",
    "        x=x_vars[xvar_names.drop(xvar_names[i])]\n",
    "        rsq=SM.ols(formula=\"y~x\", data=x_vars).fit().rsquared  \n",
    "        vif=round(1/(1-rsq),2)\n",
    "        print (xvar_names[i], \" VIF = \" , vif)"
   ]
  },
  {
   "cell_type": "code",
   "execution_count": 136,
   "id": "ca3e9b42",
   "metadata": {},
   "outputs": [
    {
     "name": "stdout",
     "output_type": "stream",
     "text": [
      "Salary  VIF =  1.2\n",
      "age  VIF =  1.56\n",
      "educ  VIF =  1.41\n",
      "no_young_children  VIF =  1.57\n",
      "no_older_children  VIF =  1.19\n",
      "foreign_yes  VIF =  1.27\n"
     ]
    }
   ],
   "source": [
    "vif_cal(input_data=dfn[['Salary', 'age', 'educ', 'no_young_children',\n",
    "       'no_older_children', 'foreign_yes']])"
   ]
  },
  {
   "cell_type": "code",
   "execution_count": 139,
   "id": "91fb5853",
   "metadata": {},
   "outputs": [],
   "source": [
    "M_2 = 'Holliday_Package_yes~Salary+age+educ+no_young_children+no_older_children+foreign_yes'"
   ]
  },
  {
   "cell_type": "code",
   "execution_count": 140,
   "id": "4e82c50b",
   "metadata": {},
   "outputs": [
    {
     "name": "stdout",
     "output_type": "stream",
     "text": [
      "Optimization terminated successfully.\n",
      "         Current function value: 0.604108\n",
      "         Iterations 6\n"
     ]
    },
    {
     "data": {
      "text/html": [
       "<table class=\"simpletable\">\n",
       "<caption>Logit Regression Results</caption>\n",
       "<tr>\n",
       "  <th>Dep. Variable:</th>   <td>Holliday_Package_yes</td> <th>  No. Observations:  </th>  <td>   872</td>  \n",
       "</tr>\n",
       "<tr>\n",
       "  <th>Model:</th>                   <td>Logit</td>        <th>  Df Residuals:      </th>  <td>   865</td>  \n",
       "</tr>\n",
       "<tr>\n",
       "  <th>Method:</th>                   <td>MLE</td>         <th>  Df Model:          </th>  <td>     6</td>  \n",
       "</tr>\n",
       "<tr>\n",
       "  <th>Date:</th>              <td>Fri, 30 Sep 2022</td>   <th>  Pseudo R-squ.:     </th>  <td>0.1244</td>  \n",
       "</tr>\n",
       "<tr>\n",
       "  <th>Time:</th>                  <td>07:28:37</td>       <th>  Log-Likelihood:    </th> <td> -526.78</td> \n",
       "</tr>\n",
       "<tr>\n",
       "  <th>converged:</th>               <td>True</td>         <th>  LL-Null:           </th> <td> -601.61</td> \n",
       "</tr>\n",
       "<tr>\n",
       "  <th>Covariance Type:</th>       <td>nonrobust</td>      <th>  LLR p-value:       </th> <td>9.138e-30</td>\n",
       "</tr>\n",
       "</table>\n",
       "<table class=\"simpletable\">\n",
       "<tr>\n",
       "          <td></td>             <th>coef</th>     <th>std err</th>      <th>z</th>      <th>P>|z|</th>  <th>[0.025</th>    <th>0.975]</th>  \n",
       "</tr>\n",
       "<tr>\n",
       "  <th>Intercept</th>         <td>    2.5432</td> <td>    0.559</td> <td>    4.550</td> <td> 0.000</td> <td>    1.448</td> <td>    3.639</td>\n",
       "</tr>\n",
       "<tr>\n",
       "  <th>Salary</th>            <td>-2.088e-05</td> <td> 5.26e-06</td> <td>   -3.970</td> <td> 0.000</td> <td>-3.12e-05</td> <td>-1.06e-05</td>\n",
       "</tr>\n",
       "<tr>\n",
       "  <th>age</th>               <td>   -0.0496</td> <td>    0.009</td> <td>   -5.491</td> <td> 0.000</td> <td>   -0.067</td> <td>   -0.032</td>\n",
       "</tr>\n",
       "<tr>\n",
       "  <th>educ</th>              <td>    0.0342</td> <td>    0.029</td> <td>    1.172</td> <td> 0.241</td> <td>   -0.023</td> <td>    0.091</td>\n",
       "</tr>\n",
       "<tr>\n",
       "  <th>no_young_children</th> <td>   -1.3287</td> <td>    0.180</td> <td>   -7.386</td> <td> 0.000</td> <td>   -1.681</td> <td>   -0.976</td>\n",
       "</tr>\n",
       "<tr>\n",
       "  <th>no_older_children</th> <td>   -0.0251</td> <td>    0.074</td> <td>   -0.341</td> <td> 0.733</td> <td>   -0.169</td> <td>    0.119</td>\n",
       "</tr>\n",
       "<tr>\n",
       "  <th>foreign_yes</th>       <td>    1.3037</td> <td>    0.200</td> <td>    6.519</td> <td> 0.000</td> <td>    0.912</td> <td>    1.696</td>\n",
       "</tr>\n",
       "</table>"
      ],
      "text/plain": [
       "<class 'statsmodels.iolib.summary.Summary'>\n",
       "\"\"\"\n",
       "                            Logit Regression Results                            \n",
       "================================================================================\n",
       "Dep. Variable:     Holliday_Package_yes   No. Observations:                  872\n",
       "Model:                            Logit   Df Residuals:                      865\n",
       "Method:                             MLE   Df Model:                            6\n",
       "Date:                  Fri, 30 Sep 2022   Pseudo R-squ.:                  0.1244\n",
       "Time:                          07:28:37   Log-Likelihood:                -526.78\n",
       "converged:                         True   LL-Null:                       -601.61\n",
       "Covariance Type:              nonrobust   LLR p-value:                 9.138e-30\n",
       "=====================================================================================\n",
       "                        coef    std err          z      P>|z|      [0.025      0.975]\n",
       "-------------------------------------------------------------------------------------\n",
       "Intercept             2.5432      0.559      4.550      0.000       1.448       3.639\n",
       "Salary            -2.088e-05   5.26e-06     -3.970      0.000   -3.12e-05   -1.06e-05\n",
       "age                  -0.0496      0.009     -5.491      0.000      -0.067      -0.032\n",
       "educ                  0.0342      0.029      1.172      0.241      -0.023       0.091\n",
       "no_young_children    -1.3287      0.180     -7.386      0.000      -1.681      -0.976\n",
       "no_older_children    -0.0251      0.074     -0.341      0.733      -0.169       0.119\n",
       "foreign_yes           1.3037      0.200      6.519      0.000       0.912       1.696\n",
       "=====================================================================================\n",
       "\"\"\""
      ]
     },
     "execution_count": 140,
     "metadata": {},
     "output_type": "execute_result"
    }
   ],
   "source": [
    "Model_2=SM.logit(formula=M_2,data=dfn).fit()\n",
    "Model_2.summary()"
   ]
  },
  {
   "cell_type": "code",
   "execution_count": 141,
   "id": "800c7ade",
   "metadata": {},
   "outputs": [
    {
     "name": "stdout",
     "output_type": "stream",
     "text": [
      "The adjusted pseudo R-square value is 0.11440780487420366\n"
     ]
    }
   ],
   "source": [
    "print('The adjusted pseudo R-square value is',1 - ((Model_2.llf - Model_2.df_model)/Model_2.llnull))"
   ]
  },
  {
   "cell_type": "code",
   "execution_count": 142,
   "id": "7ba18ed1",
   "metadata": {},
   "outputs": [],
   "source": [
    "M_3 = 'Holliday_Package_yes~Salary+age+educ+no_young_children+foreign_yes'"
   ]
  },
  {
   "cell_type": "code",
   "execution_count": 143,
   "id": "308fb0ef",
   "metadata": {},
   "outputs": [
    {
     "name": "stdout",
     "output_type": "stream",
     "text": [
      "Optimization terminated successfully.\n",
      "         Current function value: 0.604175\n",
      "         Iterations 6\n"
     ]
    },
    {
     "data": {
      "text/html": [
       "<table class=\"simpletable\">\n",
       "<caption>Logit Regression Results</caption>\n",
       "<tr>\n",
       "  <th>Dep. Variable:</th>   <td>Holliday_Package_yes</td> <th>  No. Observations:  </th>  <td>   872</td>  \n",
       "</tr>\n",
       "<tr>\n",
       "  <th>Model:</th>                   <td>Logit</td>        <th>  Df Residuals:      </th>  <td>   866</td>  \n",
       "</tr>\n",
       "<tr>\n",
       "  <th>Method:</th>                   <td>MLE</td>         <th>  Df Model:          </th>  <td>     5</td>  \n",
       "</tr>\n",
       "<tr>\n",
       "  <th>Date:</th>              <td>Fri, 30 Sep 2022</td>   <th>  Pseudo R-squ.:     </th>  <td>0.1243</td>  \n",
       "</tr>\n",
       "<tr>\n",
       "  <th>Time:</th>                  <td>07:29:07</td>       <th>  Log-Likelihood:    </th> <td> -526.84</td> \n",
       "</tr>\n",
       "<tr>\n",
       "  <th>converged:</th>               <td>True</td>         <th>  LL-Null:           </th> <td> -601.61</td> \n",
       "</tr>\n",
       "<tr>\n",
       "  <th>Covariance Type:</th>       <td>nonrobust</td>      <th>  LLR p-value:       </th> <td>1.671e-30</td>\n",
       "</tr>\n",
       "</table>\n",
       "<table class=\"simpletable\">\n",
       "<tr>\n",
       "          <td></td>             <th>coef</th>     <th>std err</th>      <th>z</th>      <th>P>|z|</th>  <th>[0.025</th>    <th>0.975]</th>  \n",
       "</tr>\n",
       "<tr>\n",
       "  <th>Intercept</th>         <td>    2.4783</td> <td>    0.525</td> <td>    4.724</td> <td> 0.000</td> <td>    1.450</td> <td>    3.506</td>\n",
       "</tr>\n",
       "<tr>\n",
       "  <th>Salary</th>            <td>-2.117e-05</td> <td> 5.19e-06</td> <td>   -4.079</td> <td> 0.000</td> <td>-3.13e-05</td> <td> -1.1e-05</td>\n",
       "</tr>\n",
       "<tr>\n",
       "  <th>age</th>               <td>   -0.0487</td> <td>    0.009</td> <td>   -5.677</td> <td> 0.000</td> <td>   -0.065</td> <td>   -0.032</td>\n",
       "</tr>\n",
       "<tr>\n",
       "  <th>educ</th>              <td>    0.0351</td> <td>    0.029</td> <td>    1.209</td> <td> 0.227</td> <td>   -0.022</td> <td>    0.092</td>\n",
       "</tr>\n",
       "<tr>\n",
       "  <th>no_young_children</th> <td>   -1.3080</td> <td>    0.169</td> <td>   -7.747</td> <td> 0.000</td> <td>   -1.639</td> <td>   -0.977</td>\n",
       "</tr>\n",
       "<tr>\n",
       "  <th>foreign_yes</th>       <td>    1.3028</td> <td>    0.200</td> <td>    6.517</td> <td> 0.000</td> <td>    0.911</td> <td>    1.695</td>\n",
       "</tr>\n",
       "</table>"
      ],
      "text/plain": [
       "<class 'statsmodels.iolib.summary.Summary'>\n",
       "\"\"\"\n",
       "                            Logit Regression Results                            \n",
       "================================================================================\n",
       "Dep. Variable:     Holliday_Package_yes   No. Observations:                  872\n",
       "Model:                            Logit   Df Residuals:                      866\n",
       "Method:                             MLE   Df Model:                            5\n",
       "Date:                  Fri, 30 Sep 2022   Pseudo R-squ.:                  0.1243\n",
       "Time:                          07:29:07   Log-Likelihood:                -526.84\n",
       "converged:                         True   LL-Null:                       -601.61\n",
       "Covariance Type:              nonrobust   LLR p-value:                 1.671e-30\n",
       "=====================================================================================\n",
       "                        coef    std err          z      P>|z|      [0.025      0.975]\n",
       "-------------------------------------------------------------------------------------\n",
       "Intercept             2.4783      0.525      4.724      0.000       1.450       3.506\n",
       "Salary            -2.117e-05   5.19e-06     -4.079      0.000   -3.13e-05    -1.1e-05\n",
       "age                  -0.0487      0.009     -5.677      0.000      -0.065      -0.032\n",
       "educ                  0.0351      0.029      1.209      0.227      -0.022       0.092\n",
       "no_young_children    -1.3080      0.169     -7.747      0.000      -1.639      -0.977\n",
       "foreign_yes           1.3028      0.200      6.517      0.000       0.911       1.695\n",
       "=====================================================================================\n",
       "\"\"\""
      ]
     },
     "execution_count": 143,
     "metadata": {},
     "output_type": "execute_result"
    }
   ],
   "source": [
    "Model_3=SM.logit(formula=M_3,data=dfn).fit()\n",
    "Model_3.summary()"
   ]
  },
  {
   "cell_type": "code",
   "execution_count": 174,
   "id": "52567b06",
   "metadata": {},
   "outputs": [
    {
     "name": "stdout",
     "output_type": "stream",
     "text": [
      "The adjusted pseudo R-square value is 0.11597348232009375\n"
     ]
    }
   ],
   "source": [
    "print('The adjusted pseudo R-square value is',1 - ((Model_3.llf - Model_3.df_model)/Model_3.llnull))"
   ]
  },
  {
   "cell_type": "code",
   "execution_count": 144,
   "id": "00ec8d41",
   "metadata": {},
   "outputs": [],
   "source": [
    "M_4 = 'Holliday_Package_yes~Salary+age+no_young_children+foreign_yes'"
   ]
  },
  {
   "cell_type": "code",
   "execution_count": 145,
   "id": "f8fc9824",
   "metadata": {},
   "outputs": [
    {
     "name": "stdout",
     "output_type": "stream",
     "text": [
      "Optimization terminated successfully.\n",
      "         Current function value: 0.605017\n",
      "         Iterations 6\n"
     ]
    },
    {
     "data": {
      "text/html": [
       "<table class=\"simpletable\">\n",
       "<caption>Logit Regression Results</caption>\n",
       "<tr>\n",
       "  <th>Dep. Variable:</th>   <td>Holliday_Package_yes</td> <th>  No. Observations:  </th>  <td>   872</td>  \n",
       "</tr>\n",
       "<tr>\n",
       "  <th>Model:</th>                   <td>Logit</td>        <th>  Df Residuals:      </th>  <td>   867</td>  \n",
       "</tr>\n",
       "<tr>\n",
       "  <th>Method:</th>                   <td>MLE</td>         <th>  Df Model:          </th>  <td>     4</td>  \n",
       "</tr>\n",
       "<tr>\n",
       "  <th>Date:</th>              <td>Fri, 30 Sep 2022</td>   <th>  Pseudo R-squ.:     </th>  <td>0.1231</td>  \n",
       "</tr>\n",
       "<tr>\n",
       "  <th>Time:</th>                  <td>07:29:29</td>       <th>  Log-Likelihood:    </th> <td> -527.58</td> \n",
       "</tr>\n",
       "<tr>\n",
       "  <th>converged:</th>               <td>True</td>         <th>  LL-Null:           </th> <td> -601.61</td> \n",
       "</tr>\n",
       "<tr>\n",
       "  <th>Covariance Type:</th>       <td>nonrobust</td>      <th>  LLR p-value:       </th> <td>5.267e-31</td>\n",
       "</tr>\n",
       "</table>\n",
       "<table class=\"simpletable\">\n",
       "<tr>\n",
       "          <td></td>             <th>coef</th>     <th>std err</th>      <th>z</th>      <th>P>|z|</th>  <th>[0.025</th>    <th>0.975]</th>  \n",
       "</tr>\n",
       "<tr>\n",
       "  <th>Intercept</th>         <td>    2.8128</td> <td>    0.448</td> <td>    6.282</td> <td> 0.000</td> <td>    1.935</td> <td>    3.690</td>\n",
       "</tr>\n",
       "<tr>\n",
       "  <th>Salary</th>            <td>-1.932e-05</td> <td> 4.94e-06</td> <td>   -3.911</td> <td> 0.000</td> <td> -2.9e-05</td> <td>-9.64e-06</td>\n",
       "</tr>\n",
       "<tr>\n",
       "  <th>age</th>               <td>   -0.0504</td> <td>    0.008</td> <td>   -5.962</td> <td> 0.000</td> <td>   -0.067</td> <td>   -0.034</td>\n",
       "</tr>\n",
       "<tr>\n",
       "  <th>no_young_children</th> <td>   -1.3023</td> <td>    0.169</td> <td>   -7.707</td> <td> 0.000</td> <td>   -1.633</td> <td>   -0.971</td>\n",
       "</tr>\n",
       "<tr>\n",
       "  <th>foreign_yes</th>       <td>    1.2092</td> <td>    0.183</td> <td>    6.592</td> <td> 0.000</td> <td>    0.850</td> <td>    1.569</td>\n",
       "</tr>\n",
       "</table>"
      ],
      "text/plain": [
       "<class 'statsmodels.iolib.summary.Summary'>\n",
       "\"\"\"\n",
       "                            Logit Regression Results                            \n",
       "================================================================================\n",
       "Dep. Variable:     Holliday_Package_yes   No. Observations:                  872\n",
       "Model:                            Logit   Df Residuals:                      867\n",
       "Method:                             MLE   Df Model:                            4\n",
       "Date:                  Fri, 30 Sep 2022   Pseudo R-squ.:                  0.1231\n",
       "Time:                          07:29:29   Log-Likelihood:                -527.58\n",
       "converged:                         True   LL-Null:                       -601.61\n",
       "Covariance Type:              nonrobust   LLR p-value:                 5.267e-31\n",
       "=====================================================================================\n",
       "                        coef    std err          z      P>|z|      [0.025      0.975]\n",
       "-------------------------------------------------------------------------------------\n",
       "Intercept             2.8128      0.448      6.282      0.000       1.935       3.690\n",
       "Salary            -1.932e-05   4.94e-06     -3.911      0.000    -2.9e-05   -9.64e-06\n",
       "age                  -0.0504      0.008     -5.962      0.000      -0.067      -0.034\n",
       "no_young_children    -1.3023      0.169     -7.707      0.000      -1.633      -0.971\n",
       "foreign_yes           1.2092      0.183      6.592      0.000       0.850       1.569\n",
       "=====================================================================================\n",
       "\"\"\""
      ]
     },
     "execution_count": 145,
     "metadata": {},
     "output_type": "execute_result"
    }
   ],
   "source": [
    "Model_4=SM.logit(formula=M_4,data=dfn).fit()\n",
    "Model_4.summary()"
   ]
  },
  {
   "cell_type": "code",
   "execution_count": 175,
   "id": "4cf33dfe",
   "metadata": {},
   "outputs": [
    {
     "name": "stdout",
     "output_type": "stream",
     "text": [
      "The adjusted pseudo R-square value is 0.11641507873864654\n"
     ]
    }
   ],
   "source": [
    "print('The adjusted pseudo R-square value is',1 - ((Model_4.llf - Model_4.df_model)/Model_4.llnull))"
   ]
  },
  {
   "cell_type": "code",
   "execution_count": null,
   "id": "f21bfe5d",
   "metadata": {},
   "outputs": [],
   "source": []
  },
  {
   "cell_type": "code",
   "execution_count": null,
   "id": "5294c676",
   "metadata": {},
   "outputs": [],
   "source": []
  },
  {
   "cell_type": "code",
   "execution_count": null,
   "id": "36831346",
   "metadata": {},
   "outputs": [],
   "source": []
  },
  {
   "cell_type": "markdown",
   "id": "fc5875f5",
   "metadata": {},
   "source": [
    "## predection on data"
   ]
  },
  {
   "cell_type": "code",
   "execution_count": 146,
   "id": "77df674a",
   "metadata": {},
   "outputs": [
    {
     "data": {
      "text/plain": [
       "array([0.28134675, 0.45627236, 0.3479663 , 0.06660152, 0.33281546,\n",
       "       0.3786626 , 0.21113616, 0.62334247, 0.51279809, 0.48804711,\n",
       "       0.43035628, 0.29066759, 0.05158982, 0.17218461, 0.17218461,\n",
       "       0.24808831, 0.32836373, 0.32894233, 0.31607634, 0.2750884 ,\n",
       "       0.58527883, 0.310906  , 0.4012165 , 0.45325044, 0.35414477,\n",
       "       0.41733665, 0.12624157, 0.26794571, 0.34410074, 0.63417739,\n",
       "       0.21113616, 0.63910927, 0.33067881, 0.40458485, 0.23418444,\n",
       "       0.3672405 , 0.4212648 , 0.2196574 , 0.41202504, 0.42096652,\n",
       "       0.3678671 , 0.69673671, 0.54529185, 0.32818036, 0.55920554,\n",
       "       0.46921057, 0.04344661, 0.51129782, 0.30052008, 0.47101854,\n",
       "       0.43864061, 0.62719535, 0.60149048, 0.48404714, 0.31768058,\n",
       "       0.47796929, 0.21593554, 0.17695323, 0.31204351, 0.32772057,\n",
       "       0.3014498 , 0.62607854, 0.13915149, 0.31790874, 0.39845238,\n",
       "       0.58682073, 0.28375699, 0.13915149, 0.28456042, 0.47948625,\n",
       "       0.20963911, 0.59022724, 0.32583574, 0.14020555, 0.45106497,\n",
       "       0.32623623, 0.53158597, 0.39822453, 0.72915072, 0.44793416,\n",
       "       0.64571821, 0.40794987, 0.27738778, 0.14627678, 0.59080045,\n",
       "       0.3970099 , 0.49984024, 0.33860883, 0.27585724, 0.2455009 ,\n",
       "       0.41574768, 0.403332  , 0.33693923, 0.60679385, 0.33288381,\n",
       "       0.30427897, 0.43182062, 0.2868525 , 0.08947461, 0.44754749,\n",
       "       0.42918072, 0.42874797, 0.52041086, 0.34574783, 0.48826299,\n",
       "       0.12620534, 0.31833492, 0.62972375, 0.15828078, 0.11102372,\n",
       "       0.34504756, 0.57849822, 0.38522978, 0.38678653, 0.26237812,\n",
       "       0.35913154, 0.4281859 , 0.59295221, 0.32203697, 0.42277831,\n",
       "       0.08071004, 0.37644303, 0.39825622, 0.60862002, 0.04632876,\n",
       "       0.45950053, 0.40976334, 0.74769441, 0.28126351, 0.34719212,\n",
       "       0.48393494, 0.16632807, 0.26352406, 0.44551689, 0.54914188,\n",
       "       0.47579392, 0.31790874, 0.41791067, 0.4078667 , 0.32319979,\n",
       "       0.25527764, 0.62184271, 0.33034714, 0.16785264, 0.36776899,\n",
       "       0.29562314, 0.42951804, 0.42322196, 0.60897881, 0.5672362 ,\n",
       "       0.46512219, 0.257727  , 0.39182851, 0.5086137 , 0.45513647,\n",
       "       0.26566851, 0.4212546 , 0.41656174, 0.09591144, 0.20389115,\n",
       "       0.25671268, 0.50515229, 0.17218461, 0.34513552, 0.28642304,\n",
       "       0.3484524 , 0.50832377, 0.64461422, 0.44927947, 0.41609722,\n",
       "       0.39926356, 0.34542897, 0.36679914, 0.0725661 , 0.52962243,\n",
       "       0.41407122, 0.09511678, 0.49147271, 0.20727317, 0.48148852,\n",
       "       0.14340711, 0.1973482 , 0.27427116, 0.64153306, 0.25225482,\n",
       "       0.04905   , 0.4447739 , 0.52099265, 0.55258064, 0.42834077,\n",
       "       0.47446859, 0.23939283, 0.4991705 , 0.44698551, 0.34985979,\n",
       "       0.56012986, 0.29741064, 0.21543293, 0.1794915 , 0.49992719,\n",
       "       0.57667813, 0.4262687 , 0.29526135, 0.42137483, 0.54523624,\n",
       "       0.57324026, 0.18650634, 0.19754022, 0.3548644 , 0.4842693 ,\n",
       "       0.43764549, 0.60483456, 0.28604341, 0.22558972, 0.41102364,\n",
       "       0.44690312, 0.64396894, 0.08060979, 0.72853972, 0.39925727,\n",
       "       0.42005329, 0.64223929, 0.48448009, 0.45538891, 0.20400453,\n",
       "       0.27075669, 0.47523473, 0.10345225, 0.20009742, 0.39877884,\n",
       "       0.40029455, 0.40101773, 0.27551384, 0.376191  , 0.40303077,\n",
       "       0.1794915 , 0.40409004, 0.4330347 , 0.34942135, 0.18806418,\n",
       "       0.0901364 , 0.44440804, 0.34870569, 0.3440277 , 0.37519717,\n",
       "       0.54867836, 0.24835501, 0.39685898, 0.25613425, 0.39002466,\n",
       "       0.28959323, 0.31915552, 0.33743438, 0.21113616, 0.32231411,\n",
       "       0.38209337, 0.53845167, 0.49631854, 0.37444181, 0.42039913,\n",
       "       0.35316454, 0.51386319, 0.28966223, 0.3252811 , 0.35495967,\n",
       "       0.13619635, 0.56453356, 0.3664075 , 0.30102282, 0.36568381,\n",
       "       0.30816601, 0.42493154, 0.49824594, 0.6533834 , 0.26333927,\n",
       "       0.1403505 , 0.2363001 , 0.51374717, 0.20285956, 0.40344155,\n",
       "       0.27912316, 0.38880976, 0.30518198, 0.34638657, 0.37829134,\n",
       "       0.64630622, 0.25443104, 0.5344508 , 0.3406132 , 0.5800849 ,\n",
       "       0.41036524, 0.21756803, 0.58123157, 0.42596426, 0.26589871,\n",
       "       0.29645173, 0.04675067, 0.42296374, 0.46525027, 0.55132354,\n",
       "       0.36030417, 0.39205613, 0.39881293, 0.24585152, 0.53803419,\n",
       "       0.21250393, 0.33986359, 0.48942662, 0.5333378 , 0.43882879,\n",
       "       0.44567613, 0.55873463, 0.30578872, 0.2833111 , 0.35157583,\n",
       "       0.28431925, 0.15280985, 0.20285956, 0.70912933, 0.37941578,\n",
       "       0.46090697, 0.60890519, 0.34711699, 0.20051896, 0.38525299,\n",
       "       0.22442016, 0.37717096, 0.3367638 , 0.2518008 , 0.45253381,\n",
       "       0.42519886, 0.34098373, 0.48528264, 0.47845568, 0.64680062,\n",
       "       0.24668253, 0.36852145, 0.4180621 , 0.54833417, 0.46574203,\n",
       "       0.24853631, 0.65758704, 0.13881683, 0.23503552, 0.26287606,\n",
       "       0.27865123, 0.01727091, 0.44768502, 0.33432517, 0.07688166,\n",
       "       0.42907624, 0.51820307, 0.29386377, 0.49650883, 0.27329499,\n",
       "       0.2989343 , 0.43026967, 0.32006164, 0.49452184, 0.33511905,\n",
       "       0.3691263 , 0.23051676, 0.32809805, 0.52874572, 0.35916092,\n",
       "       0.29635711, 0.52835278, 0.41149233, 0.36743761, 0.31641979,\n",
       "       0.06858151, 0.48275583, 0.34016789, 0.1870384 , 0.44345217,\n",
       "       0.66852844, 0.33074495, 0.25463126, 0.24654105, 0.28834398,\n",
       "       0.28425255, 0.29594505, 0.30371157, 0.64249374, 0.31544535,\n",
       "       0.43317093, 0.35103948, 0.36171644, 0.71470647, 0.47285806,\n",
       "       0.57759636, 0.42975631, 0.13501549, 0.55164838, 0.74820544,\n",
       "       0.32854319, 0.72449718, 0.4646094 , 0.4890374 , 0.26720186,\n",
       "       0.37543258, 0.28538837, 0.54313503, 0.43603231, 0.75522686,\n",
       "       0.43890323, 0.57898833, 0.28539226, 0.32873595, 0.32659795,\n",
       "       0.78832518, 0.44467643, 0.51139628, 0.49783516, 0.57193086,\n",
       "       0.22631366, 0.45749709, 0.45168737, 0.3192225 , 0.4398988 ,\n",
       "       0.31546383, 0.74299264, 0.3975929 , 0.64760534, 0.29651046,\n",
       "       0.58430579, 0.46051209, 0.10974031, 0.44568799, 0.55338565,\n",
       "       0.3560309 , 0.45942529, 0.03562913, 0.30159639, 0.15446079,\n",
       "       0.56257682, 0.317924  , 0.07613264, 0.14301269, 0.50186568,\n",
       "       0.56707949, 0.44080511, 0.57396689, 0.65085094, 0.67454524,\n",
       "       0.53405637, 0.29631055, 0.38509708, 0.17218461, 0.21113616,\n",
       "       0.47426623, 0.32776588, 0.35766352, 0.51738806, 0.71891126,\n",
       "       0.29645173, 0.30133865, 0.33168875, 0.50643554, 0.32121914,\n",
       "       0.25094511, 0.29548354, 0.24318898, 0.35940255, 0.37848385,\n",
       "       0.25617251, 0.12459474, 0.57098749, 0.56345512, 0.3707151 ,\n",
       "       0.31962192, 0.38553709, 0.32403271, 0.10610195, 0.63278371,\n",
       "       0.49072901, 0.14020555, 0.35560049, 0.56042841, 0.38306296,\n",
       "       0.33758137, 0.13952715, 0.56638525, 0.37502505, 0.17111235,\n",
       "       0.75145815, 0.21031729, 0.36202809, 0.4247098 , 0.35388557,\n",
       "       0.14187819, 0.14753186, 0.55494062, 0.44781249, 0.44752514,\n",
       "       0.65138928, 0.54654528, 0.34535152, 0.46183527, 0.38058853,\n",
       "       0.59139042, 0.318519  , 0.32764926, 0.44980698, 0.13089136,\n",
       "       0.46450846, 0.6013004 , 0.31927895, 0.37028156, 0.67579237,\n",
       "       0.43771784, 0.4070761 , 0.37834971, 0.57961533, 0.35443084,\n",
       "       0.40056346, 0.46562355, 0.34016789, 0.50502188, 0.45112888,\n",
       "       0.43615416, 0.47076647, 0.25145526, 0.19892837, 0.40896333,\n",
       "       0.2712209 , 0.24740121, 0.33468849, 0.63174446, 0.50465461,\n",
       "       0.37691194, 0.43880085, 0.40873559, 0.39459917, 0.34016789,\n",
       "       0.53811258, 0.23633372, 0.3158714 , 0.24248154, 0.58321618,\n",
       "       0.5056222 , 0.24005012, 0.40556123, 0.59406787, 0.17343849,\n",
       "       0.21260084, 0.36308046, 0.27043666, 0.52922579, 0.26670004,\n",
       "       0.49390014, 0.36862546, 0.39582655, 0.43312765, 0.34271043,\n",
       "       0.32167553, 0.30561002, 0.37489663, 0.40154896, 0.51047388,\n",
       "       0.24668253, 0.32084444, 0.36783838, 0.1870384 , 0.35761564,\n",
       "       0.27553285, 0.50809006, 0.32224349, 0.43307418, 0.52243138,\n",
       "       0.07475297, 0.65579334, 0.52371654, 0.68566231, 0.51889946,\n",
       "       0.60321402, 0.41279447, 0.23044202, 0.36123398, 0.57722809,\n",
       "       0.59371851, 0.37788762, 0.54153434, 0.2529143 , 0.60155218,\n",
       "       0.62257416, 0.34176948, 0.31633352, 0.52694309, 0.29463544,\n",
       "       0.31387738, 0.42626381, 0.38809662, 0.44354585, 0.40710259,\n",
       "       0.35137552, 0.09619638, 0.70899124, 0.32617707, 0.33946641,\n",
       "       0.39138261, 0.60700607, 0.48120287, 0.30454019, 0.0514563 ,\n",
       "       0.29047889, 0.52650354, 0.73348145, 0.33152043, 0.20142179,\n",
       "       0.60884701, 0.39293532, 0.36429685, 0.33577302, 0.41467979,\n",
       "       0.54484316, 0.51633754, 0.23743189, 0.40133305, 0.19883898,\n",
       "       0.24685937, 0.25873877, 0.53210506, 0.32894233, 0.36964739,\n",
       "       0.29645173, 0.32316024, 0.55069901, 0.53110463, 0.55837543,\n",
       "       0.40160302, 0.36339826, 0.35603391, 0.58914725, 0.45128558,\n",
       "       0.46816435, 0.13902532, 0.28421388, 0.32228849, 0.64715211,\n",
       "       0.43096899, 0.2196574 , 0.5559443 , 0.34037688, 0.47129142,\n",
       "       0.50883584, 0.43379672, 0.36137985, 0.63749402, 0.59670088,\n",
       "       0.51821978, 0.40598498, 0.27483245, 0.44215882, 0.50933307,\n",
       "       0.64134942, 0.71387123, 0.37209003, 0.70270692, 0.72686848,\n",
       "       0.82618901, 0.53730769, 0.69382122, 0.61395565, 0.83363795,\n",
       "       0.70256129, 0.24392317, 0.51124028, 0.3664047 , 0.09519961,\n",
       "       0.89211554, 0.58317642, 0.63027213, 0.73848847, 0.79231877,\n",
       "       0.64518574, 0.32416734, 0.80951574, 0.28954844, 0.78691667,\n",
       "       0.69053036, 0.72577765, 0.81762208, 0.76002023, 0.79014629,\n",
       "       0.71927751, 0.78668433, 0.80162431, 0.27973378, 0.78797885,\n",
       "       0.40184865, 0.79318138, 0.79487727, 0.64528574, 0.82475535,\n",
       "       0.76077814, 0.79637621, 0.7485809 , 0.42026387, 0.8481399 ,\n",
       "       0.87603297, 0.73233634, 0.7522459 , 0.78219602, 0.61097144,\n",
       "       0.74783959, 0.57870602, 0.89918814, 0.64329674, 0.62739331,\n",
       "       0.4728491 , 0.74960157, 0.72391364, 0.75918146, 0.67249034,\n",
       "       0.6279896 , 0.85768709, 0.69561451, 0.83934332, 0.69135825,\n",
       "       0.38533634, 0.79286614, 0.81862931, 0.80578434, 0.76091527,\n",
       "       0.53574032, 0.84330882, 0.42296026, 0.6949679 , 0.72871342,\n",
       "       0.78619325, 0.72018444, 0.66880325, 0.86134166, 0.78072779,\n",
       "       0.79446852, 0.76661195, 0.71961682, 0.31081058, 0.72284274,\n",
       "       0.61668314, 0.68434523, 0.61754142, 0.90615586, 0.84331994,\n",
       "       0.82189217, 0.82225787, 0.61801431, 0.5767354 , 0.12337771,\n",
       "       0.77393423, 0.39037464, 0.63355469, 0.49398369, 0.34075146,\n",
       "       0.79537786, 0.80295453, 0.77636459, 0.81325433, 0.7683576 ,\n",
       "       0.78009402, 0.7610827 , 0.42846852, 0.59525621, 0.67795534,\n",
       "       0.84160677, 0.5582648 , 0.88041562, 0.66727408, 0.75503103,\n",
       "       0.82317182, 0.8124342 , 0.87453113, 0.51593269, 0.76217622,\n",
       "       0.7191171 , 0.36207335, 0.85693313, 0.65639017, 0.74460129,\n",
       "       0.53792516, 0.66745617, 0.7205643 , 0.8277439 , 0.81307631,\n",
       "       0.59550907, 0.88733681, 0.7256242 , 0.64000634, 0.74823773,\n",
       "       0.74683987, 0.77173941, 0.37377406, 0.793824  , 0.68274879,\n",
       "       0.70278462, 0.71437208, 0.58826816, 0.65479178, 0.76401451,\n",
       "       0.10762421, 0.30143245, 0.83360216, 0.80738792, 0.67497384,\n",
       "       0.26407457, 0.78256215, 0.78689179, 0.73024826, 0.79249677,\n",
       "       0.71438517, 0.87258675, 0.74890165, 0.85445007, 0.8736143 ,\n",
       "       0.72763012, 0.69817237, 0.72374473, 0.6138351 , 0.87534439,\n",
       "       0.67938399, 0.71070459, 0.74096747, 0.7843512 , 0.74290096,\n",
       "       0.84528243, 0.80542715, 0.53919642, 0.65644019, 0.69997169,\n",
       "       0.7328144 , 0.76081205, 0.75265981, 0.7277372 , 0.76813381,\n",
       "       0.77259605, 0.64619079, 0.56011608, 0.91940911, 0.33106407,\n",
       "       0.773325  , 0.82489864, 0.70608515, 0.64284651, 0.84784599,\n",
       "       0.70030599, 0.66013848, 0.7545389 , 0.6720704 , 0.68262321,\n",
       "       0.41070314, 0.59028549, 0.74099966, 0.58936772, 0.71724386,\n",
       "       0.52317813, 0.24995025, 0.77935547, 0.87949843, 0.76519733,\n",
       "       0.57024148, 0.84262331, 0.41629508, 0.68315045, 0.53963791,\n",
       "       0.80308814, 0.81252525, 0.36206299, 0.72720593, 0.43059155,\n",
       "       0.70540858, 0.50189145])"
      ]
     },
     "execution_count": 146,
     "metadata": {},
     "output_type": "execute_result"
    }
   ],
   "source": [
    "y_prob_pred_4 = Model_4.predict()\n",
    "y_prob_pred_4"
   ]
  },
  {
   "cell_type": "code",
   "execution_count": 147,
   "id": "01445bb0",
   "metadata": {},
   "outputs": [
    {
     "data": {
      "image/png": "[encoded data removed]",
      "text/plain": [
       "<Figure size 432x288 with 1 Axes>"
      ]
     },
     "metadata": {
      "needs_background": "light"
     },
     "output_type": "display_data"
    }
   ],
   "source": [
    "sns.boxplot(x=dfn['Holliday_Package_yes'],y=y_prob_pred_4)\n",
    "plt.xlabel('Opted');"
   ]
  },
  {
   "cell_type": "code",
   "execution_count": 148,
   "id": "93cf1293",
   "metadata": {},
   "outputs": [
    {
     "data": {
      "text/plain": [
       "array([0, 0, 0, 0, 0, 0, 0, 1, 1, 0, 0, 0, 0, 0, 0, 0, 0, 0, 0, 0, 1, 0,\n",
       "       0, 0, 0, 0, 0, 0, 0, 1, 0, 1, 0, 0, 0, 0, 0, 0, 0, 0, 0, 1, 1, 0,\n",
       "       1, 0, 0, 1, 0, 0, 0, 1, 1, 0, 0, 0, 0, 0, 0, 0, 0, 1, 0, 0, 0, 1,\n",
       "       0, 0, 0, 0, 0, 1, 0, 0, 0, 0, 1, 0, 1, 0, 1, 0, 0, 0, 1, 0, 0, 0,\n",
       "       0, 0, 0, 0, 0, 1, 0, 0, 0, 0, 0, 0, 0, 0, 1, 0, 0, 0, 0, 1, 0, 0,\n",
       "       0, 1, 0, 0, 0, 0, 0, 1, 0, 0, 0, 0, 0, 1, 0, 0, 0, 1, 0, 0, 0, 0,\n",
       "       0, 0, 1, 0, 0, 0, 0, 0, 0, 1, 0, 0, 0, 0, 0, 0, 1, 1, 0, 0, 0, 1,\n",
       "       0, 0, 0, 0, 0, 0, 0, 1, 0, 0, 0, 0, 1, 1, 0, 0, 0, 0, 0, 0, 1, 0,\n",
       "       0, 0, 0, 0, 0, 0, 0, 1, 0, 0, 0, 1, 1, 0, 0, 0, 0, 0, 0, 1, 0, 0,\n",
       "       0, 0, 1, 0, 0, 0, 1, 1, 0, 0, 0, 0, 0, 1, 0, 0, 0, 0, 1, 0, 1, 0,\n",
       "       0, 1, 0, 0, 0, 0, 0, 0, 0, 0, 0, 0, 0, 0, 0, 0, 0, 0, 0, 0, 0, 0,\n",
       "       0, 0, 0, 1, 0, 0, 0, 0, 0, 0, 0, 0, 0, 0, 1, 0, 0, 0, 0, 1, 0, 0,\n",
       "       0, 0, 1, 0, 0, 0, 0, 0, 0, 1, 0, 0, 0, 1, 0, 0, 0, 0, 0, 0, 0, 1,\n",
       "       0, 1, 0, 1, 0, 0, 1, 0, 0, 0, 0, 0, 0, 1, 0, 0, 0, 0, 1, 0, 0, 0,\n",
       "       1, 0, 0, 1, 0, 0, 0, 0, 0, 0, 1, 0, 0, 1, 0, 0, 0, 0, 0, 0, 0, 0,\n",
       "       0, 0, 0, 0, 1, 0, 0, 0, 1, 0, 0, 1, 0, 0, 0, 0, 0, 0, 0, 0, 0, 1,\n",
       "       0, 0, 0, 0, 0, 0, 0, 0, 0, 0, 0, 1, 0, 0, 1, 0, 0, 0, 0, 0, 0, 0,\n",
       "       0, 1, 0, 0, 0, 0, 0, 0, 0, 1, 0, 0, 0, 0, 1, 0, 1, 0, 0, 1, 1, 0,\n",
       "       1, 0, 0, 0, 0, 0, 1, 0, 1, 0, 1, 0, 0, 0, 1, 0, 1, 0, 1, 0, 0, 0,\n",
       "       0, 0, 0, 1, 0, 1, 0, 1, 0, 0, 0, 1, 0, 0, 0, 0, 0, 1, 0, 0, 0, 1,\n",
       "       1, 0, 1, 1, 1, 1, 0, 0, 0, 0, 0, 0, 0, 1, 1, 0, 0, 0, 1, 0, 0, 0,\n",
       "       0, 0, 0, 0, 0, 1, 1, 0, 0, 0, 0, 0, 1, 0, 0, 0, 1, 0, 0, 0, 1, 0,\n",
       "       0, 1, 0, 0, 0, 0, 0, 0, 1, 0, 0, 1, 1, 0, 0, 0, 1, 0, 0, 0, 0, 0,\n",
       "       1, 0, 0, 1, 0, 0, 0, 1, 0, 0, 0, 0, 1, 0, 0, 0, 0, 0, 0, 0, 0, 0,\n",
       "       1, 1, 0, 0, 0, 0, 0, 1, 0, 0, 0, 1, 1, 0, 0, 1, 0, 0, 0, 0, 1, 0,\n",
       "       0, 0, 0, 0, 0, 0, 0, 0, 0, 1, 0, 0, 0, 0, 0, 0, 1, 0, 0, 1, 0, 1,\n",
       "       1, 1, 1, 1, 0, 0, 0, 1, 1, 0, 1, 0, 1, 1, 0, 0, 1, 0, 0, 0, 0, 0,\n",
       "       0, 0, 0, 1, 0, 0, 0, 1, 0, 0, 0, 0, 1, 1, 0, 0, 1, 0, 0, 0, 0, 1,\n",
       "       1, 0, 0, 0, 0, 0, 1, 0, 0, 0, 0, 1, 1, 1, 0, 0, 0, 1, 0, 0, 0, 0,\n",
       "       0, 1, 0, 0, 1, 0, 0, 1, 0, 0, 1, 1, 1, 0, 0, 0, 1, 1, 1, 0, 1, 1,\n",
       "       1, 1, 1, 1, 1, 1, 0, 1, 0, 0, 1, 1, 1, 1, 1, 1, 0, 1, 0, 1, 1, 1,\n",
       "       1, 1, 1, 1, 1, 1, 0, 1, 0, 1, 1, 1, 1, 1, 1, 1, 0, 1, 1, 1, 1, 1,\n",
       "       1, 1, 1, 1, 1, 1, 0, 1, 1, 1, 1, 1, 1, 1, 1, 1, 0, 1, 1, 1, 1, 1,\n",
       "       1, 0, 1, 1, 1, 1, 1, 1, 1, 1, 1, 1, 0, 1, 1, 1, 1, 1, 1, 1, 1, 1,\n",
       "       1, 0, 1, 0, 1, 0, 0, 1, 1, 1, 1, 1, 1, 1, 0, 1, 1, 1, 1, 1, 1, 1,\n",
       "       1, 1, 1, 1, 1, 1, 0, 1, 1, 1, 1, 1, 1, 1, 1, 1, 1, 1, 1, 1, 1, 1,\n",
       "       0, 1, 1, 1, 1, 1, 1, 1, 0, 0, 1, 1, 1, 0, 1, 1, 1, 1, 1, 1, 1, 1,\n",
       "       1, 1, 1, 1, 1, 1, 1, 1, 1, 1, 1, 1, 1, 1, 1, 1, 1, 1, 1, 1, 1, 1,\n",
       "       1, 1, 1, 0, 1, 1, 1, 1, 1, 1, 1, 1, 1, 1, 0, 1, 1, 1, 1, 1, 0, 1,\n",
       "       1, 1, 1, 1, 0, 1, 1, 1, 1, 0, 1, 0, 1, 1])"
      ]
     },
     "execution_count": 148,
     "metadata": {},
     "output_type": "execute_result"
    }
   ],
   "source": [
    "y_class_pred=(y_prob_pred_4>=0.5).astype(int)\n",
    "y_class_pred"
   ]
  },
  {
   "cell_type": "code",
   "execution_count": 149,
   "id": "fe59b487",
   "metadata": {},
   "outputs": [],
   "source": [
    "from sklearn import metrics"
   ]
  },
  {
   "cell_type": "code",
   "execution_count": 150,
   "id": "2eabb690",
   "metadata": {},
   "outputs": [
    {
     "data": {
      "image/png": "[encoded data removed]",
      "text/plain": [
       "<Figure size 432x288 with 2 Axes>"
      ]
     },
     "metadata": {
      "needs_background": "light"
     },
     "output_type": "display_data"
    }
   ],
   "source": [
    "sns.heatmap((metrics.confusion_matrix(dfn['Holliday_Package_yes'],y_class_pred)),annot=True,fmt='.5g'\n",
    "            ,cmap='Greys');\n",
    "plt.xlabel('Predicted');\n",
    "plt.ylabel('Actuals',rotation=0);"
   ]
  },
  {
   "cell_type": "code",
   "execution_count": 151,
   "id": "508e038b",
   "metadata": {},
   "outputs": [
    {
     "name": "stdout",
     "output_type": "stream",
     "text": [
      "True Negative: 360 \n",
      "False Positives: 111 \n",
      "False Negatives: 176 \n",
      "True Positives: 225\n"
     ]
    }
   ],
   "source": [
    "tn, fp, fn, tp = metrics.confusion_matrix(dfn['Holliday_Package_yes'],y_class_pred).ravel()\n",
    "print('True Negative:',tn,'\\n''False Positives:' ,fp,'\\n''False Negatives:', fn,'\\n''True Positives:', tp)"
   ]
  },
  {
   "cell_type": "markdown",
   "id": "14b68eed",
   "metadata": {},
   "source": [
    "## Let us now go ahead and print the classification report to check the various other parameters."
   ]
  },
  {
   "cell_type": "code",
   "execution_count": 152,
   "id": "6a5b9691",
   "metadata": {},
   "outputs": [
    {
     "name": "stdout",
     "output_type": "stream",
     "text": [
      "              precision    recall  f1-score   support\n",
      "\n",
      "           0      0.672     0.764     0.715       471\n",
      "           1      0.670     0.561     0.611       401\n",
      "\n",
      "    accuracy                          0.671       872\n",
      "   macro avg      0.671     0.663     0.663       872\n",
      "weighted avg      0.671     0.671     0.667       872\n",
      "\n"
     ]
    }
   ],
   "source": [
    "print(metrics.classification_report(dfn['Holliday_Package_yes'],y_class_pred,digits=3))"
   ]
  },
  {
   "cell_type": "code",
   "execution_count": null,
   "id": "9df3670f",
   "metadata": {},
   "outputs": [],
   "source": []
  },
  {
   "cell_type": "code",
   "execution_count": null,
   "id": "f9c93f80",
   "metadata": {},
   "outputs": [],
   "source": []
  },
  {
   "cell_type": "code",
   "execution_count": 153,
   "id": "b59db012",
   "metadata": {},
   "outputs": [],
   "source": [
    "from sklearn.model_selection import train_test_split"
   ]
  },
  {
   "cell_type": "code",
   "execution_count": 154,
   "id": "bdfa5c28",
   "metadata": {},
   "outputs": [],
   "source": [
    "Train,Test = train_test_split(dfn,test_size=0.3,random_state=1,stratify=dfn['Holliday_Package_yes'])"
   ]
  },
  {
   "cell_type": "code",
   "execution_count": 155,
   "id": "5eeb7b93",
   "metadata": {},
   "outputs": [
    {
     "data": {
      "text/plain": [
       "0    0.539344\n",
       "1    0.460656\n",
       "Name: Holliday_Package_yes, dtype: float64"
      ]
     },
     "execution_count": 155,
     "metadata": {},
     "output_type": "execute_result"
    }
   ],
   "source": [
    "Train['Holliday_Package_yes'].value_counts(1)"
   ]
  },
  {
   "cell_type": "code",
   "execution_count": 156,
   "id": "17d56588",
   "metadata": {},
   "outputs": [
    {
     "data": {
      "text/plain": [
       "0    0.541985\n",
       "1    0.458015\n",
       "Name: Holliday_Package_yes, dtype: float64"
      ]
     },
     "execution_count": 156,
     "metadata": {},
     "output_type": "execute_result"
    }
   ],
   "source": [
    "Test['Holliday_Package_yes'].value_counts(1)"
   ]
  },
  {
   "cell_type": "code",
   "execution_count": 157,
   "id": "7b5bff41",
   "metadata": {},
   "outputs": [],
   "source": [
    "from sklearn.linear_model import LogisticRegression"
   ]
  },
  {
   "cell_type": "code",
   "execution_count": 158,
   "id": "7d13c01e",
   "metadata": {},
   "outputs": [],
   "source": [
    "LR = LogisticRegression(solver='newton-cg',penalty='none')"
   ]
  },
  {
   "cell_type": "code",
   "execution_count": 159,
   "id": "0bbfd8a4",
   "metadata": {},
   "outputs": [
    {
     "data": {
      "text/html": [
       "<div>\n",
       "<style scoped>\n",
       "    .dataframe tbody tr th:only-of-type {\n",
       "        vertical-align: middle;\n",
       "    }\n",
       "\n",
       "    .dataframe tbody tr th {\n",
       "        vertical-align: top;\n",
       "    }\n",
       "\n",
       "    .dataframe thead th {\n",
       "        text-align: right;\n",
       "    }\n",
       "</style>\n",
       "<table border=\"1\" class=\"dataframe\">\n",
       "  <thead>\n",
       "    <tr style=\"text-align: right;\">\n",
       "      <th></th>\n",
       "      <th>Salary</th>\n",
       "      <th>age</th>\n",
       "      <th>educ</th>\n",
       "      <th>no_young_children</th>\n",
       "      <th>no_older_children</th>\n",
       "      <th>Holliday_Package_yes</th>\n",
       "      <th>foreign_yes</th>\n",
       "    </tr>\n",
       "  </thead>\n",
       "  <tbody>\n",
       "    <tr>\n",
       "      <th>0</th>\n",
       "      <td>48412.0</td>\n",
       "      <td>30</td>\n",
       "      <td>8</td>\n",
       "      <td>1</td>\n",
       "      <td>1</td>\n",
       "      <td>0</td>\n",
       "      <td>0</td>\n",
       "    </tr>\n",
       "    <tr>\n",
       "      <th>1</th>\n",
       "      <td>37207.0</td>\n",
       "      <td>45</td>\n",
       "      <td>8</td>\n",
       "      <td>0</td>\n",
       "      <td>1</td>\n",
       "      <td>1</td>\n",
       "      <td>0</td>\n",
       "    </tr>\n",
       "    <tr>\n",
       "      <th>2</th>\n",
       "      <td>58022.0</td>\n",
       "      <td>46</td>\n",
       "      <td>9</td>\n",
       "      <td>0</td>\n",
       "      <td>0</td>\n",
       "      <td>0</td>\n",
       "      <td>0</td>\n",
       "    </tr>\n",
       "    <tr>\n",
       "      <th>3</th>\n",
       "      <td>66503.0</td>\n",
       "      <td>31</td>\n",
       "      <td>11</td>\n",
       "      <td>2</td>\n",
       "      <td>0</td>\n",
       "      <td>0</td>\n",
       "      <td>0</td>\n",
       "    </tr>\n",
       "    <tr>\n",
       "      <th>4</th>\n",
       "      <td>66734.0</td>\n",
       "      <td>44</td>\n",
       "      <td>12</td>\n",
       "      <td>0</td>\n",
       "      <td>2</td>\n",
       "      <td>0</td>\n",
       "      <td>0</td>\n",
       "    </tr>\n",
       "  </tbody>\n",
       "</table>\n",
       "</div>"
      ],
      "text/plain": [
       "    Salary  age  educ  no_young_children  no_older_children  \\\n",
       "0  48412.0   30     8                  1                  1   \n",
       "1  37207.0   45     8                  0                  1   \n",
       "2  58022.0   46     9                  0                  0   \n",
       "3  66503.0   31    11                  2                  0   \n",
       "4  66734.0   44    12                  0                  2   \n",
       "\n",
       "   Holliday_Package_yes  foreign_yes  \n",
       "0                     0            0  \n",
       "1                     1            0  \n",
       "2                     0            0  \n",
       "3                     0            0  \n",
       "4                     0            0  "
      ]
     },
     "execution_count": 159,
     "metadata": {},
     "output_type": "execute_result"
    }
   ],
   "source": [
    "dfn.head()"
   ]
  },
  {
   "cell_type": "code",
   "execution_count": 160,
   "id": "bb8b4271",
   "metadata": {},
   "outputs": [
    {
     "data": {
      "text/plain": [
       "Index(['Salary', 'age', 'educ', 'no_young_children', 'no_older_children',\n",
       "       'Holliday_Package_yes', 'foreign_yes'],\n",
       "      dtype='object')"
      ]
     },
     "execution_count": 160,
     "metadata": {},
     "output_type": "execute_result"
    }
   ],
   "source": [
    "dfn.columns"
   ]
  },
  {
   "cell_type": "code",
   "execution_count": 161,
   "id": "c1159924",
   "metadata": {},
   "outputs": [
    {
     "name": "stderr",
     "output_type": "stream",
     "text": [
      "C:\\Users\\ravi\\anaconda3\\lib\\site-packages\\scipy\\optimize\\linesearch.py:478: LineSearchWarning: The line search algorithm did not converge\n",
      "  warn('The line search algorithm did not converge', LineSearchWarning)\n",
      "C:\\Users\\ravi\\anaconda3\\lib\\site-packages\\scipy\\optimize\\linesearch.py:327: LineSearchWarning: The line search algorithm did not converge\n",
      "  warn('The line search algorithm did not converge', LineSearchWarning)\n",
      "C:\\Users\\ravi\\anaconda3\\lib\\site-packages\\scipy\\optimize\\linesearch.py:478: LineSearchWarning: The line search algorithm did not converge\n",
      "  warn('The line search algorithm did not converge', LineSearchWarning)\n",
      "C:\\Users\\ravi\\anaconda3\\lib\\site-packages\\scipy\\optimize\\linesearch.py:327: LineSearchWarning: The line search algorithm did not converge\n",
      "  warn('The line search algorithm did not converge', LineSearchWarning)\n",
      "C:\\Users\\ravi\\anaconda3\\lib\\site-packages\\scipy\\optimize\\linesearch.py:478: LineSearchWarning: The line search algorithm did not converge\n",
      "  warn('The line search algorithm did not converge', LineSearchWarning)\n",
      "C:\\Users\\ravi\\anaconda3\\lib\\site-packages\\scipy\\optimize\\linesearch.py:327: LineSearchWarning: The line search algorithm did not converge\n",
      "  warn('The line search algorithm did not converge', LineSearchWarning)\n",
      "C:\\Users\\ravi\\anaconda3\\lib\\site-packages\\scipy\\optimize\\linesearch.py:478: LineSearchWarning: The line search algorithm did not converge\n",
      "  warn('The line search algorithm did not converge', LineSearchWarning)\n",
      "C:\\Users\\ravi\\anaconda3\\lib\\site-packages\\scipy\\optimize\\linesearch.py:327: LineSearchWarning: The line search algorithm did not converge\n",
      "  warn('The line search algorithm did not converge', LineSearchWarning)\n",
      "C:\\Users\\ravi\\anaconda3\\lib\\site-packages\\scipy\\optimize\\linesearch.py:478: LineSearchWarning: The line search algorithm did not converge\n",
      "  warn('The line search algorithm did not converge', LineSearchWarning)\n",
      "C:\\Users\\ravi\\anaconda3\\lib\\site-packages\\scipy\\optimize\\linesearch.py:327: LineSearchWarning: The line search algorithm did not converge\n",
      "  warn('The line search algorithm did not converge', LineSearchWarning)\n",
      "C:\\Users\\ravi\\anaconda3\\lib\\site-packages\\scipy\\optimize\\linesearch.py:478: LineSearchWarning: The line search algorithm did not converge\n",
      "  warn('The line search algorithm did not converge', LineSearchWarning)\n",
      "C:\\Users\\ravi\\anaconda3\\lib\\site-packages\\scipy\\optimize\\linesearch.py:327: LineSearchWarning: The line search algorithm did not converge\n",
      "  warn('The line search algorithm did not converge', LineSearchWarning)\n",
      "C:\\Users\\ravi\\anaconda3\\lib\\site-packages\\scipy\\optimize\\linesearch.py:478: LineSearchWarning: The line search algorithm did not converge\n",
      "  warn('The line search algorithm did not converge', LineSearchWarning)\n",
      "C:\\Users\\ravi\\anaconda3\\lib\\site-packages\\scipy\\optimize\\linesearch.py:327: LineSearchWarning: The line search algorithm did not converge\n",
      "  warn('The line search algorithm did not converge', LineSearchWarning)\n",
      "C:\\Users\\ravi\\anaconda3\\lib\\site-packages\\scipy\\optimize\\linesearch.py:478: LineSearchWarning: The line search algorithm did not converge\n",
      "  warn('The line search algorithm did not converge', LineSearchWarning)\n",
      "C:\\Users\\ravi\\anaconda3\\lib\\site-packages\\scipy\\optimize\\linesearch.py:327: LineSearchWarning: The line search algorithm did not converge\n",
      "  warn('The line search algorithm did not converge', LineSearchWarning)\n",
      "C:\\Users\\ravi\\anaconda3\\lib\\site-packages\\scipy\\optimize\\linesearch.py:478: LineSearchWarning: The line search algorithm did not converge\n",
      "  warn('The line search algorithm did not converge', LineSearchWarning)\n",
      "C:\\Users\\ravi\\anaconda3\\lib\\site-packages\\scipy\\optimize\\linesearch.py:327: LineSearchWarning: The line search algorithm did not converge\n",
      "  warn('The line search algorithm did not converge', LineSearchWarning)\n",
      "C:\\Users\\ravi\\anaconda3\\lib\\site-packages\\scipy\\optimize\\linesearch.py:478: LineSearchWarning: The line search algorithm did not converge\n",
      "  warn('The line search algorithm did not converge', LineSearchWarning)\n",
      "C:\\Users\\ravi\\anaconda3\\lib\\site-packages\\scipy\\optimize\\linesearch.py:327: LineSearchWarning: The line search algorithm did not converge\n",
      "  warn('The line search algorithm did not converge', LineSearchWarning)\n"
     ]
    }
   ],
   "source": [
    "model_sklearn_1 = LR.fit(Train[['Salary', 'age', 'educ', 'no_young_children',\n",
    "       'no_older_children', 'foreign_yes']],Train['Holliday_Package_yes'])"
   ]
  },
  {
   "cell_type": "code",
   "execution_count": 162,
   "id": "ad7c26e1",
   "metadata": {},
   "outputs": [],
   "source": [
    "model_sklearn_1_pred_train = model_sklearn_1.predict(Train[['Salary', 'age', 'educ', 'no_young_children',\n",
    "       'no_older_children', 'foreign_yes']])"
   ]
  },
  {
   "cell_type": "code",
   "execution_count": 163,
   "id": "a5435eec",
   "metadata": {},
   "outputs": [],
   "source": [
    "model_sklearn_1_pred_test = model_sklearn_1.predict(Test[['Salary', 'age', 'educ', 'no_young_children',\n",
    "       'no_older_children', 'foreign_yes']])"
   ]
  },
  {
   "cell_type": "code",
   "execution_count": 164,
   "id": "33c5cb5c",
   "metadata": {},
   "outputs": [],
   "source": [
    "from sklearn import metrics"
   ]
  },
  {
   "cell_type": "code",
   "execution_count": 165,
   "id": "dd6ef43e",
   "metadata": {},
   "outputs": [
    {
     "data": {
      "image/png": "[encoded data removed]",
      "text/plain": [
       "<Figure size 432x288 with 2 Axes>"
      ]
     },
     "metadata": {
      "needs_background": "light"
     },
     "output_type": "display_data"
    }
   ],
   "source": [
    "sns.heatmap((metrics.confusion_matrix(Train['Holliday_Package_yes'],model_sklearn_1_pred_train)),annot=True,fmt='.5g'\n",
    "            ,cmap='Greys');\n",
    "plt.xlabel('Predicted');\n",
    "plt.ylabel('Actuals',rotation=0);"
   ]
  },
  {
   "cell_type": "code",
   "execution_count": 166,
   "id": "8b8513a4",
   "metadata": {},
   "outputs": [
    {
     "data": {
      "image/png": "[encoded data removed]",
      "text/plain": [
       "<Figure size 432x288 with 2 Axes>"
      ]
     },
     "metadata": {
      "needs_background": "light"
     },
     "output_type": "display_data"
    }
   ],
   "source": [
    "sns.heatmap((metrics.confusion_matrix(Test['Holliday_Package_yes'],model_sklearn_1_pred_test)),annot=True,fmt='.5g'\n",
    "            ,cmap='Greys');\n",
    "plt.xlabel('Predicted');\n",
    "plt.ylabel('Actuals',rotation=0);"
   ]
  },
  {
   "cell_type": "markdown",
   "id": "22c3d1d3",
   "metadata": {},
   "source": [
    "## using model4 to build the model on training data and on predect for traing and test data"
   ]
  },
  {
   "cell_type": "code",
   "execution_count": 168,
   "id": "de1e26ad",
   "metadata": {},
   "outputs": [
    {
     "name": "stderr",
     "output_type": "stream",
     "text": [
      "C:\\Users\\ravi\\anaconda3\\lib\\site-packages\\scipy\\optimize\\linesearch.py:478: LineSearchWarning: The line search algorithm did not converge\n",
      "  warn('The line search algorithm did not converge', LineSearchWarning)\n",
      "C:\\Users\\ravi\\anaconda3\\lib\\site-packages\\scipy\\optimize\\linesearch.py:327: LineSearchWarning: The line search algorithm did not converge\n",
      "  warn('The line search algorithm did not converge', LineSearchWarning)\n",
      "C:\\Users\\ravi\\anaconda3\\lib\\site-packages\\scipy\\optimize\\linesearch.py:478: LineSearchWarning: The line search algorithm did not converge\n",
      "  warn('The line search algorithm did not converge', LineSearchWarning)\n",
      "C:\\Users\\ravi\\anaconda3\\lib\\site-packages\\scipy\\optimize\\linesearch.py:327: LineSearchWarning: The line search algorithm did not converge\n",
      "  warn('The line search algorithm did not converge', LineSearchWarning)\n",
      "C:\\Users\\ravi\\anaconda3\\lib\\site-packages\\scipy\\optimize\\linesearch.py:478: LineSearchWarning: The line search algorithm did not converge\n",
      "  warn('The line search algorithm did not converge', LineSearchWarning)\n",
      "C:\\Users\\ravi\\anaconda3\\lib\\site-packages\\scipy\\optimize\\linesearch.py:327: LineSearchWarning: The line search algorithm did not converge\n",
      "  warn('The line search algorithm did not converge', LineSearchWarning)\n",
      "C:\\Users\\ravi\\anaconda3\\lib\\site-packages\\scipy\\optimize\\linesearch.py:478: LineSearchWarning: The line search algorithm did not converge\n",
      "  warn('The line search algorithm did not converge', LineSearchWarning)\n",
      "C:\\Users\\ravi\\anaconda3\\lib\\site-packages\\scipy\\optimize\\linesearch.py:327: LineSearchWarning: The line search algorithm did not converge\n",
      "  warn('The line search algorithm did not converge', LineSearchWarning)\n",
      "C:\\Users\\ravi\\anaconda3\\lib\\site-packages\\scipy\\optimize\\linesearch.py:478: LineSearchWarning: The line search algorithm did not converge\n",
      "  warn('The line search algorithm did not converge', LineSearchWarning)\n",
      "C:\\Users\\ravi\\anaconda3\\lib\\site-packages\\scipy\\optimize\\linesearch.py:327: LineSearchWarning: The line search algorithm did not converge\n",
      "  warn('The line search algorithm did not converge', LineSearchWarning)\n",
      "C:\\Users\\ravi\\anaconda3\\lib\\site-packages\\scipy\\optimize\\linesearch.py:478: LineSearchWarning: The line search algorithm did not converge\n",
      "  warn('The line search algorithm did not converge', LineSearchWarning)\n",
      "C:\\Users\\ravi\\anaconda3\\lib\\site-packages\\scipy\\optimize\\linesearch.py:327: LineSearchWarning: The line search algorithm did not converge\n",
      "  warn('The line search algorithm did not converge', LineSearchWarning)\n",
      "C:\\Users\\ravi\\anaconda3\\lib\\site-packages\\scipy\\optimize\\linesearch.py:478: LineSearchWarning: The line search algorithm did not converge\n",
      "  warn('The line search algorithm did not converge', LineSearchWarning)\n",
      "C:\\Users\\ravi\\anaconda3\\lib\\site-packages\\scipy\\optimize\\linesearch.py:327: LineSearchWarning: The line search algorithm did not converge\n",
      "  warn('The line search algorithm did not converge', LineSearchWarning)\n",
      "C:\\Users\\ravi\\anaconda3\\lib\\site-packages\\scipy\\optimize\\linesearch.py:478: LineSearchWarning: The line search algorithm did not converge\n",
      "  warn('The line search algorithm did not converge', LineSearchWarning)\n",
      "C:\\Users\\ravi\\anaconda3\\lib\\site-packages\\scipy\\optimize\\linesearch.py:327: LineSearchWarning: The line search algorithm did not converge\n",
      "  warn('The line search algorithm did not converge', LineSearchWarning)\n",
      "C:\\Users\\ravi\\anaconda3\\lib\\site-packages\\scipy\\optimize\\linesearch.py:478: LineSearchWarning: The line search algorithm did not converge\n",
      "  warn('The line search algorithm did not converge', LineSearchWarning)\n",
      "C:\\Users\\ravi\\anaconda3\\lib\\site-packages\\scipy\\optimize\\linesearch.py:327: LineSearchWarning: The line search algorithm did not converge\n",
      "  warn('The line search algorithm did not converge', LineSearchWarning)\n",
      "C:\\Users\\ravi\\anaconda3\\lib\\site-packages\\scipy\\optimize\\linesearch.py:478: LineSearchWarning: The line search algorithm did not converge\n",
      "  warn('The line search algorithm did not converge', LineSearchWarning)\n",
      "C:\\Users\\ravi\\anaconda3\\lib\\site-packages\\scipy\\optimize\\linesearch.py:327: LineSearchWarning: The line search algorithm did not converge\n",
      "  warn('The line search algorithm did not converge', LineSearchWarning)\n",
      "C:\\Users\\ravi\\anaconda3\\lib\\site-packages\\scipy\\optimize\\linesearch.py:478: LineSearchWarning: The line search algorithm did not converge\n",
      "  warn('The line search algorithm did not converge', LineSearchWarning)\n",
      "C:\\Users\\ravi\\anaconda3\\lib\\site-packages\\scipy\\optimize\\linesearch.py:327: LineSearchWarning: The line search algorithm did not converge\n",
      "  warn('The line search algorithm did not converge', LineSearchWarning)\n",
      "C:\\Users\\ravi\\anaconda3\\lib\\site-packages\\scipy\\optimize\\linesearch.py:437: LineSearchWarning: Rounding errors prevent the line search from converging\n",
      "  warn(msg, LineSearchWarning)\n",
      "C:\\Users\\ravi\\anaconda3\\lib\\site-packages\\scipy\\optimize\\linesearch.py:327: LineSearchWarning: The line search algorithm did not converge\n",
      "  warn('The line search algorithm did not converge', LineSearchWarning)\n",
      "C:\\Users\\ravi\\anaconda3\\lib\\site-packages\\sklearn\\utils\\optimize.py:195: UserWarning: Line Search failed\n",
      "  warnings.warn('Line Search failed')\n"
     ]
    }
   ],
   "source": [
    "model_sklearn_4 = LR.fit(Train[['Salary','age','no_young_children','foreign_yes']],Train['Holliday_Package_yes'])"
   ]
  },
  {
   "cell_type": "code",
   "execution_count": 169,
   "id": "a126f05e",
   "metadata": {},
   "outputs": [],
   "source": [
    "model_sklearn_4_pred_train = model_sklearn_4.predict(Train[['Salary','age','no_young_children','foreign_yes']])"
   ]
  },
  {
   "cell_type": "code",
   "execution_count": 170,
   "id": "e35ccdce",
   "metadata": {},
   "outputs": [],
   "source": [
    "model_sklearn_4_pred_test = model_sklearn_4.predict(Test[['Salary', 'age','no_young_children','foreign_yes']])"
   ]
  },
  {
   "cell_type": "code",
   "execution_count": 171,
   "id": "bf9a12a3",
   "metadata": {},
   "outputs": [
    {
     "data": {
      "image/png": "[encoded data removed]",
      "text/plain": [
       "<Figure size 432x288 with 2 Axes>"
      ]
     },
     "metadata": {
      "needs_background": "light"
     },
     "output_type": "display_data"
    }
   ],
   "source": [
    "sns.heatmap((metrics.confusion_matrix(Train['Holliday_Package_yes'],model_sklearn_4_pred_train)),annot=True,fmt='.5g'\n",
    "            ,cmap='Greys');\n",
    "plt.xlabel('Predicted');\n",
    "plt.ylabel('Actuals',rotation=0);"
   ]
  },
  {
   "cell_type": "code",
   "execution_count": 172,
   "id": "efd19010",
   "metadata": {},
   "outputs": [
    {
     "data": {
      "image/png": "[encoded data removed]",
      "text/plain": [
       "<Figure size 432x288 with 2 Axes>"
      ]
     },
     "metadata": {
      "needs_background": "light"
     },
     "output_type": "display_data"
    }
   ],
   "source": [
    "sns.heatmap((metrics.confusion_matrix(Test['Holliday_Package_yes'],model_sklearn_4_pred_test)),annot=True,fmt='.5g'\n",
    "            ,cmap='Greys');\n",
    "plt.xlabel('Predicted');\n",
    "plt.ylabel('Actuals',rotation=0);"
   ]
  },
  {
   "cell_type": "code",
   "execution_count": 173,
   "id": "db9879f1",
   "metadata": {},
   "outputs": [
    {
     "name": "stdout",
     "output_type": "stream",
     "text": [
      "Accuracy Score - Model 1\n",
      "Training: 0.6672131147540984\n",
      "Testing:  0.648854961832061\n",
      "\n",
      "Accuracy Score - Model 4\n",
      "Training: 0.6540983606557377\n",
      "Testing:  0.6793893129770993\n"
     ]
    }
   ],
   "source": [
    "print('Accuracy Score - Model 1')\n",
    "print('Training:', metrics.accuracy_score(Train['Holliday_Package_yes'],model_sklearn_1_pred_train))\n",
    "print('Testing: ', metrics.accuracy_score(Test['Holliday_Package_yes'],model_sklearn_1_pred_test))\n",
    "\n",
    "print('\\nAccuracy Score - Model 4')\n",
    "print('Training:', metrics.accuracy_score(Train['Holliday_Package_yes'],model_sklearn_4_pred_train))\n",
    "print('Testing: ', metrics.accuracy_score(Test['Holliday_Package_yes'],model_sklearn_4_pred_test))"
   ]
  },
  {
   "cell_type": "code",
   "execution_count": null,
   "id": "5784285e",
   "metadata": {},
   "outputs": [],
   "source": []
  }
 ],
 "metadata": {
  "kernelspec": {
   "display_name": "Python 3 (ipykernel)",
   "language": "python",
   "name": "python3"
  },
  "language_info": {
   "codemirror_mode": {
    "name": "ipython",
    "version": 3
   },
   "file_extension": ".py",
   "mimetype": "text/x-python",
   "name": "python",
   "nbconvert_exporter": "python",
   "pygments_lexer": "ipython3",
   "version": "3.9.7"
  }
 },
 "nbformat": 4,
 "nbformat_minor": 5
}
