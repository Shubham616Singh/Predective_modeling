{
 "cells": [
  {
   "cell_type": "code",
   "execution_count": 1,
   "id": "3d06467d",
   "metadata": {},
   "outputs": [],
   "source": [
    "import numpy as np   \n",
    "import pandas as pd    \n",
    "import seaborn as sns\n",
    "import matplotlib.pyplot as plt \n",
    "import warnings\n",
    "warnings.filterwarnings('ignore')"
   ]
  },
  {
   "cell_type": "code",
   "execution_count": 6,
   "id": "1db580a7",
   "metadata": {},
   "outputs": [
    {
     "data": {
      "text/html": [
       "<div>\n",
       "<style scoped>\n",
       "    .dataframe tbody tr th:only-of-type {\n",
       "        vertical-align: middle;\n",
       "    }\n",
       "\n",
       "    .dataframe tbody tr th {\n",
       "        vertical-align: top;\n",
       "    }\n",
       "\n",
       "    .dataframe thead th {\n",
       "        text-align: right;\n",
       "    }\n",
       "</style>\n",
       "<table border=\"1\" class=\"dataframe\">\n",
       "  <thead>\n",
       "    <tr style=\"text-align: right;\">\n",
       "      <th></th>\n",
       "      <th>Unnamed: 0</th>\n",
       "      <th>carat</th>\n",
       "      <th>cut</th>\n",
       "      <th>color</th>\n",
       "      <th>clarity</th>\n",
       "      <th>depth</th>\n",
       "      <th>table</th>\n",
       "      <th>x</th>\n",
       "      <th>y</th>\n",
       "      <th>z</th>\n",
       "      <th>price</th>\n",
       "    </tr>\n",
       "  </thead>\n",
       "  <tbody>\n",
       "    <tr>\n",
       "      <th>0</th>\n",
       "      <td>1</td>\n",
       "      <td>0.30</td>\n",
       "      <td>Ideal</td>\n",
       "      <td>E</td>\n",
       "      <td>SI1</td>\n",
       "      <td>62.1</td>\n",
       "      <td>58.0</td>\n",
       "      <td>4.27</td>\n",
       "      <td>4.29</td>\n",
       "      <td>2.66</td>\n",
       "      <td>499</td>\n",
       "    </tr>\n",
       "    <tr>\n",
       "      <th>1</th>\n",
       "      <td>2</td>\n",
       "      <td>0.33</td>\n",
       "      <td>Premium</td>\n",
       "      <td>G</td>\n",
       "      <td>IF</td>\n",
       "      <td>60.8</td>\n",
       "      <td>58.0</td>\n",
       "      <td>4.42</td>\n",
       "      <td>4.46</td>\n",
       "      <td>2.70</td>\n",
       "      <td>984</td>\n",
       "    </tr>\n",
       "    <tr>\n",
       "      <th>2</th>\n",
       "      <td>3</td>\n",
       "      <td>0.90</td>\n",
       "      <td>Very Good</td>\n",
       "      <td>E</td>\n",
       "      <td>VVS2</td>\n",
       "      <td>62.2</td>\n",
       "      <td>60.0</td>\n",
       "      <td>6.04</td>\n",
       "      <td>6.12</td>\n",
       "      <td>3.78</td>\n",
       "      <td>6289</td>\n",
       "    </tr>\n",
       "    <tr>\n",
       "      <th>3</th>\n",
       "      <td>4</td>\n",
       "      <td>0.42</td>\n",
       "      <td>Ideal</td>\n",
       "      <td>F</td>\n",
       "      <td>VS1</td>\n",
       "      <td>61.6</td>\n",
       "      <td>56.0</td>\n",
       "      <td>4.82</td>\n",
       "      <td>4.80</td>\n",
       "      <td>2.96</td>\n",
       "      <td>1082</td>\n",
       "    </tr>\n",
       "    <tr>\n",
       "      <th>4</th>\n",
       "      <td>5</td>\n",
       "      <td>0.31</td>\n",
       "      <td>Ideal</td>\n",
       "      <td>F</td>\n",
       "      <td>VVS1</td>\n",
       "      <td>60.4</td>\n",
       "      <td>59.0</td>\n",
       "      <td>4.35</td>\n",
       "      <td>4.43</td>\n",
       "      <td>2.65</td>\n",
       "      <td>779</td>\n",
       "    </tr>\n",
       "  </tbody>\n",
       "</table>\n",
       "</div>"
      ],
      "text/plain": [
       "   Unnamed: 0  carat        cut color clarity  depth  table     x     y     z  \\\n",
       "0           1   0.30      Ideal     E     SI1   62.1   58.0  4.27  4.29  2.66   \n",
       "1           2   0.33    Premium     G      IF   60.8   58.0  4.42  4.46  2.70   \n",
       "2           3   0.90  Very Good     E    VVS2   62.2   60.0  6.04  6.12  3.78   \n",
       "3           4   0.42      Ideal     F     VS1   61.6   56.0  4.82  4.80  2.96   \n",
       "4           5   0.31      Ideal     F    VVS1   60.4   59.0  4.35  4.43  2.65   \n",
       "\n",
       "   price  \n",
       "0    499  \n",
       "1    984  \n",
       "2   6289  \n",
       "3   1082  \n",
       "4    779  "
      ]
     },
     "execution_count": 6,
     "metadata": {},
     "output_type": "execute_result"
    }
   ],
   "source": [
    "df = pd.read_csv('C:\\\\Users\\\\ravi\\\\Desktop\\\\predective_cubic\\\\cubic_z.csv')\n",
    "df.head()"
   ]
  },
  {
   "cell_type": "code",
   "execution_count": 8,
   "id": "59836c0b",
   "metadata": {},
   "outputs": [],
   "source": [
    "df = df.drop('Unnamed: 0',axis=1)"
   ]
  },
  {
   "cell_type": "code",
   "execution_count": 9,
   "id": "9d233e7e",
   "metadata": {},
   "outputs": [
    {
     "data": {
      "text/html": [
       "<div>\n",
       "<style scoped>\n",
       "    .dataframe tbody tr th:only-of-type {\n",
       "        vertical-align: middle;\n",
       "    }\n",
       "\n",
       "    .dataframe tbody tr th {\n",
       "        vertical-align: top;\n",
       "    }\n",
       "\n",
       "    .dataframe thead th {\n",
       "        text-align: right;\n",
       "    }\n",
       "</style>\n",
       "<table border=\"1\" class=\"dataframe\">\n",
       "  <thead>\n",
       "    <tr style=\"text-align: right;\">\n",
       "      <th></th>\n",
       "      <th>carat</th>\n",
       "      <th>cut</th>\n",
       "      <th>color</th>\n",
       "      <th>clarity</th>\n",
       "      <th>depth</th>\n",
       "      <th>table</th>\n",
       "      <th>x</th>\n",
       "      <th>y</th>\n",
       "      <th>z</th>\n",
       "      <th>price</th>\n",
       "    </tr>\n",
       "  </thead>\n",
       "  <tbody>\n",
       "    <tr>\n",
       "      <th>0</th>\n",
       "      <td>0.30</td>\n",
       "      <td>Ideal</td>\n",
       "      <td>E</td>\n",
       "      <td>SI1</td>\n",
       "      <td>62.1</td>\n",
       "      <td>58.0</td>\n",
       "      <td>4.27</td>\n",
       "      <td>4.29</td>\n",
       "      <td>2.66</td>\n",
       "      <td>499</td>\n",
       "    </tr>\n",
       "    <tr>\n",
       "      <th>1</th>\n",
       "      <td>0.33</td>\n",
       "      <td>Premium</td>\n",
       "      <td>G</td>\n",
       "      <td>IF</td>\n",
       "      <td>60.8</td>\n",
       "      <td>58.0</td>\n",
       "      <td>4.42</td>\n",
       "      <td>4.46</td>\n",
       "      <td>2.70</td>\n",
       "      <td>984</td>\n",
       "    </tr>\n",
       "    <tr>\n",
       "      <th>2</th>\n",
       "      <td>0.90</td>\n",
       "      <td>Very Good</td>\n",
       "      <td>E</td>\n",
       "      <td>VVS2</td>\n",
       "      <td>62.2</td>\n",
       "      <td>60.0</td>\n",
       "      <td>6.04</td>\n",
       "      <td>6.12</td>\n",
       "      <td>3.78</td>\n",
       "      <td>6289</td>\n",
       "    </tr>\n",
       "    <tr>\n",
       "      <th>3</th>\n",
       "      <td>0.42</td>\n",
       "      <td>Ideal</td>\n",
       "      <td>F</td>\n",
       "      <td>VS1</td>\n",
       "      <td>61.6</td>\n",
       "      <td>56.0</td>\n",
       "      <td>4.82</td>\n",
       "      <td>4.80</td>\n",
       "      <td>2.96</td>\n",
       "      <td>1082</td>\n",
       "    </tr>\n",
       "    <tr>\n",
       "      <th>4</th>\n",
       "      <td>0.31</td>\n",
       "      <td>Ideal</td>\n",
       "      <td>F</td>\n",
       "      <td>VVS1</td>\n",
       "      <td>60.4</td>\n",
       "      <td>59.0</td>\n",
       "      <td>4.35</td>\n",
       "      <td>4.43</td>\n",
       "      <td>2.65</td>\n",
       "      <td>779</td>\n",
       "    </tr>\n",
       "  </tbody>\n",
       "</table>\n",
       "</div>"
      ],
      "text/plain": [
       "   carat        cut color clarity  depth  table     x     y     z  price\n",
       "0   0.30      Ideal     E     SI1   62.1   58.0  4.27  4.29  2.66    499\n",
       "1   0.33    Premium     G      IF   60.8   58.0  4.42  4.46  2.70    984\n",
       "2   0.90  Very Good     E    VVS2   62.2   60.0  6.04  6.12  3.78   6289\n",
       "3   0.42      Ideal     F     VS1   61.6   56.0  4.82  4.80  2.96   1082\n",
       "4   0.31      Ideal     F    VVS1   60.4   59.0  4.35  4.43  2.65    779"
      ]
     },
     "execution_count": 9,
     "metadata": {},
     "output_type": "execute_result"
    }
   ],
   "source": [
    "df.head()"
   ]
  },
  {
   "cell_type": "code",
   "execution_count": 11,
   "id": "3138427d",
   "metadata": {},
   "outputs": [
    {
     "data": {
      "text/plain": [
       "(26967, 10)"
      ]
     },
     "execution_count": 11,
     "metadata": {},
     "output_type": "execute_result"
    }
   ],
   "source": [
    "df.shape"
   ]
  },
  {
   "cell_type": "code",
   "execution_count": 12,
   "id": "8ee00c8d",
   "metadata": {},
   "outputs": [
    {
     "name": "stdout",
     "output_type": "stream",
     "text": [
      "<class 'pandas.core.frame.DataFrame'>\n",
      "RangeIndex: 26967 entries, 0 to 26966\n",
      "Data columns (total 10 columns):\n",
      " #   Column   Non-Null Count  Dtype  \n",
      "---  ------   --------------  -----  \n",
      " 0   carat    26967 non-null  float64\n",
      " 1   cut      26967 non-null  object \n",
      " 2   color    26967 non-null  object \n",
      " 3   clarity  26967 non-null  object \n",
      " 4   depth    26270 non-null  float64\n",
      " 5   table    26967 non-null  float64\n",
      " 6   x        26967 non-null  float64\n",
      " 7   y        26967 non-null  float64\n",
      " 8   z        26967 non-null  float64\n",
      " 9   price    26967 non-null  int64  \n",
      "dtypes: float64(6), int64(1), object(3)\n",
      "memory usage: 2.1+ MB\n"
     ]
    }
   ],
   "source": [
    "df.info()"
   ]
  },
  {
   "cell_type": "code",
   "execution_count": 15,
   "id": "865f0e47",
   "metadata": {},
   "outputs": [
    {
     "data": {
      "text/html": [
       "<div>\n",
       "<style scoped>\n",
       "    .dataframe tbody tr th:only-of-type {\n",
       "        vertical-align: middle;\n",
       "    }\n",
       "\n",
       "    .dataframe tbody tr th {\n",
       "        vertical-align: top;\n",
       "    }\n",
       "\n",
       "    .dataframe thead th {\n",
       "        text-align: right;\n",
       "    }\n",
       "</style>\n",
       "<table border=\"1\" class=\"dataframe\">\n",
       "  <thead>\n",
       "    <tr style=\"text-align: right;\">\n",
       "      <th></th>\n",
       "      <th>count</th>\n",
       "      <th>mean</th>\n",
       "      <th>std</th>\n",
       "      <th>min</th>\n",
       "      <th>25%</th>\n",
       "      <th>50%</th>\n",
       "      <th>75%</th>\n",
       "      <th>max</th>\n",
       "    </tr>\n",
       "  </thead>\n",
       "  <tbody>\n",
       "    <tr>\n",
       "      <th>carat</th>\n",
       "      <td>26967.0</td>\n",
       "      <td>0.798375</td>\n",
       "      <td>0.477745</td>\n",
       "      <td>0.2</td>\n",
       "      <td>0.40</td>\n",
       "      <td>0.70</td>\n",
       "      <td>1.05</td>\n",
       "      <td>4.50</td>\n",
       "    </tr>\n",
       "    <tr>\n",
       "      <th>depth</th>\n",
       "      <td>26270.0</td>\n",
       "      <td>61.745147</td>\n",
       "      <td>1.412860</td>\n",
       "      <td>50.8</td>\n",
       "      <td>61.00</td>\n",
       "      <td>61.80</td>\n",
       "      <td>62.50</td>\n",
       "      <td>73.60</td>\n",
       "    </tr>\n",
       "    <tr>\n",
       "      <th>table</th>\n",
       "      <td>26967.0</td>\n",
       "      <td>57.456080</td>\n",
       "      <td>2.232068</td>\n",
       "      <td>49.0</td>\n",
       "      <td>56.00</td>\n",
       "      <td>57.00</td>\n",
       "      <td>59.00</td>\n",
       "      <td>79.00</td>\n",
       "    </tr>\n",
       "    <tr>\n",
       "      <th>x</th>\n",
       "      <td>26967.0</td>\n",
       "      <td>5.729854</td>\n",
       "      <td>1.128516</td>\n",
       "      <td>0.0</td>\n",
       "      <td>4.71</td>\n",
       "      <td>5.69</td>\n",
       "      <td>6.55</td>\n",
       "      <td>10.23</td>\n",
       "    </tr>\n",
       "    <tr>\n",
       "      <th>y</th>\n",
       "      <td>26967.0</td>\n",
       "      <td>5.733569</td>\n",
       "      <td>1.166058</td>\n",
       "      <td>0.0</td>\n",
       "      <td>4.71</td>\n",
       "      <td>5.71</td>\n",
       "      <td>6.54</td>\n",
       "      <td>58.90</td>\n",
       "    </tr>\n",
       "    <tr>\n",
       "      <th>z</th>\n",
       "      <td>26967.0</td>\n",
       "      <td>3.538057</td>\n",
       "      <td>0.720624</td>\n",
       "      <td>0.0</td>\n",
       "      <td>2.90</td>\n",
       "      <td>3.52</td>\n",
       "      <td>4.04</td>\n",
       "      <td>31.80</td>\n",
       "    </tr>\n",
       "    <tr>\n",
       "      <th>price</th>\n",
       "      <td>26967.0</td>\n",
       "      <td>3939.518115</td>\n",
       "      <td>4024.864666</td>\n",
       "      <td>326.0</td>\n",
       "      <td>945.00</td>\n",
       "      <td>2375.00</td>\n",
       "      <td>5360.00</td>\n",
       "      <td>18818.00</td>\n",
       "    </tr>\n",
       "  </tbody>\n",
       "</table>\n",
       "</div>"
      ],
      "text/plain": [
       "         count         mean          std    min     25%      50%      75%  \\\n",
       "carat  26967.0     0.798375     0.477745    0.2    0.40     0.70     1.05   \n",
       "depth  26270.0    61.745147     1.412860   50.8   61.00    61.80    62.50   \n",
       "table  26967.0    57.456080     2.232068   49.0   56.00    57.00    59.00   \n",
       "x      26967.0     5.729854     1.128516    0.0    4.71     5.69     6.55   \n",
       "y      26967.0     5.733569     1.166058    0.0    4.71     5.71     6.54   \n",
       "z      26967.0     3.538057     0.720624    0.0    2.90     3.52     4.04   \n",
       "price  26967.0  3939.518115  4024.864666  326.0  945.00  2375.00  5360.00   \n",
       "\n",
       "            max  \n",
       "carat      4.50  \n",
       "depth     73.60  \n",
       "table     79.00  \n",
       "x         10.23  \n",
       "y         58.90  \n",
       "z         31.80  \n",
       "price  18818.00  "
      ]
     },
     "execution_count": 15,
     "metadata": {},
     "output_type": "execute_result"
    }
   ],
   "source": [
    "df.describe().T"
   ]
  },
  {
   "cell_type": "code",
   "execution_count": 16,
   "id": "c84ecd5a",
   "metadata": {},
   "outputs": [
    {
     "name": "stdout",
     "output_type": "stream",
     "text": [
      "CUT :  5\n",
      "Ideal        10816\n",
      "Premium       6899\n",
      "Very Good     6030\n",
      "Good          2441\n",
      "Fair           781\n",
      "Name: cut, dtype: int64\n",
      "\n",
      "\n",
      "*******************************************************\n",
      "\n",
      "\n",
      "COLOR :  7\n",
      "G    5661\n",
      "E    4917\n",
      "F    4729\n",
      "H    4102\n",
      "D    3344\n",
      "I    2771\n",
      "J    1443\n",
      "Name: color, dtype: int64\n",
      "\n",
      "\n",
      "*******************************************************\n",
      "\n",
      "\n",
      "CLARITY :  8\n",
      "SI1     6571\n",
      "VS2     6099\n",
      "SI2     4575\n",
      "VS1     4093\n",
      "VVS2    2531\n",
      "VVS1    1839\n",
      "IF       894\n",
      "I1       365\n",
      "Name: clarity, dtype: int64\n",
      "\n",
      "\n",
      "*******************************************************\n",
      "\n",
      "\n"
     ]
    }
   ],
   "source": [
    "for column in df.columns:\n",
    "    if df[column].dtype == \"object\":\n",
    "        print(column.upper(), \": \", df[column].nunique())\n",
    "        print(df[column].value_counts())\n",
    "        print(\"\\n\")\n",
    "        print(\"*\" * 55)\n",
    "        print(\"\\n\")"
   ]
  },
  {
   "cell_type": "code",
   "execution_count": 17,
   "id": "17fe83d8",
   "metadata": {},
   "outputs": [],
   "source": [
    "df[\"cut\"] = df[\"cut\"].replace([\"Ideal\", \"Premium\", \"Very Good\", \"Good\", \"Fair\"], [5, 4, 3, 2, 1])"
   ]
  },
  {
   "cell_type": "code",
   "execution_count": 18,
   "id": "8c66bb1b",
   "metadata": {},
   "outputs": [
    {
     "data": {
      "text/html": [
       "<div>\n",
       "<style scoped>\n",
       "    .dataframe tbody tr th:only-of-type {\n",
       "        vertical-align: middle;\n",
       "    }\n",
       "\n",
       "    .dataframe tbody tr th {\n",
       "        vertical-align: top;\n",
       "    }\n",
       "\n",
       "    .dataframe thead th {\n",
       "        text-align: right;\n",
       "    }\n",
       "</style>\n",
       "<table border=\"1\" class=\"dataframe\">\n",
       "  <thead>\n",
       "    <tr style=\"text-align: right;\">\n",
       "      <th></th>\n",
       "      <th>carat</th>\n",
       "      <th>cut</th>\n",
       "      <th>color</th>\n",
       "      <th>clarity</th>\n",
       "      <th>depth</th>\n",
       "      <th>table</th>\n",
       "      <th>x</th>\n",
       "      <th>y</th>\n",
       "      <th>z</th>\n",
       "      <th>price</th>\n",
       "    </tr>\n",
       "  </thead>\n",
       "  <tbody>\n",
       "    <tr>\n",
       "      <th>0</th>\n",
       "      <td>0.30</td>\n",
       "      <td>5</td>\n",
       "      <td>E</td>\n",
       "      <td>SI1</td>\n",
       "      <td>62.1</td>\n",
       "      <td>58.0</td>\n",
       "      <td>4.27</td>\n",
       "      <td>4.29</td>\n",
       "      <td>2.66</td>\n",
       "      <td>499</td>\n",
       "    </tr>\n",
       "    <tr>\n",
       "      <th>1</th>\n",
       "      <td>0.33</td>\n",
       "      <td>4</td>\n",
       "      <td>G</td>\n",
       "      <td>IF</td>\n",
       "      <td>60.8</td>\n",
       "      <td>58.0</td>\n",
       "      <td>4.42</td>\n",
       "      <td>4.46</td>\n",
       "      <td>2.70</td>\n",
       "      <td>984</td>\n",
       "    </tr>\n",
       "    <tr>\n",
       "      <th>2</th>\n",
       "      <td>0.90</td>\n",
       "      <td>3</td>\n",
       "      <td>E</td>\n",
       "      <td>VVS2</td>\n",
       "      <td>62.2</td>\n",
       "      <td>60.0</td>\n",
       "      <td>6.04</td>\n",
       "      <td>6.12</td>\n",
       "      <td>3.78</td>\n",
       "      <td>6289</td>\n",
       "    </tr>\n",
       "    <tr>\n",
       "      <th>3</th>\n",
       "      <td>0.42</td>\n",
       "      <td>5</td>\n",
       "      <td>F</td>\n",
       "      <td>VS1</td>\n",
       "      <td>61.6</td>\n",
       "      <td>56.0</td>\n",
       "      <td>4.82</td>\n",
       "      <td>4.80</td>\n",
       "      <td>2.96</td>\n",
       "      <td>1082</td>\n",
       "    </tr>\n",
       "    <tr>\n",
       "      <th>4</th>\n",
       "      <td>0.31</td>\n",
       "      <td>5</td>\n",
       "      <td>F</td>\n",
       "      <td>VVS1</td>\n",
       "      <td>60.4</td>\n",
       "      <td>59.0</td>\n",
       "      <td>4.35</td>\n",
       "      <td>4.43</td>\n",
       "      <td>2.65</td>\n",
       "      <td>779</td>\n",
       "    </tr>\n",
       "  </tbody>\n",
       "</table>\n",
       "</div>"
      ],
      "text/plain": [
       "   carat  cut color clarity  depth  table     x     y     z  price\n",
       "0   0.30    5     E     SI1   62.1   58.0  4.27  4.29  2.66    499\n",
       "1   0.33    4     G      IF   60.8   58.0  4.42  4.46  2.70    984\n",
       "2   0.90    3     E    VVS2   62.2   60.0  6.04  6.12  3.78   6289\n",
       "3   0.42    5     F     VS1   61.6   56.0  4.82  4.80  2.96   1082\n",
       "4   0.31    5     F    VVS1   60.4   59.0  4.35  4.43  2.65    779"
      ]
     },
     "execution_count": 18,
     "metadata": {},
     "output_type": "execute_result"
    }
   ],
   "source": [
    "df.head()"
   ]
  },
  {
   "cell_type": "code",
   "execution_count": 20,
   "id": "0e65dba0",
   "metadata": {},
   "outputs": [
    {
     "data": {
      "text/plain": [
       "carat        0\n",
       "cut          0\n",
       "color        0\n",
       "clarity      0\n",
       "depth      697\n",
       "table        0\n",
       "x            0\n",
       "y            0\n",
       "z            0\n",
       "price        0\n",
       "dtype: int64"
      ]
     },
     "execution_count": 20,
     "metadata": {},
     "output_type": "execute_result"
    }
   ],
   "source": [
    "df.isnull().sum()"
   ]
  },
  {
   "cell_type": "code",
   "execution_count": 21,
   "id": "9fe6ca95",
   "metadata": {},
   "outputs": [
    {
     "data": {
      "text/plain": [
       "depth    2.58464\n",
       "dtype: float64"
      ]
     },
     "execution_count": 21,
     "metadata": {},
     "output_type": "execute_result"
    }
   ],
   "source": [
    "(df.isnull().sum() / df.shape[0] * 100)[df.isnull().sum() > 0]"
   ]
  },
  {
   "cell_type": "code",
   "execution_count": 23,
   "id": "5dde0b76",
   "metadata": {},
   "outputs": [
    {
     "data": {
      "text/plain": [
       "<AxesSubplot:>"
      ]
     },
     "execution_count": 23,
     "metadata": {},
     "output_type": "execute_result"
    },
    {
     "data": {
      "image/png": "[encoded data removed]",
      "text/plain": [
       "<Figure size 432x288 with 1 Axes>"
      ]
     },
     "metadata": {
      "needs_background": "light"
     },
     "output_type": "display_data"
    }
   ],
   "source": [
    "df.boxplot()"
   ]
  },
  {
   "cell_type": "code",
   "execution_count": 26,
   "id": "75e8d15b",
   "metadata": {},
   "outputs": [
    {
     "data": {
      "text/plain": [
       "Index(['carat', 'cut', 'color', 'clarity', 'depth', 'table', 'x', 'y', 'z',\n",
       "       'price'],\n",
       "      dtype='object')"
      ]
     },
     "execution_count": 26,
     "metadata": {},
     "output_type": "execute_result"
    }
   ],
   "source": [
    "df.columns"
   ]
  },
  {
   "cell_type": "code",
   "execution_count": 27,
   "id": "c98be2dc",
   "metadata": {},
   "outputs": [
    {
     "data": {
      "text/plain": [
       "<AxesSubplot:xlabel='carat', ylabel='Density'>"
      ]
     },
     "execution_count": 27,
     "metadata": {},
     "output_type": "execute_result"
    },
    {
     "data": {
      "image/png": "[encoded data removed]",
      "text/plain": [
       "<Figure size 432x288 with 1 Axes>"
      ]
     },
     "metadata": {
      "needs_background": "light"
     },
     "output_type": "display_data"
    }
   ],
   "source": [
    "sns.distplot(df.carat)"
   ]
  },
  {
   "cell_type": "code",
   "execution_count": 28,
   "id": "9bce2f8d",
   "metadata": {},
   "outputs": [
    {
     "data": {
      "text/plain": [
       "<AxesSubplot:xlabel='cut', ylabel='Density'>"
      ]
     },
     "execution_count": 28,
     "metadata": {},
     "output_type": "execute_result"
    },
    {
     "data": {
      "image/png": "[encoded data removed]",
      "text/plain": [
       "<Figure size 432x288 with 1 Axes>"
      ]
     },
     "metadata": {
      "needs_background": "light"
     },
     "output_type": "display_data"
    }
   ],
   "source": [
    "sns.distplot(df.cut)"
   ]
  },
  {
   "cell_type": "code",
   "execution_count": 31,
   "id": "95d16fdd",
   "metadata": {},
   "outputs": [
    {
     "data": {
      "text/plain": [
       "<AxesSubplot:xlabel='price', ylabel='Density'>"
      ]
     },
     "execution_count": 31,
     "metadata": {},
     "output_type": "execute_result"
    },
    {
     "data": {
      "image/png": "[encoded data removed]",
      "text/plain": [
       "<Figure size 432x288 with 1 Axes>"
      ]
     },
     "metadata": {
      "needs_background": "light"
     },
     "output_type": "display_data"
    }
   ],
   "source": [
    "sns.distplot(df.price)"
   ]
  },
  {
   "cell_type": "code",
   "execution_count": 33,
   "id": "6bea0c50",
   "metadata": {},
   "outputs": [],
   "source": [
    "df.loc[df['depth'].isnull()==True,'depth']=61.80"
   ]
  },
  {
   "cell_type": "code",
   "execution_count": 34,
   "id": "eb18e739",
   "metadata": {},
   "outputs": [
    {
     "data": {
      "text/plain": [
       "<AxesSubplot:xlabel='depth', ylabel='Density'>"
      ]
     },
     "execution_count": 34,
     "metadata": {},
     "output_type": "execute_result"
    },
    {
     "data": {
      "image/png": "[encoded data removed]",
      "text/plain": [
       "<Figure size 432x288 with 1 Axes>"
      ]
     },
     "metadata": {
      "needs_background": "light"
     },
     "output_type": "display_data"
    }
   ],
   "source": [
    "sns.distplot(df.depth)"
   ]
  },
  {
   "cell_type": "code",
   "execution_count": 62,
   "id": "5ec4bc4a",
   "metadata": {},
   "outputs": [],
   "source": [
    "corr = df.corr()"
   ]
  },
  {
   "cell_type": "code",
   "execution_count": 64,
   "id": "d899eb19",
   "metadata": {},
   "outputs": [
    {
     "data": {
      "text/plain": [
       "<AxesSubplot:>"
      ]
     },
     "execution_count": 64,
     "metadata": {},
     "output_type": "execute_result"
    },
    {
     "data": {
      "image/png": "[encoded data removed]",
      "text/plain": [
       "<Figure size 864x576 with 2 Axes>"
      ]
     },
     "metadata": {
      "needs_background": "light"
     },
     "output_type": "display_data"
    }
   ],
   "source": [
    "plt.subplots(figsize=(12,8))\n",
    "sns.heatmap(corr, annot=True,fmt='.2f')"
   ]
  },
  {
   "cell_type": "code",
   "execution_count": 35,
   "id": "7293424e",
   "metadata": {},
   "outputs": [
    {
     "data": {
      "text/plain": [
       "Index(['carat', 'cut', 'color', 'clarity', 'depth', 'table', 'x', 'y', 'z',\n",
       "       'price'],\n",
       "      dtype='object')"
      ]
     },
     "execution_count": 35,
     "metadata": {},
     "output_type": "execute_result"
    }
   ],
   "source": [
    "df.columns"
   ]
  },
  {
   "cell_type": "code",
   "execution_count": 37,
   "id": "cd5ea9de",
   "metadata": {
    "scrolled": false
   },
   "outputs": [
    {
     "data": {
      "image/png": "[encoded data removed]",
      "text/plain": [
       "<Figure size 1080x5760 with 14 Axes>"
      ]
     },
     "metadata": {
      "needs_background": "light"
     },
     "output_type": "display_data"
    }
   ],
   "source": [
    "a = 1\n",
    "plt.figure(figsize=(15, 80))\n",
    "for i in df[\n",
    "    [\n",
    "        \"carat\",\n",
    "        \"cut\",\n",
    "        \"color\",\n",
    "        \"clarity\",\n",
    "        \"depth\",\n",
    "        \"x\",\n",
    "        \"y\",\n",
    "        \"z\",\n",
    "        \"price\",\n",
    "    ]\n",
    "]:\n",
    "    if df[i].dtype != \"object\":\n",
    "        plt.subplot(13, 2, a)\n",
    "        sns.distplot(df[i])\n",
    "        # plt.title(\"Histogram for:\" + i)\n",
    "        plt.subplot(13, 2, a + 1)\n",
    "        sns.boxplot(df[i])\n",
    "        # plt.title(\"Boxplot for:\" + i)\n",
    "        a += 2"
   ]
  },
  {
   "cell_type": "code",
   "execution_count": 39,
   "id": "61f4fceb",
   "metadata": {},
   "outputs": [
    {
     "data": {
      "text/plain": [
       "(26967, 10)"
      ]
     },
     "execution_count": 39,
     "metadata": {},
     "output_type": "execute_result"
    }
   ],
   "source": [
    "df.shape"
   ]
  },
  {
   "cell_type": "code",
   "execution_count": 40,
   "id": "08b48deb",
   "metadata": {},
   "outputs": [],
   "source": [
    "def remove_outlier(col):\n",
    "    sorted(col)\n",
    "    q1, q3 = np.quantile(col, [0.25, 0.75])\n",
    "    iqr = q3 - q1\n",
    "    ll = q1 - 1.5 * iqr\n",
    "    ul = q3 + 1.5 * iqr\n",
    "    return ll, ul"
   ]
  },
  {
   "cell_type": "code",
   "execution_count": 44,
   "id": "fb4067a2",
   "metadata": {},
   "outputs": [],
   "source": [
    "for i in df[['carat', 'cut', 'depth', 'x', 'y', 'z',\n",
    "       'price']]:\n",
    "    if df[i].dtype != \"object\":\n",
    "        ll, ul = remove_outlier(df[i])\n",
    "        df[i] = np.where(df[i] > ul, ul, df[i])\n",
    "        df[i] = np.where(df[i] < ll, ll, df[i])"
   ]
  },
  {
   "cell_type": "code",
   "execution_count": 45,
   "id": "86d1fb7e",
   "metadata": {},
   "outputs": [
    {
     "data": {
      "image/png": "[encoded data removed]",
      "text/plain": [
       "<Figure size 1080x5760 with 14 Axes>"
      ]
     },
     "metadata": {
      "needs_background": "light"
     },
     "output_type": "display_data"
    }
   ],
   "source": [
    "a = 1\n",
    "plt.figure(figsize=(15, 80))\n",
    "for i in df[\n",
    "    [\n",
    "        \"carat\",\n",
    "        \"cut\",\n",
    "        \"color\",\n",
    "        \"clarity\",\n",
    "        \"depth\",\n",
    "        \"x\",\n",
    "        \"y\",\n",
    "        \"z\",\n",
    "        \"price\",\n",
    "    ]\n",
    "]:\n",
    "    if df[i].dtype != \"object\":\n",
    "        plt.subplot(13, 2, a)\n",
    "        sns.distplot(df[i])\n",
    "        # plt.title(\"Histogram for:\" + i)\n",
    "        plt.subplot(13, 2, a + 1)\n",
    "        sns.boxplot(df[i])\n",
    "        # plt.title(\"Boxplot for:\" + i)\n",
    "        a += 2"
   ]
  },
  {
   "cell_type": "code",
   "execution_count": 56,
   "id": "84fec84d",
   "metadata": {},
   "outputs": [
    {
     "name": "stdout",
     "output_type": "stream",
     "text": [
      "<class 'pandas.core.frame.DataFrame'>\n",
      "RangeIndex: 26967 entries, 0 to 26966\n",
      "Data columns (total 10 columns):\n",
      " #   Column   Non-Null Count  Dtype  \n",
      "---  ------   --------------  -----  \n",
      " 0   carat    26967 non-null  float64\n",
      " 1   cut      26967 non-null  float64\n",
      " 2   color    26967 non-null  object \n",
      " 3   clarity  26967 non-null  object \n",
      " 4   depth    26967 non-null  float64\n",
      " 5   table    26967 non-null  float64\n",
      " 6   x        26967 non-null  float64\n",
      " 7   y        26967 non-null  float64\n",
      " 8   z        26967 non-null  float64\n",
      " 9   price    26967 non-null  float64\n",
      "dtypes: float64(8), object(2)\n",
      "memory usage: 2.1+ MB\n"
     ]
    }
   ],
   "source": [
    "df.info()"
   ]
  },
  {
   "cell_type": "code",
   "execution_count": 65,
   "id": "dd4873cf",
   "metadata": {},
   "outputs": [],
   "source": [
    "from sklearn import preprocessing"
   ]
  },
  {
   "cell_type": "code",
   "execution_count": 66,
   "id": "7aeeb0bb",
   "metadata": {},
   "outputs": [],
   "source": [
    "label_encoder = preprocessing.LabelEncoder()"
   ]
  },
  {
   "cell_type": "code",
   "execution_count": 69,
   "id": "767bc65f",
   "metadata": {},
   "outputs": [],
   "source": [
    "df['color']= label_encoder.fit_transform(df['color'])"
   ]
  },
  {
   "cell_type": "code",
   "execution_count": 70,
   "id": "d4965757",
   "metadata": {},
   "outputs": [],
   "source": [
    "df['clarity']= label_encoder.fit_transform(df['clarity'])"
   ]
  },
  {
   "cell_type": "code",
   "execution_count": 71,
   "id": "2fc8239f",
   "metadata": {},
   "outputs": [
    {
     "data": {
      "text/html": [
       "<div>\n",
       "<style scoped>\n",
       "    .dataframe tbody tr th:only-of-type {\n",
       "        vertical-align: middle;\n",
       "    }\n",
       "\n",
       "    .dataframe tbody tr th {\n",
       "        vertical-align: top;\n",
       "    }\n",
       "\n",
       "    .dataframe thead th {\n",
       "        text-align: right;\n",
       "    }\n",
       "</style>\n",
       "<table border=\"1\" class=\"dataframe\">\n",
       "  <thead>\n",
       "    <tr style=\"text-align: right;\">\n",
       "      <th></th>\n",
       "      <th>carat</th>\n",
       "      <th>cut</th>\n",
       "      <th>color</th>\n",
       "      <th>clarity</th>\n",
       "      <th>depth</th>\n",
       "      <th>table</th>\n",
       "      <th>x</th>\n",
       "      <th>y</th>\n",
       "      <th>z</th>\n",
       "      <th>price</th>\n",
       "    </tr>\n",
       "  </thead>\n",
       "  <tbody>\n",
       "    <tr>\n",
       "      <th>0</th>\n",
       "      <td>0.30</td>\n",
       "      <td>5.0</td>\n",
       "      <td>1</td>\n",
       "      <td>2</td>\n",
       "      <td>62.1</td>\n",
       "      <td>58.0</td>\n",
       "      <td>4.27</td>\n",
       "      <td>4.29</td>\n",
       "      <td>2.66</td>\n",
       "      <td>499.0</td>\n",
       "    </tr>\n",
       "    <tr>\n",
       "      <th>1</th>\n",
       "      <td>0.33</td>\n",
       "      <td>4.0</td>\n",
       "      <td>3</td>\n",
       "      <td>1</td>\n",
       "      <td>60.8</td>\n",
       "      <td>58.0</td>\n",
       "      <td>4.42</td>\n",
       "      <td>4.46</td>\n",
       "      <td>2.70</td>\n",
       "      <td>984.0</td>\n",
       "    </tr>\n",
       "    <tr>\n",
       "      <th>2</th>\n",
       "      <td>0.90</td>\n",
       "      <td>3.0</td>\n",
       "      <td>1</td>\n",
       "      <td>7</td>\n",
       "      <td>62.2</td>\n",
       "      <td>60.0</td>\n",
       "      <td>6.04</td>\n",
       "      <td>6.12</td>\n",
       "      <td>3.78</td>\n",
       "      <td>6289.0</td>\n",
       "    </tr>\n",
       "    <tr>\n",
       "      <th>3</th>\n",
       "      <td>0.42</td>\n",
       "      <td>5.0</td>\n",
       "      <td>2</td>\n",
       "      <td>4</td>\n",
       "      <td>61.6</td>\n",
       "      <td>56.0</td>\n",
       "      <td>4.82</td>\n",
       "      <td>4.80</td>\n",
       "      <td>2.96</td>\n",
       "      <td>1082.0</td>\n",
       "    </tr>\n",
       "    <tr>\n",
       "      <th>4</th>\n",
       "      <td>0.31</td>\n",
       "      <td>5.0</td>\n",
       "      <td>2</td>\n",
       "      <td>6</td>\n",
       "      <td>60.4</td>\n",
       "      <td>59.0</td>\n",
       "      <td>4.35</td>\n",
       "      <td>4.43</td>\n",
       "      <td>2.65</td>\n",
       "      <td>779.0</td>\n",
       "    </tr>\n",
       "  </tbody>\n",
       "</table>\n",
       "</div>"
      ],
      "text/plain": [
       "   carat  cut  color  clarity  depth  table     x     y     z   price\n",
       "0   0.30  5.0      1        2   62.1   58.0  4.27  4.29  2.66   499.0\n",
       "1   0.33  4.0      3        1   60.8   58.0  4.42  4.46  2.70   984.0\n",
       "2   0.90  3.0      1        7   62.2   60.0  6.04  6.12  3.78  6289.0\n",
       "3   0.42  5.0      2        4   61.6   56.0  4.82  4.80  2.96  1082.0\n",
       "4   0.31  5.0      2        6   60.4   59.0  4.35  4.43  2.65   779.0"
      ]
     },
     "execution_count": 71,
     "metadata": {},
     "output_type": "execute_result"
    }
   ],
   "source": [
    "df.head()"
   ]
  },
  {
   "cell_type": "code",
   "execution_count": 72,
   "id": "873663bb",
   "metadata": {},
   "outputs": [
    {
     "name": "stdout",
     "output_type": "stream",
     "text": [
      "<class 'pandas.core.frame.DataFrame'>\n",
      "RangeIndex: 26967 entries, 0 to 26966\n",
      "Data columns (total 10 columns):\n",
      " #   Column   Non-Null Count  Dtype  \n",
      "---  ------   --------------  -----  \n",
      " 0   carat    26967 non-null  float64\n",
      " 1   cut      26967 non-null  float64\n",
      " 2   color    26967 non-null  int32  \n",
      " 3   clarity  26967 non-null  int32  \n",
      " 4   depth    26967 non-null  float64\n",
      " 5   table    26967 non-null  float64\n",
      " 6   x        26967 non-null  float64\n",
      " 7   y        26967 non-null  float64\n",
      " 8   z        26967 non-null  float64\n",
      " 9   price    26967 non-null  float64\n",
      "dtypes: float64(8), int32(2)\n",
      "memory usage: 1.9 MB\n"
     ]
    }
   ],
   "source": [
    "df.info()"
   ]
  },
  {
   "cell_type": "code",
   "execution_count": 73,
   "id": "813c833d",
   "metadata": {},
   "outputs": [
    {
     "data": {
      "text/plain": [
       "Index(['carat', 'cut', 'color', 'clarity', 'depth', 'table', 'x', 'y', 'z',\n",
       "       'price'],\n",
       "      dtype='object')"
      ]
     },
     "execution_count": 73,
     "metadata": {},
     "output_type": "execute_result"
    }
   ],
   "source": [
    "df.columns"
   ]
  },
  {
   "cell_type": "code",
   "execution_count": 74,
   "id": "d3824ce9",
   "metadata": {},
   "outputs": [],
   "source": [
    "import statsmodels.formula.api as SM"
   ]
  },
  {
   "cell_type": "code",
   "execution_count": 75,
   "id": "0a263605",
   "metadata": {},
   "outputs": [],
   "source": [
    "F_1 = 'price~carat+cut+color+clarity+depth+table+x+y+z'"
   ]
  },
  {
   "cell_type": "code",
   "execution_count": 76,
   "id": "c881374d",
   "metadata": {},
   "outputs": [
    {
     "data": {
      "text/html": [
       "<table class=\"simpletable\">\n",
       "<caption>OLS Regression Results</caption>\n",
       "<tr>\n",
       "  <th>Dep. Variable:</th>          <td>price</td>      <th>  R-squared:         </th>  <td>   0.911</td>  \n",
       "</tr>\n",
       "<tr>\n",
       "  <th>Model:</th>                   <td>OLS</td>       <th>  Adj. R-squared:    </th>  <td>   0.911</td>  \n",
       "</tr>\n",
       "<tr>\n",
       "  <th>Method:</th>             <td>Least Squares</td>  <th>  F-statistic:       </th>  <td>3.058e+04</td> \n",
       "</tr>\n",
       "<tr>\n",
       "  <th>Date:</th>             <td>Sat, 24 Sep 2022</td> <th>  Prob (F-statistic):</th>   <td>  0.00</td>   \n",
       "</tr>\n",
       "<tr>\n",
       "  <th>Time:</th>                 <td>20:25:16</td>     <th>  Log-Likelihood:    </th> <td>-2.2552e+05</td>\n",
       "</tr>\n",
       "<tr>\n",
       "  <th>No. Observations:</th>      <td> 26967</td>      <th>  AIC:               </th>  <td>4.511e+05</td> \n",
       "</tr>\n",
       "<tr>\n",
       "  <th>Df Residuals:</th>          <td> 26957</td>      <th>  BIC:               </th>  <td>4.511e+05</td> \n",
       "</tr>\n",
       "<tr>\n",
       "  <th>Df Model:</th>              <td>     9</td>      <th>                     </th>      <td> </td>     \n",
       "</tr>\n",
       "<tr>\n",
       "  <th>Covariance Type:</th>      <td>nonrobust</td>    <th>                     </th>      <td> </td>     \n",
       "</tr>\n",
       "</table>\n",
       "<table class=\"simpletable\">\n",
       "<tr>\n",
       "      <td></td>         <th>coef</th>     <th>std err</th>      <th>t</th>      <th>P>|t|</th>  <th>[0.025</th>    <th>0.975]</th>  \n",
       "</tr>\n",
       "<tr>\n",
       "  <th>Intercept</th> <td> 3400.6825</td> <td>  668.944</td> <td>    5.084</td> <td> 0.000</td> <td> 2089.518</td> <td> 4711.847</td>\n",
       "</tr>\n",
       "<tr>\n",
       "  <th>carat</th>     <td> 9109.5278</td> <td>   76.317</td> <td>  119.365</td> <td> 0.000</td> <td> 8959.943</td> <td> 9259.112</td>\n",
       "</tr>\n",
       "<tr>\n",
       "  <th>cut</th>       <td>  142.2309</td> <td>    7.002</td> <td>   20.312</td> <td> 0.000</td> <td>  128.506</td> <td>  155.956</td>\n",
       "</tr>\n",
       "<tr>\n",
       "  <th>color</th>     <td> -229.3457</td> <td>    3.884</td> <td>  -59.048</td> <td> 0.000</td> <td> -236.959</td> <td> -221.733</td>\n",
       "</tr>\n",
       "<tr>\n",
       "  <th>clarity</th>   <td>  248.9832</td> <td>    3.789</td> <td>   65.705</td> <td> 0.000</td> <td>  241.556</td> <td>  256.411</td>\n",
       "</tr>\n",
       "<tr>\n",
       "  <th>depth</th>     <td>  -40.7407</td> <td>    8.666</td> <td>   -4.701</td> <td> 0.000</td> <td>  -57.726</td> <td>  -23.755</td>\n",
       "</tr>\n",
       "<tr>\n",
       "  <th>table</th>     <td>  -28.5761</td> <td>    3.620</td> <td>   -7.893</td> <td> 0.000</td> <td>  -35.672</td> <td>  -21.480</td>\n",
       "</tr>\n",
       "<tr>\n",
       "  <th>x</th>         <td>-2221.4816</td> <td>  109.948</td> <td>  -20.205</td> <td> 0.000</td> <td>-2436.985</td> <td>-2005.978</td>\n",
       "</tr>\n",
       "<tr>\n",
       "  <th>y</th>         <td> 1794.0650</td> <td>  108.640</td> <td>   16.514</td> <td> 0.000</td> <td> 1581.124</td> <td> 2007.006</td>\n",
       "</tr>\n",
       "<tr>\n",
       "  <th>z</th>         <td> -339.6936</td> <td>   92.823</td> <td>   -3.660</td> <td> 0.000</td> <td> -521.631</td> <td> -157.756</td>\n",
       "</tr>\n",
       "</table>\n",
       "<table class=\"simpletable\">\n",
       "<tr>\n",
       "  <th>Omnibus:</th>       <td>6873.925</td> <th>  Durbin-Watson:     </th> <td>   2.011</td> \n",
       "</tr>\n",
       "<tr>\n",
       "  <th>Prob(Omnibus):</th>  <td> 0.000</td>  <th>  Jarque-Bera (JB):  </th> <td>34904.645</td>\n",
       "</tr>\n",
       "<tr>\n",
       "  <th>Skew:</th>           <td> 1.142</td>  <th>  Prob(JB):          </th> <td>    0.00</td> \n",
       "</tr>\n",
       "<tr>\n",
       "  <th>Kurtosis:</th>       <td> 8.084</td>  <th>  Cond. No.          </th> <td>9.05e+03</td> \n",
       "</tr>\n",
       "</table><br/><br/>Notes:<br/>[1] Standard Errors assume that the covariance matrix of the errors is correctly specified.<br/>[2] The condition number is large, 9.05e+03. This might indicate that there are<br/>strong multicollinearity or other numerical problems."
      ],
      "text/plain": [
       "<class 'statsmodels.iolib.summary.Summary'>\n",
       "\"\"\"\n",
       "                            OLS Regression Results                            \n",
       "==============================================================================\n",
       "Dep. Variable:                  price   R-squared:                       0.911\n",
       "Model:                            OLS   Adj. R-squared:                  0.911\n",
       "Method:                 Least Squares   F-statistic:                 3.058e+04\n",
       "Date:                Sat, 24 Sep 2022   Prob (F-statistic):               0.00\n",
       "Time:                        20:25:16   Log-Likelihood:            -2.2552e+05\n",
       "No. Observations:               26967   AIC:                         4.511e+05\n",
       "Df Residuals:                   26957   BIC:                         4.511e+05\n",
       "Df Model:                           9                                         \n",
       "Covariance Type:            nonrobust                                         \n",
       "==============================================================================\n",
       "                 coef    std err          t      P>|t|      [0.025      0.975]\n",
       "------------------------------------------------------------------------------\n",
       "Intercept   3400.6825    668.944      5.084      0.000    2089.518    4711.847\n",
       "carat       9109.5278     76.317    119.365      0.000    8959.943    9259.112\n",
       "cut          142.2309      7.002     20.312      0.000     128.506     155.956\n",
       "color       -229.3457      3.884    -59.048      0.000    -236.959    -221.733\n",
       "clarity      248.9832      3.789     65.705      0.000     241.556     256.411\n",
       "depth        -40.7407      8.666     -4.701      0.000     -57.726     -23.755\n",
       "table        -28.5761      3.620     -7.893      0.000     -35.672     -21.480\n",
       "x          -2221.4816    109.948    -20.205      0.000   -2436.985   -2005.978\n",
       "y           1794.0650    108.640     16.514      0.000    1581.124    2007.006\n",
       "z           -339.6936     92.823     -3.660      0.000    -521.631    -157.756\n",
       "==============================================================================\n",
       "Omnibus:                     6873.925   Durbin-Watson:                   2.011\n",
       "Prob(Omnibus):                  0.000   Jarque-Bera (JB):            34904.645\n",
       "Skew:                           1.142   Prob(JB):                         0.00\n",
       "Kurtosis:                       8.084   Cond. No.                     9.05e+03\n",
       "==============================================================================\n",
       "\n",
       "Notes:\n",
       "[1] Standard Errors assume that the covariance matrix of the errors is correctly specified.\n",
       "[2] The condition number is large, 9.05e+03. This might indicate that there are\n",
       "strong multicollinearity or other numerical problems.\n",
       "\"\"\""
      ]
     },
     "execution_count": 76,
     "metadata": {},
     "output_type": "execute_result"
    }
   ],
   "source": [
    "model_1 = SM.ols(F_1,data=df).fit()\n",
    "model_1.summary()"
   ]
  },
  {
   "cell_type": "code",
   "execution_count": 77,
   "id": "20b8f64f",
   "metadata": {},
   "outputs": [],
   "source": [
    "def vif_cal(input_data):\n",
    "    x_vars=input_data\n",
    "    xvar_names=input_data.columns\n",
    "    for i in range(0,xvar_names.shape[0]):\n",
    "        y=x_vars[xvar_names[i]] \n",
    "        x=x_vars[xvar_names.drop(xvar_names[i])]\n",
    "        rsq=SM.ols(formula=\"y~x\", data=x_vars).fit().rsquared  \n",
    "        vif=round(1/(1-rsq),2)\n",
    "        print (xvar_names[i], \" VIF = \" , vif)"
   ]
  },
  {
   "cell_type": "code",
   "execution_count": 80,
   "id": "5eda27da",
   "metadata": {},
   "outputs": [
    {
     "name": "stdout",
     "output_type": "stream",
     "text": [
      "carat  VIF =  332.37\n",
      "cut  VIF =  332.37\n",
      "color  VIF =  332.37\n",
      "clarity  VIF =  332.37\n",
      "depth  VIF =  332.37\n",
      "table  VIF =  332.37\n",
      "x  VIF =  332.37\n",
      "y  VIF =  332.37\n",
      "z  VIF =  332.37\n"
     ]
    }
   ],
   "source": [
    "vif_cal(input_data=df[['carat', 'cut', 'color', 'clarity', 'depth', 'table', 'x', 'y', 'z']])"
   ]
  },
  {
   "cell_type": "code",
   "execution_count": 82,
   "id": "60f4a410",
   "metadata": {},
   "outputs": [],
   "source": [
    "F_2 = 'price~carat+cut+color+clarity+depth+table+x+y'"
   ]
  },
  {
   "cell_type": "code",
   "execution_count": 83,
   "id": "876e849a",
   "metadata": {},
   "outputs": [
    {
     "data": {
      "text/html": [
       "<table class=\"simpletable\">\n",
       "<caption>OLS Regression Results</caption>\n",
       "<tr>\n",
       "  <th>Dep. Variable:</th>          <td>price</td>      <th>  R-squared:         </th>  <td>   0.911</td>  \n",
       "</tr>\n",
       "<tr>\n",
       "  <th>Model:</th>                   <td>OLS</td>       <th>  Adj. R-squared:    </th>  <td>   0.911</td>  \n",
       "</tr>\n",
       "<tr>\n",
       "  <th>Method:</th>             <td>Least Squares</td>  <th>  F-statistic:       </th>  <td>3.438e+04</td> \n",
       "</tr>\n",
       "<tr>\n",
       "  <th>Date:</th>             <td>Sat, 24 Sep 2022</td> <th>  Prob (F-statistic):</th>   <td>  0.00</td>   \n",
       "</tr>\n",
       "<tr>\n",
       "  <th>Time:</th>                 <td>20:45:33</td>     <th>  Log-Likelihood:    </th> <td>-2.2552e+05</td>\n",
       "</tr>\n",
       "<tr>\n",
       "  <th>No. Observations:</th>      <td> 26967</td>      <th>  AIC:               </th>  <td>4.511e+05</td> \n",
       "</tr>\n",
       "<tr>\n",
       "  <th>Df Residuals:</th>          <td> 26958</td>      <th>  BIC:               </th>  <td>4.511e+05</td> \n",
       "</tr>\n",
       "<tr>\n",
       "  <th>Df Model:</th>              <td>     8</td>      <th>                     </th>      <td> </td>     \n",
       "</tr>\n",
       "<tr>\n",
       "  <th>Covariance Type:</th>      <td>nonrobust</td>    <th>                     </th>      <td> </td>     \n",
       "</tr>\n",
       "</table>\n",
       "<table class=\"simpletable\">\n",
       "<tr>\n",
       "      <td></td>         <th>coef</th>     <th>std err</th>      <th>t</th>      <th>P>|t|</th>  <th>[0.025</th>    <th>0.975]</th>  \n",
       "</tr>\n",
       "<tr>\n",
       "  <th>Intercept</th> <td> 4726.9378</td> <td>  562.400</td> <td>    8.405</td> <td> 0.000</td> <td> 3624.604</td> <td> 5829.271</td>\n",
       "</tr>\n",
       "<tr>\n",
       "  <th>carat</th>     <td> 9097.4775</td> <td>   76.263</td> <td>  119.291</td> <td> 0.000</td> <td> 8947.998</td> <td> 9246.957</td>\n",
       "</tr>\n",
       "<tr>\n",
       "  <th>cut</th>       <td>  142.5153</td> <td>    7.004</td> <td>   20.349</td> <td> 0.000</td> <td>  128.788</td> <td>  156.243</td>\n",
       "</tr>\n",
       "<tr>\n",
       "  <th>color</th>     <td> -229.2520</td> <td>    3.885</td> <td>  -59.011</td> <td> 0.000</td> <td> -236.867</td> <td> -221.637</td>\n",
       "</tr>\n",
       "<tr>\n",
       "  <th>clarity</th>   <td>  249.0021</td> <td>    3.790</td> <td>   65.695</td> <td> 0.000</td> <td>  241.573</td> <td>  256.431</td>\n",
       "</tr>\n",
       "<tr>\n",
       "  <th>depth</th>     <td>  -62.9029</td> <td>    6.200</td> <td>  -10.145</td> <td> 0.000</td> <td>  -75.056</td> <td>  -50.750</td>\n",
       "</tr>\n",
       "<tr>\n",
       "  <th>table</th>     <td>  -28.2312</td> <td>    3.620</td> <td>   -7.799</td> <td> 0.000</td> <td>  -35.326</td> <td>  -21.136</td>\n",
       "</tr>\n",
       "<tr>\n",
       "  <th>x</th>         <td>-2321.7428</td> <td>  106.504</td> <td>  -21.800</td> <td> 0.000</td> <td>-2530.497</td> <td>-2112.989</td>\n",
       "</tr>\n",
       "<tr>\n",
       "  <th>y</th>         <td> 1689.9952</td> <td>  104.877</td> <td>   16.114</td> <td> 0.000</td> <td> 1484.432</td> <td> 1895.559</td>\n",
       "</tr>\n",
       "</table>\n",
       "<table class=\"simpletable\">\n",
       "<tr>\n",
       "  <th>Omnibus:</th>       <td>6859.342</td> <th>  Durbin-Watson:     </th> <td>   2.011</td> \n",
       "</tr>\n",
       "<tr>\n",
       "  <th>Prob(Omnibus):</th>  <td> 0.000</td>  <th>  Jarque-Bera (JB):  </th> <td>34863.428</td>\n",
       "</tr>\n",
       "<tr>\n",
       "  <th>Skew:</th>           <td> 1.139</td>  <th>  Prob(JB):          </th> <td>    0.00</td> \n",
       "</tr>\n",
       "<tr>\n",
       "  <th>Kurtosis:</th>       <td> 8.083</td>  <th>  Cond. No.          </th> <td>7.58e+03</td> \n",
       "</tr>\n",
       "</table><br/><br/>Notes:<br/>[1] Standard Errors assume that the covariance matrix of the errors is correctly specified.<br/>[2] The condition number is large, 7.58e+03. This might indicate that there are<br/>strong multicollinearity or other numerical problems."
      ],
      "text/plain": [
       "<class 'statsmodels.iolib.summary.Summary'>\n",
       "\"\"\"\n",
       "                            OLS Regression Results                            \n",
       "==============================================================================\n",
       "Dep. Variable:                  price   R-squared:                       0.911\n",
       "Model:                            OLS   Adj. R-squared:                  0.911\n",
       "Method:                 Least Squares   F-statistic:                 3.438e+04\n",
       "Date:                Sat, 24 Sep 2022   Prob (F-statistic):               0.00\n",
       "Time:                        20:45:33   Log-Likelihood:            -2.2552e+05\n",
       "No. Observations:               26967   AIC:                         4.511e+05\n",
       "Df Residuals:                   26958   BIC:                         4.511e+05\n",
       "Df Model:                           8                                         \n",
       "Covariance Type:            nonrobust                                         \n",
       "==============================================================================\n",
       "                 coef    std err          t      P>|t|      [0.025      0.975]\n",
       "------------------------------------------------------------------------------\n",
       "Intercept   4726.9378    562.400      8.405      0.000    3624.604    5829.271\n",
       "carat       9097.4775     76.263    119.291      0.000    8947.998    9246.957\n",
       "cut          142.5153      7.004     20.349      0.000     128.788     156.243\n",
       "color       -229.2520      3.885    -59.011      0.000    -236.867    -221.637\n",
       "clarity      249.0021      3.790     65.695      0.000     241.573     256.431\n",
       "depth        -62.9029      6.200    -10.145      0.000     -75.056     -50.750\n",
       "table        -28.2312      3.620     -7.799      0.000     -35.326     -21.136\n",
       "x          -2321.7428    106.504    -21.800      0.000   -2530.497   -2112.989\n",
       "y           1689.9952    104.877     16.114      0.000    1484.432    1895.559\n",
       "==============================================================================\n",
       "Omnibus:                     6859.342   Durbin-Watson:                   2.011\n",
       "Prob(Omnibus):                  0.000   Jarque-Bera (JB):            34863.428\n",
       "Skew:                           1.139   Prob(JB):                         0.00\n",
       "Kurtosis:                       8.083   Cond. No.                     7.58e+03\n",
       "==============================================================================\n",
       "\n",
       "Notes:\n",
       "[1] Standard Errors assume that the covariance matrix of the errors is correctly specified.\n",
       "[2] The condition number is large, 7.58e+03. This might indicate that there are\n",
       "strong multicollinearity or other numerical problems.\n",
       "\"\"\""
      ]
     },
     "execution_count": 83,
     "metadata": {},
     "output_type": "execute_result"
    }
   ],
   "source": [
    "model_2 = SM.ols(F_2,data=df).fit()\n",
    "model_2.summary()"
   ]
  },
  {
   "cell_type": "code",
   "execution_count": 84,
   "id": "b958cef6",
   "metadata": {},
   "outputs": [
    {
     "name": "stdout",
     "output_type": "stream",
     "text": [
      "carat  VIF =  332.37\n",
      "cut  VIF =  332.37\n",
      "color  VIF =  332.37\n",
      "clarity  VIF =  332.37\n",
      "depth  VIF =  332.37\n",
      "table  VIF =  332.37\n",
      "x  VIF =  332.37\n",
      "y  VIF =  332.37\n"
     ]
    }
   ],
   "source": [
    "vif_cal(input_data=df[['carat', 'cut', 'color', 'clarity', 'depth', 'table', 'x', 'y']])"
   ]
  },
  {
   "cell_type": "code",
   "execution_count": 93,
   "id": "21e7bd2c",
   "metadata": {},
   "outputs": [],
   "source": [
    "F_3 = 'price~carat+cut+color+clarity+depth+table+x'"
   ]
  },
  {
   "cell_type": "code",
   "execution_count": 94,
   "id": "ee7c9437",
   "metadata": {},
   "outputs": [
    {
     "data": {
      "text/html": [
       "<table class=\"simpletable\">\n",
       "<caption>OLS Regression Results</caption>\n",
       "<tr>\n",
       "  <th>Dep. Variable:</th>          <td>price</td>      <th>  R-squared:         </th>  <td>   0.910</td>  \n",
       "</tr>\n",
       "<tr>\n",
       "  <th>Model:</th>                   <td>OLS</td>       <th>  Adj. R-squared:    </th>  <td>   0.910</td>  \n",
       "</tr>\n",
       "<tr>\n",
       "  <th>Method:</th>             <td>Least Squares</td>  <th>  F-statistic:       </th>  <td>3.889e+04</td> \n",
       "</tr>\n",
       "<tr>\n",
       "  <th>Date:</th>             <td>Sat, 24 Sep 2022</td> <th>  Prob (F-statistic):</th>   <td>  0.00</td>   \n",
       "</tr>\n",
       "<tr>\n",
       "  <th>Time:</th>                 <td>20:52:05</td>     <th>  Log-Likelihood:    </th> <td>-2.2565e+05</td>\n",
       "</tr>\n",
       "<tr>\n",
       "  <th>No. Observations:</th>      <td> 26967</td>      <th>  AIC:               </th>  <td>4.513e+05</td> \n",
       "</tr>\n",
       "<tr>\n",
       "  <th>Df Residuals:</th>          <td> 26959</td>      <th>  BIC:               </th>  <td>4.514e+05</td> \n",
       "</tr>\n",
       "<tr>\n",
       "  <th>Df Model:</th>              <td>     7</td>      <th>                     </th>      <td> </td>     \n",
       "</tr>\n",
       "<tr>\n",
       "  <th>Covariance Type:</th>      <td>nonrobust</td>    <th>                     </th>      <td> </td>     \n",
       "</tr>\n",
       "</table>\n",
       "<table class=\"simpletable\">\n",
       "<tr>\n",
       "      <td></td>         <th>coef</th>     <th>std err</th>      <th>t</th>      <th>P>|t|</th>  <th>[0.025</th>    <th>0.975]</th>  \n",
       "</tr>\n",
       "<tr>\n",
       "  <th>Intercept</th> <td> 6377.1529</td> <td>  555.644</td> <td>   11.477</td> <td> 0.000</td> <td> 5288.061</td> <td> 7466.245</td>\n",
       "</tr>\n",
       "<tr>\n",
       "  <th>carat</th>     <td> 9189.6371</td> <td>   76.412</td> <td>  120.264</td> <td> 0.000</td> <td> 9039.865</td> <td> 9339.409</td>\n",
       "</tr>\n",
       "<tr>\n",
       "  <th>cut</th>       <td>  130.7851</td> <td>    6.999</td> <td>   18.686</td> <td> 0.000</td> <td>  117.067</td> <td>  144.504</td>\n",
       "</tr>\n",
       "<tr>\n",
       "  <th>color</th>     <td> -229.6195</td> <td>    3.903</td> <td>  -58.825</td> <td> 0.000</td> <td> -237.270</td> <td> -221.969</td>\n",
       "</tr>\n",
       "<tr>\n",
       "  <th>clarity</th>   <td>  251.5144</td> <td>    3.805</td> <td>   66.097</td> <td> 0.000</td> <td>  244.056</td> <td>  258.973</td>\n",
       "</tr>\n",
       "<tr>\n",
       "  <th>depth</th>     <td>  -76.6499</td> <td>    6.171</td> <td>  -12.422</td> <td> 0.000</td> <td>  -88.745</td> <td>  -64.555</td>\n",
       "</tr>\n",
       "<tr>\n",
       "  <th>table</th>     <td>  -37.8815</td> <td>    3.587</td> <td>  -10.561</td> <td> 0.000</td> <td>  -44.912</td> <td>  -30.851</td>\n",
       "</tr>\n",
       "<tr>\n",
       "  <th>x</th>         <td> -680.5466</td> <td>   31.296</td> <td>  -21.746</td> <td> 0.000</td> <td> -741.888</td> <td> -619.205</td>\n",
       "</tr>\n",
       "</table>\n",
       "<table class=\"simpletable\">\n",
       "<tr>\n",
       "  <th>Omnibus:</th>       <td>6803.135</td> <th>  Durbin-Watson:     </th> <td>   2.010</td> \n",
       "</tr>\n",
       "<tr>\n",
       "  <th>Prob(Omnibus):</th>  <td> 0.000</td>  <th>  Jarque-Bera (JB):  </th> <td>36059.885</td>\n",
       "</tr>\n",
       "<tr>\n",
       "  <th>Skew:</th>           <td> 1.116</td>  <th>  Prob(JB):          </th> <td>    0.00</td> \n",
       "</tr>\n",
       "<tr>\n",
       "  <th>Kurtosis:</th>       <td> 8.207</td>  <th>  Cond. No.          </th> <td>7.44e+03</td> \n",
       "</tr>\n",
       "</table><br/><br/>Notes:<br/>[1] Standard Errors assume that the covariance matrix of the errors is correctly specified.<br/>[2] The condition number is large, 7.44e+03. This might indicate that there are<br/>strong multicollinearity or other numerical problems."
      ],
      "text/plain": [
       "<class 'statsmodels.iolib.summary.Summary'>\n",
       "\"\"\"\n",
       "                            OLS Regression Results                            \n",
       "==============================================================================\n",
       "Dep. Variable:                  price   R-squared:                       0.910\n",
       "Model:                            OLS   Adj. R-squared:                  0.910\n",
       "Method:                 Least Squares   F-statistic:                 3.889e+04\n",
       "Date:                Sat, 24 Sep 2022   Prob (F-statistic):               0.00\n",
       "Time:                        20:52:05   Log-Likelihood:            -2.2565e+05\n",
       "No. Observations:               26967   AIC:                         4.513e+05\n",
       "Df Residuals:                   26959   BIC:                         4.514e+05\n",
       "Df Model:                           7                                         \n",
       "Covariance Type:            nonrobust                                         \n",
       "==============================================================================\n",
       "                 coef    std err          t      P>|t|      [0.025      0.975]\n",
       "------------------------------------------------------------------------------\n",
       "Intercept   6377.1529    555.644     11.477      0.000    5288.061    7466.245\n",
       "carat       9189.6371     76.412    120.264      0.000    9039.865    9339.409\n",
       "cut          130.7851      6.999     18.686      0.000     117.067     144.504\n",
       "color       -229.6195      3.903    -58.825      0.000    -237.270    -221.969\n",
       "clarity      251.5144      3.805     66.097      0.000     244.056     258.973\n",
       "depth        -76.6499      6.171    -12.422      0.000     -88.745     -64.555\n",
       "table        -37.8815      3.587    -10.561      0.000     -44.912     -30.851\n",
       "x           -680.5466     31.296    -21.746      0.000    -741.888    -619.205\n",
       "==============================================================================\n",
       "Omnibus:                     6803.135   Durbin-Watson:                   2.010\n",
       "Prob(Omnibus):                  0.000   Jarque-Bera (JB):            36059.885\n",
       "Skew:                           1.116   Prob(JB):                         0.00\n",
       "Kurtosis:                       8.207   Cond. No.                     7.44e+03\n",
       "==============================================================================\n",
       "\n",
       "Notes:\n",
       "[1] Standard Errors assume that the covariance matrix of the errors is correctly specified.\n",
       "[2] The condition number is large, 7.44e+03. This might indicate that there are\n",
       "strong multicollinearity or other numerical problems.\n",
       "\"\"\""
      ]
     },
     "execution_count": 94,
     "metadata": {},
     "output_type": "execute_result"
    }
   ],
   "source": [
    "model_3 = SM.ols(F_3,data=df).fit()\n",
    "model_3.summary()"
   ]
  },
  {
   "cell_type": "code",
   "execution_count": 95,
   "id": "4b620c75",
   "metadata": {},
   "outputs": [
    {
     "name": "stdout",
     "output_type": "stream",
     "text": [
      "carat  VIF =  28.35\n",
      "cut  VIF =  1.02\n",
      "color  VIF =  1.08\n",
      "clarity  VIF =  1.05\n",
      "depth  VIF =  1.0\n",
      "table  VIF =  1.04\n",
      "x  VIF =  inf\n"
     ]
    }
   ],
   "source": [
    "vif_cal(input_data=df[['carat', 'cut', 'color', 'clarity', 'depth', 'table', 'x']])"
   ]
  },
  {
   "cell_type": "code",
   "execution_count": 96,
   "id": "ae2737c6",
   "metadata": {},
   "outputs": [],
   "source": [
    "F_4 = 'price~carat+cut+color+clarity+depth+table'"
   ]
  },
  {
   "cell_type": "code",
   "execution_count": 97,
   "id": "1772e04e",
   "metadata": {},
   "outputs": [
    {
     "data": {
      "text/html": [
       "<table class=\"simpletable\">\n",
       "<caption>OLS Regression Results</caption>\n",
       "<tr>\n",
       "  <th>Dep. Variable:</th>          <td>price</td>      <th>  R-squared:         </th>  <td>   0.908</td>  \n",
       "</tr>\n",
       "<tr>\n",
       "  <th>Model:</th>                   <td>OLS</td>       <th>  Adj. R-squared:    </th>  <td>   0.908</td>  \n",
       "</tr>\n",
       "<tr>\n",
       "  <th>Method:</th>             <td>Least Squares</td>  <th>  F-statistic:       </th>  <td>4.451e+04</td> \n",
       "</tr>\n",
       "<tr>\n",
       "  <th>Date:</th>             <td>Sat, 24 Sep 2022</td> <th>  Prob (F-statistic):</th>   <td>  0.00</td>   \n",
       "</tr>\n",
       "<tr>\n",
       "  <th>Time:</th>                 <td>20:52:30</td>     <th>  Log-Likelihood:    </th> <td>-2.2589e+05</td>\n",
       "</tr>\n",
       "<tr>\n",
       "  <th>No. Observations:</th>      <td> 26967</td>      <th>  AIC:               </th>  <td>4.518e+05</td> \n",
       "</tr>\n",
       "<tr>\n",
       "  <th>Df Residuals:</th>          <td> 26960</td>      <th>  BIC:               </th>  <td>4.518e+05</td> \n",
       "</tr>\n",
       "<tr>\n",
       "  <th>Df Model:</th>              <td>     6</td>      <th>                     </th>      <td> </td>     \n",
       "</tr>\n",
       "<tr>\n",
       "  <th>Covariance Type:</th>      <td>nonrobust</td>    <th>                     </th>      <td> </td>     \n",
       "</tr>\n",
       "</table>\n",
       "<table class=\"simpletable\">\n",
       "<tr>\n",
       "      <td></td>         <th>coef</th>     <th>std err</th>      <th>t</th>      <th>P>|t|</th>  <th>[0.025</th>    <th>0.975]</th>  \n",
       "</tr>\n",
       "<tr>\n",
       "  <th>Intercept</th> <td> 1709.2001</td> <td>  516.970</td> <td>    3.306</td> <td> 0.001</td> <td>  695.911</td> <td> 2722.489</td>\n",
       "</tr>\n",
       "<tr>\n",
       "  <th>carat</th>     <td> 7560.0893</td> <td>   15.074</td> <td>  501.536</td> <td> 0.000</td> <td> 7530.544</td> <td> 7589.635</td>\n",
       "</tr>\n",
       "<tr>\n",
       "  <th>cut</th>       <td>  132.8301</td> <td>    7.059</td> <td>   18.816</td> <td> 0.000</td> <td>  118.993</td> <td>  146.667</td>\n",
       "</tr>\n",
       "<tr>\n",
       "  <th>color</th>     <td> -224.9722</td> <td>    3.932</td> <td>  -57.223</td> <td> 0.000</td> <td> -232.678</td> <td> -217.266</td>\n",
       "</tr>\n",
       "<tr>\n",
       "  <th>clarity</th>   <td>  260.3410</td> <td>    3.816</td> <td>   68.215</td> <td> 0.000</td> <td>  252.860</td> <td>  267.821</td>\n",
       "</tr>\n",
       "<tr>\n",
       "  <th>depth</th>     <td>  -44.7768</td> <td>    6.046</td> <td>   -7.406</td> <td> 0.000</td> <td>  -56.628</td> <td>  -32.926</td>\n",
       "</tr>\n",
       "<tr>\n",
       "  <th>table</th>     <td>  -37.1929</td> <td>    3.618</td> <td>  -10.279</td> <td> 0.000</td> <td>  -44.285</td> <td>  -30.101</td>\n",
       "</tr>\n",
       "</table>\n",
       "<table class=\"simpletable\">\n",
       "<tr>\n",
       "  <th>Omnibus:</th>       <td>6197.158</td> <th>  Durbin-Watson:     </th> <td>   2.007</td> \n",
       "</tr>\n",
       "<tr>\n",
       "  <th>Prob(Omnibus):</th>  <td> 0.000</td>  <th>  Jarque-Bera (JB):  </th> <td>26696.504</td>\n",
       "</tr>\n",
       "<tr>\n",
       "  <th>Skew:</th>           <td> 1.071</td>  <th>  Prob(JB):          </th> <td>    0.00</td> \n",
       "</tr>\n",
       "<tr>\n",
       "  <th>Kurtosis:</th>       <td> 7.378</td>  <th>  Cond. No.          </th> <td>6.83e+03</td> \n",
       "</tr>\n",
       "</table><br/><br/>Notes:<br/>[1] Standard Errors assume that the covariance matrix of the errors is correctly specified.<br/>[2] The condition number is large, 6.83e+03. This might indicate that there are<br/>strong multicollinearity or other numerical problems."
      ],
      "text/plain": [
       "<class 'statsmodels.iolib.summary.Summary'>\n",
       "\"\"\"\n",
       "                            OLS Regression Results                            \n",
       "==============================================================================\n",
       "Dep. Variable:                  price   R-squared:                       0.908\n",
       "Model:                            OLS   Adj. R-squared:                  0.908\n",
       "Method:                 Least Squares   F-statistic:                 4.451e+04\n",
       "Date:                Sat, 24 Sep 2022   Prob (F-statistic):               0.00\n",
       "Time:                        20:52:30   Log-Likelihood:            -2.2589e+05\n",
       "No. Observations:               26967   AIC:                         4.518e+05\n",
       "Df Residuals:                   26960   BIC:                         4.518e+05\n",
       "Df Model:                           6                                         \n",
       "Covariance Type:            nonrobust                                         \n",
       "==============================================================================\n",
       "                 coef    std err          t      P>|t|      [0.025      0.975]\n",
       "------------------------------------------------------------------------------\n",
       "Intercept   1709.2001    516.970      3.306      0.001     695.911    2722.489\n",
       "carat       7560.0893     15.074    501.536      0.000    7530.544    7589.635\n",
       "cut          132.8301      7.059     18.816      0.000     118.993     146.667\n",
       "color       -224.9722      3.932    -57.223      0.000    -232.678    -217.266\n",
       "clarity      260.3410      3.816     68.215      0.000     252.860     267.821\n",
       "depth        -44.7768      6.046     -7.406      0.000     -56.628     -32.926\n",
       "table        -37.1929      3.618    -10.279      0.000     -44.285     -30.101\n",
       "==============================================================================\n",
       "Omnibus:                     6197.158   Durbin-Watson:                   2.007\n",
       "Prob(Omnibus):                  0.000   Jarque-Bera (JB):            26696.504\n",
       "Skew:                           1.071   Prob(JB):                         0.00\n",
       "Kurtosis:                       7.378   Cond. No.                     6.83e+03\n",
       "==============================================================================\n",
       "\n",
       "Notes:\n",
       "[1] Standard Errors assume that the covariance matrix of the errors is correctly specified.\n",
       "[2] The condition number is large, 6.83e+03. This might indicate that there are\n",
       "strong multicollinearity or other numerical problems.\n",
       "\"\"\""
      ]
     },
     "execution_count": 97,
     "metadata": {},
     "output_type": "execute_result"
    }
   ],
   "source": [
    "model_4 = SM.ols(F_4,data=df).fit()\n",
    "model_4.summary()"
   ]
  },
  {
   "cell_type": "code",
   "execution_count": 98,
   "id": "af3ac247",
   "metadata": {},
   "outputs": [
    {
     "name": "stdout",
     "output_type": "stream",
     "text": [
      "carat  VIF =  1.19\n",
      "cut  VIF =  1.51\n",
      "color  VIF =  1.1\n",
      "clarity  VIF =  1.06\n",
      "depth  VIF =  1.33\n",
      "table  VIF =  1.59\n"
     ]
    }
   ],
   "source": [
    "vif_cal(input_data=df[['carat', 'cut', 'color', 'clarity', 'depth', 'table']])"
   ]
  },
  {
   "cell_type": "code",
   "execution_count": 141,
   "id": "8e74c65e",
   "metadata": {},
   "outputs": [
    {
     "data": {
      "text/plain": [
       "<AxesSubplot:>"
      ]
     },
     "execution_count": 141,
     "metadata": {},
     "output_type": "execute_result"
    },
    {
     "data": {
      "image/png": "[encoded data removed]",
      "text/plain": [
       "<Figure size 432x288 with 1 Axes>"
      ]
     },
     "metadata": {
      "needs_background": "light"
     },
     "output_type": "display_data"
    }
   ],
   "source": [
    "#Linear Relationship b/w Dependent and Independent Varaibles \n",
    "\n",
    "sns.scatterplot(model_4.resid,model_4.fittedvalues)"
   ]
  },
  {
   "cell_type": "code",
   "execution_count": 99,
   "id": "8220e4ff",
   "metadata": {},
   "outputs": [],
   "source": [
    "F_5 = 'price~carat+cut+color+clarity+depth'"
   ]
  },
  {
   "cell_type": "code",
   "execution_count": 100,
   "id": "108e40b3",
   "metadata": {},
   "outputs": [
    {
     "data": {
      "text/html": [
       "<table class=\"simpletable\">\n",
       "<caption>OLS Regression Results</caption>\n",
       "<tr>\n",
       "  <th>Dep. Variable:</th>          <td>price</td>      <th>  R-squared:         </th>  <td>   0.908</td>  \n",
       "</tr>\n",
       "<tr>\n",
       "  <th>Model:</th>                   <td>OLS</td>       <th>  Adj. R-squared:    </th>  <td>   0.908</td>  \n",
       "</tr>\n",
       "<tr>\n",
       "  <th>Method:</th>             <td>Least Squares</td>  <th>  F-statistic:       </th>  <td>5.318e+04</td> \n",
       "</tr>\n",
       "<tr>\n",
       "  <th>Date:</th>             <td>Sat, 24 Sep 2022</td> <th>  Prob (F-statistic):</th>   <td>  0.00</td>   \n",
       "</tr>\n",
       "<tr>\n",
       "  <th>Time:</th>                 <td>20:53:04</td>     <th>  Log-Likelihood:    </th> <td>-2.2594e+05</td>\n",
       "</tr>\n",
       "<tr>\n",
       "  <th>No. Observations:</th>      <td> 26967</td>      <th>  AIC:               </th>  <td>4.519e+05</td> \n",
       "</tr>\n",
       "<tr>\n",
       "  <th>Df Residuals:</th>          <td> 26961</td>      <th>  BIC:               </th>  <td>4.519e+05</td> \n",
       "</tr>\n",
       "<tr>\n",
       "  <th>Df Model:</th>              <td>     5</td>      <th>                     </th>      <td> </td>     \n",
       "</tr>\n",
       "<tr>\n",
       "  <th>Covariance Type:</th>      <td>nonrobust</td>    <th>                     </th>      <td> </td>     \n",
       "</tr>\n",
       "</table>\n",
       "<table class=\"simpletable\">\n",
       "<tr>\n",
       "      <td></td>         <th>coef</th>     <th>std err</th>      <th>t</th>      <th>P>|t|</th>  <th>[0.025</th>    <th>0.975]</th>  \n",
       "</tr>\n",
       "<tr>\n",
       "  <th>Intercept</th> <td>-2292.2210</td> <td>  340.850</td> <td>   -6.725</td> <td> 0.000</td> <td>-2960.306</td> <td>-1624.136</td>\n",
       "</tr>\n",
       "<tr>\n",
       "  <th>carat</th>     <td> 7538.3268</td> <td>   14.953</td> <td>  504.121</td> <td> 0.000</td> <td> 7509.017</td> <td> 7567.636</td>\n",
       "</tr>\n",
       "<tr>\n",
       "  <th>cut</th>       <td>  171.3751</td> <td>    5.993</td> <td>   28.597</td> <td> 0.000</td> <td>  159.629</td> <td>  183.121</td>\n",
       "</tr>\n",
       "<tr>\n",
       "  <th>color</th>     <td> -224.7763</td> <td>    3.939</td> <td>  -57.063</td> <td> 0.000</td> <td> -232.497</td> <td> -217.056</td>\n",
       "</tr>\n",
       "<tr>\n",
       "  <th>clarity</th>   <td>  261.0539</td> <td>    3.823</td> <td>   68.281</td> <td> 0.000</td> <td>  253.560</td> <td>  268.548</td>\n",
       "</tr>\n",
       "<tr>\n",
       "  <th>depth</th>     <td>  -16.7966</td> <td>    5.409</td> <td>   -3.105</td> <td> 0.002</td> <td>  -27.399</td> <td>   -6.194</td>\n",
       "</tr>\n",
       "</table>\n",
       "<table class=\"simpletable\">\n",
       "<tr>\n",
       "  <th>Omnibus:</th>       <td>6248.907</td> <th>  Durbin-Watson:     </th> <td>   2.005</td> \n",
       "</tr>\n",
       "<tr>\n",
       "  <th>Prob(Omnibus):</th>  <td> 0.000</td>  <th>  Jarque-Bera (JB):  </th> <td>26729.947</td>\n",
       "</tr>\n",
       "<tr>\n",
       "  <th>Skew:</th>           <td> 1.083</td>  <th>  Prob(JB):          </th> <td>    0.00</td> \n",
       "</tr>\n",
       "<tr>\n",
       "  <th>Kurtosis:</th>       <td> 7.370</td>  <th>  Cond. No.          </th> <td>3.30e+03</td> \n",
       "</tr>\n",
       "</table><br/><br/>Notes:<br/>[1] Standard Errors assume that the covariance matrix of the errors is correctly specified.<br/>[2] The condition number is large, 3.3e+03. This might indicate that there are<br/>strong multicollinearity or other numerical problems."
      ],
      "text/plain": [
       "<class 'statsmodels.iolib.summary.Summary'>\n",
       "\"\"\"\n",
       "                            OLS Regression Results                            \n",
       "==============================================================================\n",
       "Dep. Variable:                  price   R-squared:                       0.908\n",
       "Model:                            OLS   Adj. R-squared:                  0.908\n",
       "Method:                 Least Squares   F-statistic:                 5.318e+04\n",
       "Date:                Sat, 24 Sep 2022   Prob (F-statistic):               0.00\n",
       "Time:                        20:53:04   Log-Likelihood:            -2.2594e+05\n",
       "No. Observations:               26967   AIC:                         4.519e+05\n",
       "Df Residuals:                   26961   BIC:                         4.519e+05\n",
       "Df Model:                           5                                         \n",
       "Covariance Type:            nonrobust                                         \n",
       "==============================================================================\n",
       "                 coef    std err          t      P>|t|      [0.025      0.975]\n",
       "------------------------------------------------------------------------------\n",
       "Intercept  -2292.2210    340.850     -6.725      0.000   -2960.306   -1624.136\n",
       "carat       7538.3268     14.953    504.121      0.000    7509.017    7567.636\n",
       "cut          171.3751      5.993     28.597      0.000     159.629     183.121\n",
       "color       -224.7763      3.939    -57.063      0.000    -232.497    -217.056\n",
       "clarity      261.0539      3.823     68.281      0.000     253.560     268.548\n",
       "depth        -16.7966      5.409     -3.105      0.002     -27.399      -6.194\n",
       "==============================================================================\n",
       "Omnibus:                     6248.907   Durbin-Watson:                   2.005\n",
       "Prob(Omnibus):                  0.000   Jarque-Bera (JB):            26729.947\n",
       "Skew:                           1.083   Prob(JB):                         0.00\n",
       "Kurtosis:                       7.370   Cond. No.                     3.30e+03\n",
       "==============================================================================\n",
       "\n",
       "Notes:\n",
       "[1] Standard Errors assume that the covariance matrix of the errors is correctly specified.\n",
       "[2] The condition number is large, 3.3e+03. This might indicate that there are\n",
       "strong multicollinearity or other numerical problems.\n",
       "\"\"\""
      ]
     },
     "execution_count": 100,
     "metadata": {},
     "output_type": "execute_result"
    }
   ],
   "source": [
    "model_5 = SM.ols(F_5,data=df).fit()\n",
    "model_5.summary()"
   ]
  },
  {
   "cell_type": "code",
   "execution_count": 101,
   "id": "deeadbec",
   "metadata": {},
   "outputs": [
    {
     "name": "stdout",
     "output_type": "stream",
     "text": [
      "carat  VIF =  1.16\n",
      "cut  VIF =  1.08\n",
      "color  VIF =  1.1\n",
      "clarity  VIF =  1.06\n",
      "depth  VIF =  1.06\n"
     ]
    }
   ],
   "source": [
    "vif_cal(input_data=df[['carat', 'cut', 'color', 'clarity', 'depth']])"
   ]
  },
  {
   "cell_type": "code",
   "execution_count": 102,
   "id": "5c44e0d9",
   "metadata": {},
   "outputs": [
    {
     "data": {
      "text/plain": [
       "0          -0.742535\n",
       "1        -558.845468\n",
       "2        5492.492299\n",
       "3        1298.952231\n",
       "4         930.177771\n",
       "            ...     \n",
       "26962    5531.199993\n",
       "26963    -588.663278\n",
       "26964    2252.979827\n",
       "26965     671.346255\n",
       "26966    5928.128966\n",
       "Length: 26967, dtype: float64"
      ]
     },
     "execution_count": 102,
     "metadata": {},
     "output_type": "execute_result"
    }
   ],
   "source": [
    "#Using the last best model \n",
    "model_4_pred = model_4.fittedvalues\n",
    "model_4_pred"
   ]
  },
  {
   "cell_type": "code",
   "execution_count": 103,
   "id": "74b78396",
   "metadata": {},
   "outputs": [],
   "source": [
    "from sklearn.linear_model import LinearRegression"
   ]
  },
  {
   "cell_type": "code",
   "execution_count": 146,
   "id": "9d2bce14",
   "metadata": {},
   "outputs": [],
   "source": [
    "lr = LinearRegression()"
   ]
  },
  {
   "cell_type": "code",
   "execution_count": 105,
   "id": "4e113d55",
   "metadata": {},
   "outputs": [],
   "source": [
    "from sklearn.model_selection import train_test_split"
   ]
  },
  {
   "cell_type": "markdown",
   "id": "b21640ea",
   "metadata": {},
   "source": [
    "## Lets check base model performance-Model 1"
   ]
  },
  {
   "cell_type": "code",
   "execution_count": 127,
   "id": "aa821f39",
   "metadata": {},
   "outputs": [],
   "source": [
    "X = df[['carat', 'cut', 'color', 'clarity', 'depth', 'table', 'x', 'y', 'z']]\n",
    "Y = np.log(df['price'])"
   ]
  },
  {
   "cell_type": "code",
   "execution_count": 128,
   "id": "06d3cbd4",
   "metadata": {},
   "outputs": [],
   "source": [
    "X_train, X_test, Y_train, Y_test = train_test_split(X,Y,test_size=0.3,random_state=1)"
   ]
  },
  {
   "cell_type": "code",
   "execution_count": 158,
   "id": "d6fed70d",
   "metadata": {},
   "outputs": [],
   "source": [
    "model_base = lr.fit(X_train[['carat', 'cut', 'color', 'clarity', 'depth', 'table', 'x', 'y', 'z']],Y_train)"
   ]
  },
  {
   "cell_type": "code",
   "execution_count": 159,
   "id": "c7648e9b",
   "metadata": {},
   "outputs": [],
   "source": [
    "#Training Data Prediction\n",
    "\n",
    "model_base_train = model_base.predict(X_train[['carat', 'cut', 'color', 'clarity', 'depth', 'table', 'x', 'y', 'z']])"
   ]
  },
  {
   "cell_type": "code",
   "execution_count": 160,
   "id": "563147f5",
   "metadata": {},
   "outputs": [],
   "source": [
    "#Test Data Prediction\n",
    "\n",
    "#Test Data Prediction\n",
    "\n",
    "model_base_test = model_base.predict(X_test[['carat', 'cut', 'color', 'clarity', 'depth', 'table', 'x', 'y', 'z']])"
   ]
  },
  {
   "cell_type": "code",
   "execution_count": 113,
   "id": "ca49179b",
   "metadata": {},
   "outputs": [],
   "source": [
    "from sklearn.metrics import mean_squared_error"
   ]
  },
  {
   "cell_type": "code",
   "execution_count": 132,
   "id": "a69b1057",
   "metadata": {},
   "outputs": [
    {
     "name": "stdout",
     "output_type": "stream",
     "text": [
      "Training Data RMSE of model_base: 0.22\n",
      "Test Data RMSE of model_base: 0.23\n"
     ]
    }
   ],
   "source": [
    "RMSE_Train_base = np.round(np.sqrt(mean_squared_error(Y_train,model_base_train)),2)\n",
    "RMSE_Test_base = np.round(np.sqrt(mean_squared_error(Y_test,model_base_test)),2)\n",
    "\n",
    "\n",
    "print('Training Data RMSE of model_base:',RMSE_Train_base )\n",
    "print('Test Data RMSE of model_base:',RMSE_Test_base)"
   ]
  },
  {
   "cell_type": "markdown",
   "id": "b1df3f7e",
   "metadata": {},
   "source": [
    "## model performance of model 4"
   ]
  },
  {
   "cell_type": "code",
   "execution_count": 167,
   "id": "95cc506a",
   "metadata": {},
   "outputs": [],
   "source": [
    "model_base = lr.fit(X_train[['carat', 'cut', 'color', 'clarity', 'depth', 'table']],Y_train)"
   ]
  },
  {
   "cell_type": "code",
   "execution_count": 168,
   "id": "e3204ddc",
   "metadata": {},
   "outputs": [],
   "source": [
    "#Training Data Prediction\n",
    "\n",
    "model_base_train = model_base.predict(X_train[['carat', 'cut', 'color', 'clarity', 'depth', 'table']])"
   ]
  },
  {
   "cell_type": "code",
   "execution_count": 169,
   "id": "7940be67",
   "metadata": {},
   "outputs": [],
   "source": [
    "#Test Data Prediction\n",
    "\n",
    "#Test Data Prediction\n",
    "\n",
    "model_base_test = model_base.predict(X_test[['carat', 'cut', 'color', 'clarity', 'depth', 'table']])"
   ]
  },
  {
   "cell_type": "code",
   "execution_count": 170,
   "id": "9344d24a",
   "metadata": {},
   "outputs": [
    {
     "name": "stdout",
     "output_type": "stream",
     "text": [
      "Training Data RMSE of model_base: 0.35\n",
      "Test Data RMSE of model_base: 0.35\n"
     ]
    }
   ],
   "source": [
    "RMSE_Train_base = np.round(np.sqrt(mean_squared_error(Y_train,model_base_train)),2)\n",
    "RMSE_Test_base = np.round(np.sqrt(mean_squared_error(Y_test,model_base_test)),2)\n",
    "\n",
    "\n",
    "print('Training Data RMSE of model_base:',RMSE_Train_base )\n",
    "print('Test Data RMSE of model_base:',RMSE_Test_base)"
   ]
  },
  {
   "cell_type": "code",
   "execution_count": 171,
   "id": "2d926c93",
   "metadata": {},
   "outputs": [
    {
     "data": {
      "text/html": [
       "<div>\n",
       "<style scoped>\n",
       "    .dataframe tbody tr th:only-of-type {\n",
       "        vertical-align: middle;\n",
       "    }\n",
       "\n",
       "    .dataframe tbody tr th {\n",
       "        vertical-align: top;\n",
       "    }\n",
       "\n",
       "    .dataframe thead th {\n",
       "        text-align: right;\n",
       "    }\n",
       "</style>\n",
       "<table border=\"1\" class=\"dataframe\">\n",
       "  <thead>\n",
       "    <tr style=\"text-align: right;\">\n",
       "      <th></th>\n",
       "      <th>RMSE Training Data</th>\n",
       "      <th>RMSE Test Data</th>\n",
       "    </tr>\n",
       "  </thead>\n",
       "  <tbody>\n",
       "    <tr>\n",
       "      <th>Model_base</th>\n",
       "      <td>0.35</td>\n",
       "      <td>0.35</td>\n",
       "    </tr>\n",
       "  </tbody>\n",
       "</table>\n",
       "</div>"
      ],
      "text/plain": [
       "            RMSE Training Data  RMSE Test Data\n",
       "Model_base                0.35            0.35"
      ]
     },
     "execution_count": 171,
     "metadata": {},
     "output_type": "execute_result"
    }
   ],
   "source": [
    "resultDf_M4 = pd.DataFrame({'RMSE Training Data':[RMSE_Train_base],'RMSE Test Data':[RMSE_Test_base]},index=['Model_base'])\n",
    "resultDf_M4"
   ]
  },
  {
   "cell_type": "markdown",
   "id": "c062e76e",
   "metadata": {},
   "source": [
    "## Model performance of model 3"
   ]
  },
  {
   "cell_type": "code",
   "execution_count": 180,
   "id": "ba71aada",
   "metadata": {},
   "outputs": [],
   "source": [
    "model_base = lr.fit(X_train[['carat', 'cut', 'color', 'clarity', 'depth', 'table', 'x']],Y_train)"
   ]
  },
  {
   "cell_type": "code",
   "execution_count": 181,
   "id": "54e4463f",
   "metadata": {},
   "outputs": [],
   "source": [
    "#Training Data Prediction\n",
    "\n",
    "model_base_train = model_base.predict(X_train[['carat', 'cut', 'color', 'clarity', 'depth', 'table', 'x']])"
   ]
  },
  {
   "cell_type": "code",
   "execution_count": 182,
   "id": "f04284a7",
   "metadata": {},
   "outputs": [],
   "source": [
    "#Test Data Prediction\n",
    "\n",
    "#Test Data Prediction\n",
    "\n",
    "model_base_test = model_base.predict(X_test[['carat', 'cut', 'color', 'clarity', 'depth', 'table', 'x']])"
   ]
  },
  {
   "cell_type": "code",
   "execution_count": 183,
   "id": "18448e33",
   "metadata": {},
   "outputs": [
    {
     "name": "stdout",
     "output_type": "stream",
     "text": [
      "Training Data RMSE of model_base: 0.23\n",
      "Test Data RMSE of model_base: 0.23\n"
     ]
    }
   ],
   "source": [
    "RMSE_Train_base = np.round(np.sqrt(mean_squared_error(Y_train,model_base_train)),2)\n",
    "RMSE_Test_base = np.round(np.sqrt(mean_squared_error(Y_test,model_base_test)),2)\n",
    "\n",
    "\n",
    "print('Training Data RMSE of model_base:',RMSE_Train_base )\n",
    "print('Test Data RMSE of model_base:',RMSE_Test_base)"
   ]
  },
  {
   "cell_type": "code",
   "execution_count": 184,
   "id": "d7636eb9",
   "metadata": {},
   "outputs": [
    {
     "data": {
      "text/html": [
       "<div>\n",
       "<style scoped>\n",
       "    .dataframe tbody tr th:only-of-type {\n",
       "        vertical-align: middle;\n",
       "    }\n",
       "\n",
       "    .dataframe tbody tr th {\n",
       "        vertical-align: top;\n",
       "    }\n",
       "\n",
       "    .dataframe thead th {\n",
       "        text-align: right;\n",
       "    }\n",
       "</style>\n",
       "<table border=\"1\" class=\"dataframe\">\n",
       "  <thead>\n",
       "    <tr style=\"text-align: right;\">\n",
       "      <th></th>\n",
       "      <th>RMSE Training Data</th>\n",
       "      <th>RMSE Test Data</th>\n",
       "    </tr>\n",
       "  </thead>\n",
       "  <tbody>\n",
       "    <tr>\n",
       "      <th>Model_base</th>\n",
       "      <td>0.35</td>\n",
       "      <td>0.35</td>\n",
       "    </tr>\n",
       "  </tbody>\n",
       "</table>\n",
       "</div>"
      ],
      "text/plain": [
       "            RMSE Training Data  RMSE Test Data\n",
       "Model_base                0.35            0.35"
      ]
     },
     "execution_count": 184,
     "metadata": {},
     "output_type": "execute_result"
    }
   ],
   "source": [
    "resultDf = pd.DataFrame({'RMSE Training Data':[RMSE_Train_base_3],'RMSE Test Data':[RMSE_Test_base_3]},index=['Model_base'])\n",
    "resultDf"
   ]
  },
  {
   "cell_type": "code",
   "execution_count": null,
   "id": "8afef75d",
   "metadata": {},
   "outputs": [],
   "source": []
  },
  {
   "cell_type": "code",
   "execution_count": null,
   "id": "8741d338",
   "metadata": {},
   "outputs": [],
   "source": []
  },
  {
   "cell_type": "code",
   "execution_count": 189,
   "id": "73859704",
   "metadata": {},
   "outputs": [],
   "source": [
    "model_base = lr.fit(X_train[['carat', 'cut', 'color', 'clarity', 'depth', 'table', 'x', 'y']],Y_train)"
   ]
  },
  {
   "cell_type": "code",
   "execution_count": 190,
   "id": "8214285f",
   "metadata": {},
   "outputs": [],
   "source": [
    "#Training Data Prediction\n",
    "\n",
    "model_base_train = model_base.predict(X_train[['carat', 'cut', 'color', 'clarity', 'depth', 'table', 'x', 'y']])"
   ]
  },
  {
   "cell_type": "code",
   "execution_count": 191,
   "id": "cb66ada6",
   "metadata": {},
   "outputs": [],
   "source": [
    "#Test Data Prediction\n",
    "\n",
    "model_base_test = model_base.predict(X_test[['carat', 'cut', 'color', 'clarity', 'depth', 'table', 'x', 'y']])"
   ]
  },
  {
   "cell_type": "code",
   "execution_count": 192,
   "id": "1176216a",
   "metadata": {},
   "outputs": [
    {
     "name": "stdout",
     "output_type": "stream",
     "text": [
      "Training Data RMSE of model_base: 0.23\n",
      "Test Data RMSE of model_base: 0.23\n"
     ]
    }
   ],
   "source": [
    "RMSE_Train_base = np.round(np.sqrt(mean_squared_error(Y_train,model_base_train)),2)\n",
    "RMSE_Test_base = np.round(np.sqrt(mean_squared_error(Y_test,model_base_test)),2)\n",
    "\n",
    "\n",
    "print('Training Data RMSE of model_base:',RMSE_Train_base )\n",
    "print('Test Data RMSE of model_base:',RMSE_Test_base)"
   ]
  },
  {
   "cell_type": "code",
   "execution_count": null,
   "id": "89253a18",
   "metadata": {},
   "outputs": [],
   "source": []
  }
 ],
 "metadata": {
  "kernelspec": {
   "display_name": "Python 3 (ipykernel)",
   "language": "python",
   "name": "python3"
  },
  "language_info": {
   "codemirror_mode": {
    "name": "ipython",
    "version": 3
   },
   "file_extension": ".py",
   "mimetype": "text/x-python",
   "name": "python",
   "nbconvert_exporter": "python",
   "pygments_lexer": "ipython3",
   "version": "3.9.7"
  }
 },
 "nbformat": 4,
 "nbformat_minor": 5
}
